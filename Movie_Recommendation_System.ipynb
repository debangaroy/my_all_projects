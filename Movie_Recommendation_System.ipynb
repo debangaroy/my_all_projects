{
  "nbformat": 4,
  "nbformat_minor": 0,
  "metadata": {
    "colab": {
      "provenance": []
    },
    "kernelspec": {
      "name": "python3",
      "display_name": "Python 3"
    },
    "language_info": {
      "name": "python"
    }
  },
  "cells": [
    {
      "cell_type": "code",
      "execution_count": 26,
      "metadata": {
        "id": "Mp9azjmxZE-Y"
      },
      "outputs": [],
      "source": [
        "import pandas as pd\n",
        "import numpy as np\n",
        "import difflib\n",
        "from sklearn.feature_extraction.text import TfidfVectorizer\n",
        "from sklearn.metrics.pairwise import cosine_similarity"
      ]
    },
    {
      "cell_type": "code",
      "source": [
        "movies_data=pd.read_csv('/content/data.csv')\n"
      ],
      "metadata": {
        "id": "f8aw6U_SZP7a"
      },
      "execution_count": 27,
      "outputs": []
    },
    {
      "cell_type": "code",
      "source": [
        "movies_data.head()"
      ],
      "metadata": {
        "colab": {
          "base_uri": "https://localhost:8080/",
          "height": 293
        },
        "id": "lYSwUhleZyn8",
        "outputId": "7766436d-5d6b-41b9-b3c8-6ea64260491c"
      },
      "execution_count": 28,
      "outputs": [
        {
          "output_type": "execute_result",
          "data": {
            "text/plain": [
              "       director_name     actor_1_name      actor_2_name          actor_3_name  \\\n",
              "0      James Cameron      CCH Pounder  Joel David Moore             Wes Studi   \n",
              "1     Gore Verbinski      Johnny Depp     Orlando Bloom        Jack Davenport   \n",
              "2         Sam Mendes  Christoph Waltz      Rory Kinnear      Stephanie Sigman   \n",
              "3  Christopher Nolan        Tom Hardy    Christian Bale  Joseph Gordon-Levitt   \n",
              "4        Doug Walker      Doug Walker        Rob Walker               unknown   \n",
              "\n",
              "                            genres  \\\n",
              "0  Action Adventure Fantasy Sci-Fi   \n",
              "1         Action Adventure Fantasy   \n",
              "2        Action Adventure Thriller   \n",
              "3                  Action Thriller   \n",
              "4                      Documentary   \n",
              "\n",
              "                                         movie_title  \n",
              "0                                             avatar  \n",
              "1           pirates of the caribbean: at world's end  \n",
              "2                                            spectre  \n",
              "3                              the dark knight rises  \n",
              "4  star wars: episode vii - the force awakens    ...  "
            ],
            "text/html": [
              "\n",
              "  <div id=\"df-07ade18d-c724-4e19-871c-d63a69d1fc9c\" class=\"colab-df-container\">\n",
              "    <div>\n",
              "<style scoped>\n",
              "    .dataframe tbody tr th:only-of-type {\n",
              "        vertical-align: middle;\n",
              "    }\n",
              "\n",
              "    .dataframe tbody tr th {\n",
              "        vertical-align: top;\n",
              "    }\n",
              "\n",
              "    .dataframe thead th {\n",
              "        text-align: right;\n",
              "    }\n",
              "</style>\n",
              "<table border=\"1\" class=\"dataframe\">\n",
              "  <thead>\n",
              "    <tr style=\"text-align: right;\">\n",
              "      <th></th>\n",
              "      <th>director_name</th>\n",
              "      <th>actor_1_name</th>\n",
              "      <th>actor_2_name</th>\n",
              "      <th>actor_3_name</th>\n",
              "      <th>genres</th>\n",
              "      <th>movie_title</th>\n",
              "    </tr>\n",
              "  </thead>\n",
              "  <tbody>\n",
              "    <tr>\n",
              "      <th>0</th>\n",
              "      <td>James Cameron</td>\n",
              "      <td>CCH Pounder</td>\n",
              "      <td>Joel David Moore</td>\n",
              "      <td>Wes Studi</td>\n",
              "      <td>Action Adventure Fantasy Sci-Fi</td>\n",
              "      <td>avatar</td>\n",
              "    </tr>\n",
              "    <tr>\n",
              "      <th>1</th>\n",
              "      <td>Gore Verbinski</td>\n",
              "      <td>Johnny Depp</td>\n",
              "      <td>Orlando Bloom</td>\n",
              "      <td>Jack Davenport</td>\n",
              "      <td>Action Adventure Fantasy</td>\n",
              "      <td>pirates of the caribbean: at world's end</td>\n",
              "    </tr>\n",
              "    <tr>\n",
              "      <th>2</th>\n",
              "      <td>Sam Mendes</td>\n",
              "      <td>Christoph Waltz</td>\n",
              "      <td>Rory Kinnear</td>\n",
              "      <td>Stephanie Sigman</td>\n",
              "      <td>Action Adventure Thriller</td>\n",
              "      <td>spectre</td>\n",
              "    </tr>\n",
              "    <tr>\n",
              "      <th>3</th>\n",
              "      <td>Christopher Nolan</td>\n",
              "      <td>Tom Hardy</td>\n",
              "      <td>Christian Bale</td>\n",
              "      <td>Joseph Gordon-Levitt</td>\n",
              "      <td>Action Thriller</td>\n",
              "      <td>the dark knight rises</td>\n",
              "    </tr>\n",
              "    <tr>\n",
              "      <th>4</th>\n",
              "      <td>Doug Walker</td>\n",
              "      <td>Doug Walker</td>\n",
              "      <td>Rob Walker</td>\n",
              "      <td>unknown</td>\n",
              "      <td>Documentary</td>\n",
              "      <td>star wars: episode vii - the force awakens    ...</td>\n",
              "    </tr>\n",
              "  </tbody>\n",
              "</table>\n",
              "</div>\n",
              "    <div class=\"colab-df-buttons\">\n",
              "\n",
              "  <div class=\"colab-df-container\">\n",
              "    <button class=\"colab-df-convert\" onclick=\"convertToInteractive('df-07ade18d-c724-4e19-871c-d63a69d1fc9c')\"\n",
              "            title=\"Convert this dataframe to an interactive table.\"\n",
              "            style=\"display:none;\">\n",
              "\n",
              "  <svg xmlns=\"http://www.w3.org/2000/svg\" height=\"24px\" viewBox=\"0 -960 960 960\">\n",
              "    <path d=\"M120-120v-720h720v720H120Zm60-500h600v-160H180v160Zm220 220h160v-160H400v160Zm0 220h160v-160H400v160ZM180-400h160v-160H180v160Zm440 0h160v-160H620v160ZM180-180h160v-160H180v160Zm440 0h160v-160H620v160Z\"/>\n",
              "  </svg>\n",
              "    </button>\n",
              "\n",
              "  <style>\n",
              "    .colab-df-container {\n",
              "      display:flex;\n",
              "      gap: 12px;\n",
              "    }\n",
              "\n",
              "    .colab-df-convert {\n",
              "      background-color: #E8F0FE;\n",
              "      border: none;\n",
              "      border-radius: 50%;\n",
              "      cursor: pointer;\n",
              "      display: none;\n",
              "      fill: #1967D2;\n",
              "      height: 32px;\n",
              "      padding: 0 0 0 0;\n",
              "      width: 32px;\n",
              "    }\n",
              "\n",
              "    .colab-df-convert:hover {\n",
              "      background-color: #E2EBFA;\n",
              "      box-shadow: 0px 1px 2px rgba(60, 64, 67, 0.3), 0px 1px 3px 1px rgba(60, 64, 67, 0.15);\n",
              "      fill: #174EA6;\n",
              "    }\n",
              "\n",
              "    .colab-df-buttons div {\n",
              "      margin-bottom: 4px;\n",
              "    }\n",
              "\n",
              "    [theme=dark] .colab-df-convert {\n",
              "      background-color: #3B4455;\n",
              "      fill: #D2E3FC;\n",
              "    }\n",
              "\n",
              "    [theme=dark] .colab-df-convert:hover {\n",
              "      background-color: #434B5C;\n",
              "      box-shadow: 0px 1px 3px 1px rgba(0, 0, 0, 0.15);\n",
              "      filter: drop-shadow(0px 1px 2px rgba(0, 0, 0, 0.3));\n",
              "      fill: #FFFFFF;\n",
              "    }\n",
              "  </style>\n",
              "\n",
              "    <script>\n",
              "      const buttonEl =\n",
              "        document.querySelector('#df-07ade18d-c724-4e19-871c-d63a69d1fc9c button.colab-df-convert');\n",
              "      buttonEl.style.display =\n",
              "        google.colab.kernel.accessAllowed ? 'block' : 'none';\n",
              "\n",
              "      async function convertToInteractive(key) {\n",
              "        const element = document.querySelector('#df-07ade18d-c724-4e19-871c-d63a69d1fc9c');\n",
              "        const dataTable =\n",
              "          await google.colab.kernel.invokeFunction('convertToInteractive',\n",
              "                                                    [key], {});\n",
              "        if (!dataTable) return;\n",
              "\n",
              "        const docLinkHtml = 'Like what you see? Visit the ' +\n",
              "          '<a target=\"_blank\" href=https://colab.research.google.com/notebooks/data_table.ipynb>data table notebook</a>'\n",
              "          + ' to learn more about interactive tables.';\n",
              "        element.innerHTML = '';\n",
              "        dataTable['output_type'] = 'display_data';\n",
              "        await google.colab.output.renderOutput(dataTable, element);\n",
              "        const docLink = document.createElement('div');\n",
              "        docLink.innerHTML = docLinkHtml;\n",
              "        element.appendChild(docLink);\n",
              "      }\n",
              "    </script>\n",
              "  </div>\n",
              "\n",
              "\n",
              "<div id=\"df-051e7e9f-d834-4623-9f3e-0f1335463319\">\n",
              "  <button class=\"colab-df-quickchart\" onclick=\"quickchart('df-051e7e9f-d834-4623-9f3e-0f1335463319')\"\n",
              "            title=\"Suggest charts.\"\n",
              "            style=\"display:none;\">\n",
              "\n",
              "<svg xmlns=\"http://www.w3.org/2000/svg\" height=\"24px\"viewBox=\"0 0 24 24\"\n",
              "     width=\"24px\">\n",
              "    <g>\n",
              "        <path d=\"M19 3H5c-1.1 0-2 .9-2 2v14c0 1.1.9 2 2 2h14c1.1 0 2-.9 2-2V5c0-1.1-.9-2-2-2zM9 17H7v-7h2v7zm4 0h-2V7h2v10zm4 0h-2v-4h2v4z\"/>\n",
              "    </g>\n",
              "</svg>\n",
              "  </button>\n",
              "\n",
              "<style>\n",
              "  .colab-df-quickchart {\n",
              "      --bg-color: #E8F0FE;\n",
              "      --fill-color: #1967D2;\n",
              "      --hover-bg-color: #E2EBFA;\n",
              "      --hover-fill-color: #174EA6;\n",
              "      --disabled-fill-color: #AAA;\n",
              "      --disabled-bg-color: #DDD;\n",
              "  }\n",
              "\n",
              "  [theme=dark] .colab-df-quickchart {\n",
              "      --bg-color: #3B4455;\n",
              "      --fill-color: #D2E3FC;\n",
              "      --hover-bg-color: #434B5C;\n",
              "      --hover-fill-color: #FFFFFF;\n",
              "      --disabled-bg-color: #3B4455;\n",
              "      --disabled-fill-color: #666;\n",
              "  }\n",
              "\n",
              "  .colab-df-quickchart {\n",
              "    background-color: var(--bg-color);\n",
              "    border: none;\n",
              "    border-radius: 50%;\n",
              "    cursor: pointer;\n",
              "    display: none;\n",
              "    fill: var(--fill-color);\n",
              "    height: 32px;\n",
              "    padding: 0;\n",
              "    width: 32px;\n",
              "  }\n",
              "\n",
              "  .colab-df-quickchart:hover {\n",
              "    background-color: var(--hover-bg-color);\n",
              "    box-shadow: 0 1px 2px rgba(60, 64, 67, 0.3), 0 1px 3px 1px rgba(60, 64, 67, 0.15);\n",
              "    fill: var(--button-hover-fill-color);\n",
              "  }\n",
              "\n",
              "  .colab-df-quickchart-complete:disabled,\n",
              "  .colab-df-quickchart-complete:disabled:hover {\n",
              "    background-color: var(--disabled-bg-color);\n",
              "    fill: var(--disabled-fill-color);\n",
              "    box-shadow: none;\n",
              "  }\n",
              "\n",
              "  .colab-df-spinner {\n",
              "    border: 2px solid var(--fill-color);\n",
              "    border-color: transparent;\n",
              "    border-bottom-color: var(--fill-color);\n",
              "    animation:\n",
              "      spin 1s steps(1) infinite;\n",
              "  }\n",
              "\n",
              "  @keyframes spin {\n",
              "    0% {\n",
              "      border-color: transparent;\n",
              "      border-bottom-color: var(--fill-color);\n",
              "      border-left-color: var(--fill-color);\n",
              "    }\n",
              "    20% {\n",
              "      border-color: transparent;\n",
              "      border-left-color: var(--fill-color);\n",
              "      border-top-color: var(--fill-color);\n",
              "    }\n",
              "    30% {\n",
              "      border-color: transparent;\n",
              "      border-left-color: var(--fill-color);\n",
              "      border-top-color: var(--fill-color);\n",
              "      border-right-color: var(--fill-color);\n",
              "    }\n",
              "    40% {\n",
              "      border-color: transparent;\n",
              "      border-right-color: var(--fill-color);\n",
              "      border-top-color: var(--fill-color);\n",
              "    }\n",
              "    60% {\n",
              "      border-color: transparent;\n",
              "      border-right-color: var(--fill-color);\n",
              "    }\n",
              "    80% {\n",
              "      border-color: transparent;\n",
              "      border-right-color: var(--fill-color);\n",
              "      border-bottom-color: var(--fill-color);\n",
              "    }\n",
              "    90% {\n",
              "      border-color: transparent;\n",
              "      border-bottom-color: var(--fill-color);\n",
              "    }\n",
              "  }\n",
              "</style>\n",
              "\n",
              "  <script>\n",
              "    async function quickchart(key) {\n",
              "      const quickchartButtonEl =\n",
              "        document.querySelector('#' + key + ' button');\n",
              "      quickchartButtonEl.disabled = true;  // To prevent multiple clicks.\n",
              "      quickchartButtonEl.classList.add('colab-df-spinner');\n",
              "      try {\n",
              "        const charts = await google.colab.kernel.invokeFunction(\n",
              "            'suggestCharts', [key], {});\n",
              "      } catch (error) {\n",
              "        console.error('Error during call to suggestCharts:', error);\n",
              "      }\n",
              "      quickchartButtonEl.classList.remove('colab-df-spinner');\n",
              "      quickchartButtonEl.classList.add('colab-df-quickchart-complete');\n",
              "    }\n",
              "    (() => {\n",
              "      let quickchartButtonEl =\n",
              "        document.querySelector('#df-051e7e9f-d834-4623-9f3e-0f1335463319 button');\n",
              "      quickchartButtonEl.style.display =\n",
              "        google.colab.kernel.accessAllowed ? 'block' : 'none';\n",
              "    })();\n",
              "  </script>\n",
              "</div>\n",
              "    </div>\n",
              "  </div>\n"
            ]
          },
          "metadata": {},
          "execution_count": 28
        }
      ]
    },
    {
      "cell_type": "code",
      "source": [
        "movies_data.shape"
      ],
      "metadata": {
        "colab": {
          "base_uri": "https://localhost:8080/"
        },
        "id": "KP6AetRDbffR",
        "outputId": "6928ba1f-2904-4b62-9f8d-7029f914ba55"
      },
      "execution_count": 29,
      "outputs": [
        {
          "output_type": "execute_result",
          "data": {
            "text/plain": [
              "(5043, 6)"
            ]
          },
          "metadata": {},
          "execution_count": 29
        }
      ]
    },
    {
      "cell_type": "code",
      "source": [
        "movies_data.isnull().sum()"
      ],
      "metadata": {
        "colab": {
          "base_uri": "https://localhost:8080/"
        },
        "id": "SZHY9yTAcahC",
        "outputId": "08863eba-2cfa-41a3-9f9d-0a045cd07d47"
      },
      "execution_count": 30,
      "outputs": [
        {
          "output_type": "execute_result",
          "data": {
            "text/plain": [
              "director_name    0\n",
              "actor_1_name     0\n",
              "actor_2_name     0\n",
              "actor_3_name     0\n",
              "genres           0\n",
              "movie_title      0\n",
              "dtype: int64"
            ]
          },
          "metadata": {},
          "execution_count": 30
        }
      ]
    },
    {
      "cell_type": "code",
      "source": [
        "movies_data=movies_data.reset_index()\n",
        "movies_data.head()"
      ],
      "metadata": {
        "colab": {
          "base_uri": "https://localhost:8080/",
          "height": 293
        },
        "id": "S8yq3e_5_B7c",
        "outputId": "e4aebb97-3c93-4030-c604-0127a0ac1903"
      },
      "execution_count": 31,
      "outputs": [
        {
          "output_type": "execute_result",
          "data": {
            "text/plain": [
              "   index      director_name     actor_1_name      actor_2_name  \\\n",
              "0      0      James Cameron      CCH Pounder  Joel David Moore   \n",
              "1      1     Gore Verbinski      Johnny Depp     Orlando Bloom   \n",
              "2      2         Sam Mendes  Christoph Waltz      Rory Kinnear   \n",
              "3      3  Christopher Nolan        Tom Hardy    Christian Bale   \n",
              "4      4        Doug Walker      Doug Walker        Rob Walker   \n",
              "\n",
              "           actor_3_name                           genres  \\\n",
              "0             Wes Studi  Action Adventure Fantasy Sci-Fi   \n",
              "1        Jack Davenport         Action Adventure Fantasy   \n",
              "2      Stephanie Sigman        Action Adventure Thriller   \n",
              "3  Joseph Gordon-Levitt                  Action Thriller   \n",
              "4               unknown                      Documentary   \n",
              "\n",
              "                                         movie_title  \n",
              "0                                             avatar  \n",
              "1           pirates of the caribbean: at world's end  \n",
              "2                                            spectre  \n",
              "3                              the dark knight rises  \n",
              "4  star wars: episode vii - the force awakens    ...  "
            ],
            "text/html": [
              "\n",
              "  <div id=\"df-9e75830c-5be6-4f0e-915b-0a9e7bfac91c\" class=\"colab-df-container\">\n",
              "    <div>\n",
              "<style scoped>\n",
              "    .dataframe tbody tr th:only-of-type {\n",
              "        vertical-align: middle;\n",
              "    }\n",
              "\n",
              "    .dataframe tbody tr th {\n",
              "        vertical-align: top;\n",
              "    }\n",
              "\n",
              "    .dataframe thead th {\n",
              "        text-align: right;\n",
              "    }\n",
              "</style>\n",
              "<table border=\"1\" class=\"dataframe\">\n",
              "  <thead>\n",
              "    <tr style=\"text-align: right;\">\n",
              "      <th></th>\n",
              "      <th>index</th>\n",
              "      <th>director_name</th>\n",
              "      <th>actor_1_name</th>\n",
              "      <th>actor_2_name</th>\n",
              "      <th>actor_3_name</th>\n",
              "      <th>genres</th>\n",
              "      <th>movie_title</th>\n",
              "    </tr>\n",
              "  </thead>\n",
              "  <tbody>\n",
              "    <tr>\n",
              "      <th>0</th>\n",
              "      <td>0</td>\n",
              "      <td>James Cameron</td>\n",
              "      <td>CCH Pounder</td>\n",
              "      <td>Joel David Moore</td>\n",
              "      <td>Wes Studi</td>\n",
              "      <td>Action Adventure Fantasy Sci-Fi</td>\n",
              "      <td>avatar</td>\n",
              "    </tr>\n",
              "    <tr>\n",
              "      <th>1</th>\n",
              "      <td>1</td>\n",
              "      <td>Gore Verbinski</td>\n",
              "      <td>Johnny Depp</td>\n",
              "      <td>Orlando Bloom</td>\n",
              "      <td>Jack Davenport</td>\n",
              "      <td>Action Adventure Fantasy</td>\n",
              "      <td>pirates of the caribbean: at world's end</td>\n",
              "    </tr>\n",
              "    <tr>\n",
              "      <th>2</th>\n",
              "      <td>2</td>\n",
              "      <td>Sam Mendes</td>\n",
              "      <td>Christoph Waltz</td>\n",
              "      <td>Rory Kinnear</td>\n",
              "      <td>Stephanie Sigman</td>\n",
              "      <td>Action Adventure Thriller</td>\n",
              "      <td>spectre</td>\n",
              "    </tr>\n",
              "    <tr>\n",
              "      <th>3</th>\n",
              "      <td>3</td>\n",
              "      <td>Christopher Nolan</td>\n",
              "      <td>Tom Hardy</td>\n",
              "      <td>Christian Bale</td>\n",
              "      <td>Joseph Gordon-Levitt</td>\n",
              "      <td>Action Thriller</td>\n",
              "      <td>the dark knight rises</td>\n",
              "    </tr>\n",
              "    <tr>\n",
              "      <th>4</th>\n",
              "      <td>4</td>\n",
              "      <td>Doug Walker</td>\n",
              "      <td>Doug Walker</td>\n",
              "      <td>Rob Walker</td>\n",
              "      <td>unknown</td>\n",
              "      <td>Documentary</td>\n",
              "      <td>star wars: episode vii - the force awakens    ...</td>\n",
              "    </tr>\n",
              "  </tbody>\n",
              "</table>\n",
              "</div>\n",
              "    <div class=\"colab-df-buttons\">\n",
              "\n",
              "  <div class=\"colab-df-container\">\n",
              "    <button class=\"colab-df-convert\" onclick=\"convertToInteractive('df-9e75830c-5be6-4f0e-915b-0a9e7bfac91c')\"\n",
              "            title=\"Convert this dataframe to an interactive table.\"\n",
              "            style=\"display:none;\">\n",
              "\n",
              "  <svg xmlns=\"http://www.w3.org/2000/svg\" height=\"24px\" viewBox=\"0 -960 960 960\">\n",
              "    <path d=\"M120-120v-720h720v720H120Zm60-500h600v-160H180v160Zm220 220h160v-160H400v160Zm0 220h160v-160H400v160ZM180-400h160v-160H180v160Zm440 0h160v-160H620v160ZM180-180h160v-160H180v160Zm440 0h160v-160H620v160Z\"/>\n",
              "  </svg>\n",
              "    </button>\n",
              "\n",
              "  <style>\n",
              "    .colab-df-container {\n",
              "      display:flex;\n",
              "      gap: 12px;\n",
              "    }\n",
              "\n",
              "    .colab-df-convert {\n",
              "      background-color: #E8F0FE;\n",
              "      border: none;\n",
              "      border-radius: 50%;\n",
              "      cursor: pointer;\n",
              "      display: none;\n",
              "      fill: #1967D2;\n",
              "      height: 32px;\n",
              "      padding: 0 0 0 0;\n",
              "      width: 32px;\n",
              "    }\n",
              "\n",
              "    .colab-df-convert:hover {\n",
              "      background-color: #E2EBFA;\n",
              "      box-shadow: 0px 1px 2px rgba(60, 64, 67, 0.3), 0px 1px 3px 1px rgba(60, 64, 67, 0.15);\n",
              "      fill: #174EA6;\n",
              "    }\n",
              "\n",
              "    .colab-df-buttons div {\n",
              "      margin-bottom: 4px;\n",
              "    }\n",
              "\n",
              "    [theme=dark] .colab-df-convert {\n",
              "      background-color: #3B4455;\n",
              "      fill: #D2E3FC;\n",
              "    }\n",
              "\n",
              "    [theme=dark] .colab-df-convert:hover {\n",
              "      background-color: #434B5C;\n",
              "      box-shadow: 0px 1px 3px 1px rgba(0, 0, 0, 0.15);\n",
              "      filter: drop-shadow(0px 1px 2px rgba(0, 0, 0, 0.3));\n",
              "      fill: #FFFFFF;\n",
              "    }\n",
              "  </style>\n",
              "\n",
              "    <script>\n",
              "      const buttonEl =\n",
              "        document.querySelector('#df-9e75830c-5be6-4f0e-915b-0a9e7bfac91c button.colab-df-convert');\n",
              "      buttonEl.style.display =\n",
              "        google.colab.kernel.accessAllowed ? 'block' : 'none';\n",
              "\n",
              "      async function convertToInteractive(key) {\n",
              "        const element = document.querySelector('#df-9e75830c-5be6-4f0e-915b-0a9e7bfac91c');\n",
              "        const dataTable =\n",
              "          await google.colab.kernel.invokeFunction('convertToInteractive',\n",
              "                                                    [key], {});\n",
              "        if (!dataTable) return;\n",
              "\n",
              "        const docLinkHtml = 'Like what you see? Visit the ' +\n",
              "          '<a target=\"_blank\" href=https://colab.research.google.com/notebooks/data_table.ipynb>data table notebook</a>'\n",
              "          + ' to learn more about interactive tables.';\n",
              "        element.innerHTML = '';\n",
              "        dataTable['output_type'] = 'display_data';\n",
              "        await google.colab.output.renderOutput(dataTable, element);\n",
              "        const docLink = document.createElement('div');\n",
              "        docLink.innerHTML = docLinkHtml;\n",
              "        element.appendChild(docLink);\n",
              "      }\n",
              "    </script>\n",
              "  </div>\n",
              "\n",
              "\n",
              "<div id=\"df-bc9cecdd-ec7a-4238-b271-716d44689b3f\">\n",
              "  <button class=\"colab-df-quickchart\" onclick=\"quickchart('df-bc9cecdd-ec7a-4238-b271-716d44689b3f')\"\n",
              "            title=\"Suggest charts.\"\n",
              "            style=\"display:none;\">\n",
              "\n",
              "<svg xmlns=\"http://www.w3.org/2000/svg\" height=\"24px\"viewBox=\"0 0 24 24\"\n",
              "     width=\"24px\">\n",
              "    <g>\n",
              "        <path d=\"M19 3H5c-1.1 0-2 .9-2 2v14c0 1.1.9 2 2 2h14c1.1 0 2-.9 2-2V5c0-1.1-.9-2-2-2zM9 17H7v-7h2v7zm4 0h-2V7h2v10zm4 0h-2v-4h2v4z\"/>\n",
              "    </g>\n",
              "</svg>\n",
              "  </button>\n",
              "\n",
              "<style>\n",
              "  .colab-df-quickchart {\n",
              "      --bg-color: #E8F0FE;\n",
              "      --fill-color: #1967D2;\n",
              "      --hover-bg-color: #E2EBFA;\n",
              "      --hover-fill-color: #174EA6;\n",
              "      --disabled-fill-color: #AAA;\n",
              "      --disabled-bg-color: #DDD;\n",
              "  }\n",
              "\n",
              "  [theme=dark] .colab-df-quickchart {\n",
              "      --bg-color: #3B4455;\n",
              "      --fill-color: #D2E3FC;\n",
              "      --hover-bg-color: #434B5C;\n",
              "      --hover-fill-color: #FFFFFF;\n",
              "      --disabled-bg-color: #3B4455;\n",
              "      --disabled-fill-color: #666;\n",
              "  }\n",
              "\n",
              "  .colab-df-quickchart {\n",
              "    background-color: var(--bg-color);\n",
              "    border: none;\n",
              "    border-radius: 50%;\n",
              "    cursor: pointer;\n",
              "    display: none;\n",
              "    fill: var(--fill-color);\n",
              "    height: 32px;\n",
              "    padding: 0;\n",
              "    width: 32px;\n",
              "  }\n",
              "\n",
              "  .colab-df-quickchart:hover {\n",
              "    background-color: var(--hover-bg-color);\n",
              "    box-shadow: 0 1px 2px rgba(60, 64, 67, 0.3), 0 1px 3px 1px rgba(60, 64, 67, 0.15);\n",
              "    fill: var(--button-hover-fill-color);\n",
              "  }\n",
              "\n",
              "  .colab-df-quickchart-complete:disabled,\n",
              "  .colab-df-quickchart-complete:disabled:hover {\n",
              "    background-color: var(--disabled-bg-color);\n",
              "    fill: var(--disabled-fill-color);\n",
              "    box-shadow: none;\n",
              "  }\n",
              "\n",
              "  .colab-df-spinner {\n",
              "    border: 2px solid var(--fill-color);\n",
              "    border-color: transparent;\n",
              "    border-bottom-color: var(--fill-color);\n",
              "    animation:\n",
              "      spin 1s steps(1) infinite;\n",
              "  }\n",
              "\n",
              "  @keyframes spin {\n",
              "    0% {\n",
              "      border-color: transparent;\n",
              "      border-bottom-color: var(--fill-color);\n",
              "      border-left-color: var(--fill-color);\n",
              "    }\n",
              "    20% {\n",
              "      border-color: transparent;\n",
              "      border-left-color: var(--fill-color);\n",
              "      border-top-color: var(--fill-color);\n",
              "    }\n",
              "    30% {\n",
              "      border-color: transparent;\n",
              "      border-left-color: var(--fill-color);\n",
              "      border-top-color: var(--fill-color);\n",
              "      border-right-color: var(--fill-color);\n",
              "    }\n",
              "    40% {\n",
              "      border-color: transparent;\n",
              "      border-right-color: var(--fill-color);\n",
              "      border-top-color: var(--fill-color);\n",
              "    }\n",
              "    60% {\n",
              "      border-color: transparent;\n",
              "      border-right-color: var(--fill-color);\n",
              "    }\n",
              "    80% {\n",
              "      border-color: transparent;\n",
              "      border-right-color: var(--fill-color);\n",
              "      border-bottom-color: var(--fill-color);\n",
              "    }\n",
              "    90% {\n",
              "      border-color: transparent;\n",
              "      border-bottom-color: var(--fill-color);\n",
              "    }\n",
              "  }\n",
              "</style>\n",
              "\n",
              "  <script>\n",
              "    async function quickchart(key) {\n",
              "      const quickchartButtonEl =\n",
              "        document.querySelector('#' + key + ' button');\n",
              "      quickchartButtonEl.disabled = true;  // To prevent multiple clicks.\n",
              "      quickchartButtonEl.classList.add('colab-df-spinner');\n",
              "      try {\n",
              "        const charts = await google.colab.kernel.invokeFunction(\n",
              "            'suggestCharts', [key], {});\n",
              "      } catch (error) {\n",
              "        console.error('Error during call to suggestCharts:', error);\n",
              "      }\n",
              "      quickchartButtonEl.classList.remove('colab-df-spinner');\n",
              "      quickchartButtonEl.classList.add('colab-df-quickchart-complete');\n",
              "    }\n",
              "    (() => {\n",
              "      let quickchartButtonEl =\n",
              "        document.querySelector('#df-bc9cecdd-ec7a-4238-b271-716d44689b3f button');\n",
              "      quickchartButtonEl.style.display =\n",
              "        google.colab.kernel.accessAllowed ? 'block' : 'none';\n",
              "    })();\n",
              "  </script>\n",
              "</div>\n",
              "    </div>\n",
              "  </div>\n"
            ]
          },
          "metadata": {},
          "execution_count": 31
        }
      ]
    },
    {
      "cell_type": "code",
      "source": [
        "combine_feature=movies_data[\"director_name\"]+\"\"+movies_data[\"actor_1_name\"]+\"\"+movies_data[\"actor_2_name\"]+\"\"+movies_data[\"actor_3_name\"]+\"\"+movies_data[\"genres\"]+\"\"+movies_data[\"movie_title\"]\n",
        "combine_feature"
      ],
      "metadata": {
        "colab": {
          "base_uri": "https://localhost:8080/"
        },
        "id": "XTCohsevB7x5",
        "outputId": "8fc127b9-8b91-4fcb-bf22-12e6a20026fb"
      },
      "execution_count": 32,
      "outputs": [
        {
          "output_type": "execute_result",
          "data": {
            "text/plain": [
              "0       James CameronCCH PounderJoel David MooreWes St...\n",
              "1       Gore VerbinskiJohnny DeppOrlando BloomJack Dav...\n",
              "2       Sam MendesChristoph WaltzRory KinnearStephanie...\n",
              "3       Christopher NolanTom HardyChristian BaleJoseph...\n",
              "4       Doug WalkerDoug WalkerRob WalkerunknownDocumen...\n",
              "                              ...                        \n",
              "5038    Scott SmithEric MabiusDaphne ZunigaCrystal Low...\n",
              "5039    unknownNatalie ZeaValorie CurrySam UnderwoodCr...\n",
              "5040    Benjamin RoberdsEva BoehnkeMaxwell MoodyDavid ...\n",
              "5041    Daniel HsiaAlan RuckDaniel HenneyEliza CoupeCo...\n",
              "5042    Jon GunnJohn AugustBrian HerzlingerJon GunnDoc...\n",
              "Length: 5043, dtype: object"
            ]
          },
          "metadata": {},
          "execution_count": 32
        }
      ]
    },
    {
      "cell_type": "code",
      "source": [
        "feature_vector=TfidfVectorizer()\n",
        "change_into_vector=feature_vector.fit_transform(combine_feature)\n"
      ],
      "metadata": {
        "id": "_XrkMx3SCLA5"
      },
      "execution_count": 33,
      "outputs": []
    },
    {
      "cell_type": "code",
      "source": [
        "print(change_into_vector)"
      ],
      "metadata": {
        "colab": {
          "base_uri": "https://localhost:8080/"
        },
        "id": "daRHMWyqEcrA",
        "outputId": "e0036589-e0b5-49b3-e1ce-20509d52428b"
      },
      "execution_count": 34,
      "outputs": [
        {
          "output_type": "stream",
          "name": "stdout",
          "text": [
            "  (0, 7238)\t0.41040545848728716\n",
            "  (0, 19668)\t0.14507754164551098\n",
            "  (0, 6845)\t0.17430429990671004\n",
            "  (0, 167)\t0.15712970991220312\n",
            "  (0, 21365)\t0.3915660245607118\n",
            "  (0, 15040)\t0.41040545848728716\n",
            "  (0, 4899)\t0.20622282270038442\n",
            "  (0, 17345)\t0.41040545848728716\n",
            "  (0, 2915)\t0.41040545848728716\n",
            "  (0, 11140)\t0.2330201849402702\n",
            "  (1, 6475)\t0.28400671940457933\n",
            "  (1, 24908)\t0.25270296251358676\n",
            "  (1, 886)\t0.2625422948024961\n",
            "  (1, 3054)\t0.3229912708616908\n",
            "  (1, 21783)\t0.1312874727245789\n",
            "  (1, 16173)\t0.13745309662819397\n",
            "  (1, 6938)\t0.3229912708616908\n",
            "  (1, 4892)\t0.3320954540756152\n",
            "  (1, 1922)\t0.3320954540756152\n",
            "  (1, 5185)\t0.3320954540756152\n",
            "  (1, 23404)\t0.315552611545192\n",
            "  (1, 8810)\t0.3038152779788077\n",
            "  (1, 167)\t0.13797506114352578\n",
            "  (2, 22558)\t0.4232088150056542\n",
            "  (2, 20196)\t0.4232088150056542\n",
            "  :\t:\n",
            "  (5040, 17113)\t0.34699073527900753\n",
            "  (5040, 3334)\t0.34699073527900753\n",
            "  (5040, 14996)\t0.34699073527900753\n",
            "  (5040, 1971)\t0.34699073527900753\n",
            "  (5040, 18336)\t0.34699073527900753\n",
            "  (5040, 20540)\t0.3038325112241624\n",
            "  (5040, 21947)\t0.2527910776646277\n",
            "  (5040, 1557)\t0.3109948875049531\n",
            "  (5040, 10435)\t0.15700074491975935\n",
            "  (5041, 4277)\t0.39637078653394525\n",
            "  (5041, 9932)\t0.39637078653394525\n",
            "  (5041, 19171)\t0.39637078653394525\n",
            "  (5041, 10608)\t0.39637078653394525\n",
            "  (5041, 2898)\t0.36526592065428826\n",
            "  (5041, 18912)\t0.37817560640438497\n",
            "  (5041, 4803)\t0.28876563001638744\n",
            "  (5041, 5660)\t0.1083477142367862\n",
            "  (5042, 9235)\t0.39482960594523425\n",
            "  (5042, 10016)\t0.39482960594523425\n",
            "  (5042, 932)\t0.39482960594523425\n",
            "  (5042, 9238)\t0.39482960594523425\n",
            "  (5042, 5958)\t0.3538710876122683\n",
            "  (5042, 4885)\t0.3538710876122683\n",
            "  (5042, 24758)\t0.24919154354753068\n",
            "  (5042, 11423)\t0.2527694807628959\n"
          ]
        }
      ]
    },
    {
      "cell_type": "code",
      "source": [
        "similarty=cosine_similarity(change_into_vector)\n"
      ],
      "metadata": {
        "id": "9ihHyALkEjvk"
      },
      "execution_count": 35,
      "outputs": []
    },
    {
      "cell_type": "code",
      "source": [
        "similarty.shape"
      ],
      "metadata": {
        "colab": {
          "base_uri": "https://localhost:8080/"
        },
        "id": "FZxHEo0BE1Db",
        "outputId": "4fd62950-f6dc-4ced-d766-1c4879a1a25c"
      },
      "execution_count": 36,
      "outputs": [
        {
          "output_type": "execute_result",
          "data": {
            "text/plain": [
              "(5043, 5043)"
            ]
          },
          "metadata": {},
          "execution_count": 36
        }
      ]
    },
    {
      "cell_type": "code",
      "source": [
        "movie_user=str(input(\"enter the movie:\"))\n"
      ],
      "metadata": {
        "colab": {
          "base_uri": "https://localhost:8080/"
        },
        "id": "3JY6vBEqE8ML",
        "outputId": "b00c8224-75f1-49d0-ee3c-cdafb6574965"
      },
      "execution_count": 37,
      "outputs": [
        {
          "name": "stdout",
          "output_type": "stream",
          "text": [
            "enter the movie:spider man\n"
          ]
        }
      ]
    },
    {
      "cell_type": "code",
      "source": [
        "all_movies_name=list(movies_data[\"movie_title\"])\n",
        "print(all_movies_name)"
      ],
      "metadata": {
        "id": "iiKdvyipFgv5"
      },
      "execution_count": null,
      "outputs": []
    },
    {
      "cell_type": "code",
      "source": [
        "check_close_title=difflib.get_close_matches(movie_user,all_movies_name)\n",
        "check_close_title"
      ],
      "metadata": {
        "colab": {
          "base_uri": "https://localhost:8080/"
        },
        "id": "F3Z0FRxcGA_l",
        "outputId": "418982dd-5cc7-40da-aeb5-5373c8d8c992"
      },
      "execution_count": 39,
      "outputs": [
        {
          "output_type": "execute_result",
          "data": {
            "text/plain": [
              "['spider-man', 'spider-man 3', 'spider-man 3']"
            ]
          },
          "metadata": {},
          "execution_count": 39
        }
      ]
    },
    {
      "cell_type": "code",
      "source": [
        "closest_title_index=movies_data[movies_data.movie_title==check_close_title[0]][\"index\"].values[0]"
      ],
      "metadata": {
        "id": "sUH-dS6PGBDQ"
      },
      "execution_count": 45,
      "outputs": []
    },
    {
      "cell_type": "code",
      "source": [
        "print(closest_title_index)"
      ],
      "metadata": {
        "colab": {
          "base_uri": "https://localhost:8080/"
        },
        "id": "zy9niyxIHGIF",
        "outputId": "c957c683-cbec-4d0a-9839-76b279ae9f71"
      },
      "execution_count": 46,
      "outputs": [
        {
          "output_type": "stream",
          "name": "stdout",
          "text": [
            "161\n"
          ]
        }
      ]
    },
    {
      "cell_type": "code",
      "source": [
        "similarity_index=list(enumerate(similarty[closest_title_index]))"
      ],
      "metadata": {
        "id": "1_O6oEXLHPDA"
      },
      "execution_count": 52,
      "outputs": []
    },
    {
      "cell_type": "code",
      "source": [
        "print(similarity_index)"
      ],
      "metadata": {
        "colab": {
          "base_uri": "https://localhost:8080/"
        },
        "id": "vdXHZA7BHoLd",
        "outputId": "697ae3b0-a868-47ea-c619-f225f1e6c4ac"
      },
      "execution_count": 55,
      "outputs": [
        {
          "output_type": "stream",
          "name": "stdout",
          "text": [
            "[(0, 0.05942782727708596), (1, 0.02339483571656261), (2, 0.10932445644919604), (3, 0.0), (4, 0.0), (5, 0.025719150529795547), (6, 0.9821515072797545), (7, 0.030517727339484286), (8, 0.02297679699567676), (9, 0.027675174032963483), (10, 0.022278488531169663), (11, 0.025693099532906192), (12, 0.0), (13, 0.07928472423182018), (14, 0.025120241391876776), (15, 0.054630123685400385), (16, 0.022327295878034985), (17, 0.025528649714342596), (18, 0.022242699076836712), (19, 0.05654983120052353), (20, 0.0), (21, 0.08492570194572872), (22, 0.025419675912680656), (23, 0.0), (24, 0.0), (25, 0.027323885898093012), (26, 0.0), (27, 0.022777694779513136), (28, 0.02695637015417112), (29, 0.02431539039775475), (30, 0.11468333094667338), (31, 1.0), (32, 0.0889093507699853), (33, 0.0), (34, 0.05104239541524355), (35, 0.0), (36, 0.024614596182474784), (37, 0.024594304612919955), (38, 0.07327108017214924), (39, 0.1127423006327827), (40, 0.026014131072043985), (41, 0.0), (42, 0.025109118904526048), (43, 0.0), (44, 0.027087695545694627), (45, 0.0), (46, 0.02525722881364817), (47, 0.048812096918173245), (48, 0.024406776488376615), (49, 0.0), (50, 0.0), (51, 0.04839219289048227), (52, 0.022151684514299875), (53, 0.02533254586426946), (54, 0.02098675197557206), (55, 0.0), (56, 0.0), (57, 0.02463403933349879), (58, 0.0), (59, 0.0), (60, 0.026772903251270245), (61, 0.0), (62, 0.024522656469556876), (63, 0.026543987200305732), (64, 0.0), (65, 0.024856135356529245), (66, 0.0), (67, 0.0), (68, 0.023151733309606366), (69, 0.09133339372455562), (70, 0.0), (71, 0.0), (72, 0.05016927892724511), (73, 0.023926097925812514), (74, 0.0), (75, 0.02513935094343818), (76, 0.026775335714045334), (77, 0.022304455666032667), (78, 0.0), (79, 0.0), (80, 0.08962106376155292), (81, 0.023073722486407575), (82, 0.05812399517559312), (83, 0.021418407099083662), (84, 0.026684376043931396), (85, 0.0235810570471037), (86, 0.022882059422482684), (87, 0.0), (88, 0.026567053297698217), (89, 0.02321731980231368), (90, 0.0), (91, 0.0), (92, 0.024608971147635987), (93, 0.0), (94, 0.0), (95, 0.02529667690520473), (96, 0.0), (97, 0.026129644513210284), (98, 0.023377799077281058), (99, 0.0), (100, 0.0), (101, 0.02786796323625461), (102, 0.023492528482755518), (103, 0.0), (104, 0.023499322250005727), (105, 0.026909264932466946), (106, 0.0), (107, 0.0), (108, 0.026816954476595524), (109, 0.0256279076384724), (110, 0.0), (111, 0.0), (112, 0.028646155323652323), (113, 0.02445938349879176), (114, 0.02736952178331345), (115, 0.02834581864498247), (116, 0.0), (117, 0.0), (118, 0.0), (119, 0.0), (120, 0.0), (121, 0.022951722254311396), (122, 0.0), (123, 0.049888853647342246), (124, 0.0), (125, 0.03226013218235476), (126, 0.0), (127, 0.025713346901839143), (128, 0.023258357130078247), (129, 0.0), (130, 0.028072318671612334), (131, 0.0), (132, 0.04918450651550646), (133, 0.02546320597841422), (134, 0.031435842912397864), (135, 0.02362892858388376), (136, 0.03267510489021154), (137, 0.026543987200305732), (138, 0.0), (139, 0.02176414031352018), (140, 0.025482119425753375), (141, 0.025428168895305893), (142, 0.0), (143, 0.022056795422149902), (144, 0.0), (145, 0.0), (146, 0.0), (147, 0.0), (148, 0.0), (149, 0.02515484529663507), (150, 0.032512390887203195), (151, 0.027709871109261392), (152, 0.05384972894493718), (153, 0.02738223705374784), (154, 0.02257743621298758), (155, 0.02309318910255382), (156, 0.0), (157, 0.0), (158, 0.0), (159, 0.02453938796153944), (160, 0.027712867277062774), (161, 1.0), (162, 0.022576585425541897), (163, 0.025156606195813676), (164, 0.0269954216761145), (165, 0.0), (166, 0.0), (167, 0.0), (168, 0.024190894463550487), (169, 0.02663962430239967), (170, 0.07005703424236912), (171, 0.02343944204623465), (172, 0.022876320541442476), (173, 0.02069989911110154), (174, 0.02818046779189697), (175, 0.0), (176, 0.02420905837612948), (177, 0.0), (178, 0.0), (179, 0.0), (180, 0.0), (181, 0.0), (182, 0.0), (183, 0.0), (184, 0.023288839665689322), (185, 0.08919061470993885), (186, 0.0), (187, 0.02818046779189697), (188, 0.0340343079919467), (189, 0.0), (190, 0.0), (191, 0.02415698262491784), (192, 0.0), (193, 0.02709057507453314), (194, 0.02479359731756883), (195, 0.02690064388800921), (196, 0.0), (197, 0.025888531734210726), (198, 0.0), (199, 0.0), (200, 0.0), (201, 0.0), (202, 0.0), (203, 0.0), (204, 0.023377799077281058), (205, 0.020763225150253608), (206, 0.0), (207, 0.0), (208, 0.0), (209, 0.0), (210, 0.05705107044064825), (211, 0.0), (212, 0.02204548199648295), (213, 0.025783110045812963), (214, 0.0), (215, 0.02565944379123931), (216, 0.02559942194244695), (217, 0.0), (218, 0.0), (219, 0.024577870049459907), (220, 0.026038209887091913), (221, 0.024464663204517373), (222, 0.022151876508319047), (223, 0.0), (224, 0.031444664452438965), (225, 0.0), (226, 0.02334030877584843), (227, 0.0), (228, 0.0), (229, 0.0), (230, 0.02548924882722794), (231, 0.0), (232, 0.0), (233, 0.0), (234, 0.0), (235, 0.0271181379764858), (236, 0.048469277240292624), (237, 0.04808816027146655), (238, 0.0), (239, 0.02696337780411737), (240, 0.049238417223374506), (241, 0.0), (242, 0.0), (243, 0.0), (244, 0.02203785233895642), (245, 0.023881918260597317), (246, 0.0), (247, 0.023461227211802937), (248, 0.02078720171536103), (249, 0.024795162491247517), (250, 0.024738817158125936), (251, 0.024996650456186903), (252, 0.02349969953374712), (253, 0.0), (254, 0.0), (255, 0.0), (256, 0.0), (257, 0.0), (258, 0.0), (259, 0.0), (260, 0.02717175379909264), (261, 0.027592996433422695), (262, 0.0), (263, 0.0), (264, 0.026787322476774594), (265, 0.0), (266, 0.0), (267, 0.0), (268, 0.0), (269, 0.021935709322485356), (270, 0.020795475912114527), (271, 0.02329130506412663), (272, 0.0), (273, 0.0), (274, 0.0), (275, 0.024773478338445166), (276, 0.0), (277, 0.027535702024596164), (278, 0.0), (279, 0.0), (280, 0.028353061081124238), (281, 0.0), (282, 0.0), (283, 0.0), (284, 0.0), (285, 0.027814190147555606), (286, 0.02659097149000436), (287, 0.024591347127494233), (288, 0.0), (289, 0.0), (290, 0.0), (291, 0.0), (292, 0.0), (293, 0.0), (294, 0.0), (295, 0.0), (296, 0.0), (297, 0.0), (298, 0.0), (299, 0.027854802985681507), (300, 0.02495859642368315), (301, 0.026166756718464013), (302, 0.0), (303, 0.0), (304, 0.0), (305, 0.0), (306, 0.03186342689983018), (307, 0.0), (308, 0.0), (309, 0.025912881638351103), (310, 0.0), (311, 0.0), (312, 0.019365365055986062), (313, 0.03394903324361677), (314, 0.0), (315, 0.0), (316, 0.0), (317, 0.027902192868037554), (318, 0.0), (319, 0.0), (320, 0.02291745191032894), (321, 0.0), (322, 0.0), (323, 0.0), (324, 0.0), (325, 0.05645371110062801), (326, 0.0), (327, 0.0), (328, 0.0), (329, 0.0), (330, 0.0), (331, 0.0), (332, 0.024246768874813147), (333, 0.0), (334, 0.0), (335, 0.0), (336, 0.03457494041020957), (337, 0.0328652492347684), (338, 0.0), (339, 0.021472406684247658), (340, 0.022304299459684523), (341, 0.025424068290998907), (342, 0.048631140346913744), (343, 0.0), (344, 0.024548669596375104), (345, 0.0), (346, 0.0), (347, 0.0), (348, 0.0), (349, 0.025548253495068507), (350, 0.025878898123653352), (351, 0.0), (352, 0.0), (353, 0.0), (354, 0.0), (355, 0.0), (356, 0.029174762723716434), (357, 0.0), (358, 0.02237780752273715), (359, 0.028025562171758736), (360, 0.025073230863472382), (361, 0.0), (362, 0.02968347642141813), (363, 0.0), (364, 0.0), (365, 0.024590246856434173), (366, 0.024083738133182014), (367, 0.0), (368, 0.05172973789963339), (369, 0.025875414596571195), (370, 0.0), (371, 0.0), (372, 0.0), (373, 0.0), (374, 0.02915872894761331), (375, 0.0), (376, 0.06306397405564092), (377, 0.0), (378, 0.0), (379, 0.019700537497109923), (380, 0.023535497158418083), (381, 0.025923111691889364), (382, 0.0), (383, 0.0), (384, 0.0), (385, 0.06395313013112304), (386, 0.0), (387, 0.0), (388, 0.0), (389, 0.024795162491247517), (390, 0.0), (391, 0.06462088066429567), (392, 0.029296059781251937), (393, 0.0), (394, 0.024934610814436375), (395, 0.0), (396, 0.0), (397, 0.0), (398, 0.0), (399, 0.02400765289101801), (400, 0.0), (401, 0.0257796561535207), (402, 0.0), (403, 0.03192982782683922), (404, 0.0), (405, 0.0), (406, 0.0), (407, 0.0), (408, 0.0), (409, 0.0), (410, 0.0), (411, 0.0), (412, 0.0), (413, 0.0), (414, 0.0), (415, 0.026964242360362947), (416, 0.023615195565875886), (417, 0.0), (418, 0.0), (419, 0.0), (420, 0.03180624318747401), (421, 0.0), (422, 0.0), (423, 0.0), (424, 0.027877703028559304), (425, 0.02636331552798748), (426, 0.0), (427, 0.02361445353275974), (428, 0.0), (429, 0.033773057947457955), (430, 0.03527863843605707), (431, 0.0), (432, 0.026269482087537245), (433, 0.04773694189433544), (434, 0.0), (435, 0.0), (436, 0.0), (437, 0.027053608976004295), (438, 0.025041401803533068), (439, 0.0), (440, 0.0), (441, 0.0), (442, 0.0), (443, 0.027084449905971458), (444, 0.0), (445, 0.0), (446, 0.0), (447, 0.0), (448, 0.028194460354856888), (449, 0.0), (450, 0.02551247463685128), (451, 0.0), (452, 0.0), (453, 0.0), (454, 0.0), (455, 0.0), (456, 0.03089375600548343), (457, 0.07270340091098652), (458, 0.0), (459, 0.027567832225001084), (460, 0.0), (461, 0.0), (462, 0.0), (463, 0.025209708112389963), (464, 0.0), (465, 0.0), (466, 0.029260061071656265), (467, 0.0), (468, 0.0), (469, 0.0), (470, 0.0), (471, 0.023091310549565838), (472, 0.0), (473, 0.0), (474, 0.0), (475, 0.025071713763697618), (476, 0.0), (477, 0.0), (478, 0.0), (479, 0.0), (480, 0.03163769677814131), (481, 0.02539589882262177), (482, 0.054251078858615666), (483, 0.0), (484, 0.025322094925394577), (485, 0.027913384575342638), (486, 0.0), (487, 0.05485364637794715), (488, 0.0), (489, 0.0), (490, 0.027120169986320154), (491, 0.0), (492, 0.0), (493, 0.027378080023953262), (494, 0.0), (495, 0.025627327894714873), (496, 0.02690868751132467), (497, 0.0), (498, 0.027418486854504986), (499, 0.02544698669195001), (500, 0.0), (501, 0.024229405403647614), (502, 0.0), (503, 0.0), (504, 0.0), (505, 0.024044699250502774), (506, 0.02690717596870429), (507, 0.0), (508, 0.0), (509, 0.0), (510, 0.05208957214395195), (511, 0.027265449965007394), (512, 0.0), (513, 0.027765176910729716), (514, 0.0), (515, 0.0), (516, 0.0), (517, 0.0), (518, 0.0), (519, 0.0), (520, 0.05150416029807585), (521, 0.0), (522, 0.02607288631276945), (523, 0.022661817470994054), (524, 0.0), (525, 0.0), (526, 0.026077268908857764), (527, 0.03390061440465793), (528, 0.0287592551183259), (529, 0.02283036965524773), (530, 0.0), (531, 0.0), (532, 0.0), (533, 0.02485356834734448), (534, 0.0), (535, 0.0), (536, 0.0), (537, 0.03442445840375438), (538, 0.0), (539, 0.02565919571097229), (540, 0.0), (541, 0.0), (542, 0.0), (543, 0.0), (544, 0.0), (545, 0.0), (546, 0.0), (547, 0.0), (548, 0.08888396785512652), (549, 0.0), (550, 0.03065217364190503), (551, 0.0), (552, 0.025330965061217715), (553, 0.0), (554, 0.03245530118701317), (555, 0.0), (556, 0.0263307204561093), (557, 0.0), (558, 0.0), (559, 0.0), (560, 0.0), (561, 0.025533848829299037), (562, 0.0), (563, 0.0), (564, 0.0), (565, 0.0), (566, 0.0), (567, 0.0), (568, 0.024666468734220803), (569, 0.0), (570, 0.0), (571, 0.0), (572, 0.0), (573, 0.0), (574, 0.08306123922330891), (575, 0.0), (576, 0.0), (577, 0.0), (578, 0.0), (579, 0.0), (580, 0.0), (581, 0.0), (582, 0.03223477089899806), (583, 0.0), (584, 0.0), (585, 0.03074642929987725), (586, 0.0), (587, 0.0), (588, 0.0), (589, 0.0), (590, 0.0), (591, 0.0), (592, 0.025041186135834028), (593, 0.03174404997430948), (594, 0.0), (595, 0.029617207463390208), (596, 0.0), (597, 0.027214324880686484), (598, 0.0), (599, 0.0), (600, 0.02463602386578046), (601, 0.0), (602, 0.0), (603, 0.0), (604, 0.0), (605, 0.0), (606, 0.0), (607, 0.0), (608, 0.030384243661192443), (609, 0.0), (610, 0.03268085975895425), (611, 0.0), (612, 0.0), (613, 0.02586111783464511), (614, 0.02598175760939959), (615, 0.025825399765640935), (616, 0.03019150997744998), (617, 0.0), (618, 0.0), (619, 0.0), (620, 0.0), (621, 0.0), (622, 0.0), (623, 0.023287356064409175), (624, 0.026809780010751724), (625, 0.0), (626, 0.020699504395124312), (627, 0.0), (628, 0.0), (629, 0.024911771023618298), (630, 0.0), (631, 0.030207874011907405), (632, 0.0), (633, 0.0), (634, 0.0), (635, 0.0), (636, 0.0), (637, 0.030319029836984146), (638, 0.0), (639, 0.0), (640, 0.0), (641, 0.0), (642, 0.0), (643, 0.027923177604051514), (644, 0.0), (645, 0.06795261751715122), (646, 0.0), (647, 0.05538181394341228), (648, 0.0), (649, 0.0), (650, 0.030082319336714573), (651, 0.0), (652, 0.0), (653, 0.0), (654, 0.0), (655, 0.0), (656, 0.0), (657, 0.0), (658, 0.0), (659, 0.0), (660, 0.0), (661, 0.023752921191214478), (662, 0.0), (663, 0.0), (664, 0.025974278020115593), (665, 0.030132638930167755), (666, 0.0), (667, 0.0), (668, 0.0), (669, 0.0), (670, 0.0), (671, 0.0), (672, 0.0), (673, 0.0), (674, 0.0), (675, 0.05424358614504178), (676, 0.0), (677, 0.0), (678, 0.0), (679, 0.0), (680, 0.0), (681, 0.0), (682, 0.0779050554866999), (683, 0.0), (684, 0.0), (685, 0.0), (686, 0.026019834020294), (687, 0.0), (688, 0.031086145768775622), (689, 0.0), (690, 0.03169533468100874), (691, 0.0), (692, 0.0), (693, 0.0), (694, 0.0), (695, 0.0), (696, 0.0), (697, 0.0), (698, 0.0), (699, 0.0), (700, 0.02236972288200185), (701, 0.0), (702, 0.0), (703, 0.0), (704, 0.0), (705, 0.0), (706, 0.0), (707, 0.0), (708, 0.0), (709, 0.03307305889185283), (710, 0.0), (711, 0.0), (712, 0.030648749227694783), (713, 0.02462499625522859), (714, 0.0), (715, 0.0), (716, 0.0), (717, 0.026575149834658553), (718, 0.0), (719, 0.0), (720, 0.02617631675787069), (721, 0.0), (722, 0.0), (723, 0.0), (724, 0.0), (725, 0.0), (726, 0.0), (727, 0.0), (728, 0.0), (729, 0.0), (730, 0.0), (731, 0.0), (732, 0.09991648714079529), (733, 0.0), (734, 0.0), (735, 0.0), (736, 0.0), (737, 0.056990004052696136), (738, 0.0), (739, 0.0), (740, 0.0), (741, 0.0), (742, 0.0), (743, 0.026093369479072207), (744, 0.0), (745, 0.0), (746, 0.0), (747, 0.0), (748, 0.0), (749, 0.0), (750, 0.030786883237207647), (751, 0.0), (752, 0.0), (753, 0.02538601451129842), (754, 0.0), (755, 0.0), (756, 0.07257932158826635), (757, 0.0), (758, 0.0), (759, 0.0), (760, 0.0), (761, 0.0), (762, 0.0), (763, 0.0), (764, 0.0), (765, 0.0), (766, 0.030539338196345394), (767, 0.024656662410034173), (768, 0.0), (769, 0.05544952564232715), (770, 0.0), (771, 0.0), (772, 0.0), (773, 0.0), (774, 0.0), (775, 0.0), (776, 0.0), (777, 0.0), (778, 0.024092575158501783), (779, 0.0), (780, 0.0), (781, 0.0), (782, 0.0), (783, 0.0), (784, 0.0), (785, 0.0), (786, 0.0), (787, 0.02920413544576728), (788, 0.0), (789, 0.0), (790, 0.025296106832831795), (791, 0.03297790811586686), (792, 0.02676828107257945), (793, 0.0), (794, 0.025528649714342596), (795, 0.03265608174227842), (796, 0.0), (797, 0.0261114354467221), (798, 0.0), (799, 0.0), (800, 0.03090243595565569), (801, 0.0), (802, 0.0), (803, 0.0), (804, 0.0), (805, 0.0), (806, 0.03302226887859686), (807, 0.0), (808, 0.04527390206825395), (809, 0.0), (810, 0.016801174705664692), (811, 0.0), (812, 0.026421381492681074), (813, 0.06610658843202603), (814, 0.0), (815, 0.03427687759037138), (816, 0.0), (817, 0.031247832461808442), (818, 0.0), (819, 0.025723337593138707), (820, 0.0), (821, 0.0), (822, 0.0), (823, 0.0), (824, 0.02487023378177019), (825, 0.023252864531663312), (826, 0.0), (827, 0.0), (828, 0.0), (829, 0.027561835941324178), (830, 0.0), (831, 0.028268674169717754), (832, 0.0), (833, 0.0), (834, 0.0), (835, 0.0), (836, 0.0), (837, 0.028694718130741027), (838, 0.0), (839, 0.0), (840, 0.027520511108821925), (841, 0.0), (842, 0.0), (843, 0.09962882317160048), (844, 0.0), (845, 0.0), (846, 0.0), (847, 0.0), (848, 0.0), (849, 0.0), (850, 0.0), (851, 0.0), (852, 0.0), (853, 0.0), (854, 0.03112873246212535), (855, 0.0), (856, 0.0), (857, 0.026777166190582152), (858, 0.0), (859, 0.0), (860, 0.029740523164494843), (861, 0.025220230051407423), (862, 0.025237109356866537), (863, 0.0), (864, 0.02535897195178931), (865, 0.0), (866, 0.0), (867, 0.0), (868, 0.026916917095552516), (869, 0.0), (870, 0.0), (871, 0.0), (872, 0.0), (873, 0.0), (874, 0.0), (875, 0.0), (876, 0.0), (877, 0.0), (878, 0.0), (879, 0.0), (880, 0.0), (881, 0.0), (882, 0.0), (883, 0.0), (884, 0.0), (885, 0.0), (886, 0.0), (887, 0.026518764901617486), (888, 0.0), (889, 0.0), (890, 0.0), (891, 0.0), (892, 0.0), (893, 0.0), (894, 0.0), (895, 0.0), (896, 0.0), (897, 0.0), (898, 0.027042404113193395), (899, 0.0), (900, 0.0), (901, 0.0), (902, 0.03087839980464732), (903, 0.0), (904, 0.0), (905, 0.0), (906, 0.0), (907, 0.0), (908, 0.0), (909, 0.0), (910, 0.0), (911, 0.0), (912, 0.0), (913, 0.0), (914, 0.0), (915, 0.0), (916, 0.023775741437736617), (917, 0.0), (918, 0.0), (919, 0.0), (920, 0.0), (921, 0.0), (922, 0.0), (923, 0.0), (924, 0.0), (925, 0.0), (926, 0.030033571864801014), (927, 0.0), (928, 0.0), (929, 0.023221491273205358), (930, 0.0), (931, 0.0), (932, 0.0), (933, 0.0), (934, 0.0), (935, 0.0), (936, 0.0), (937, 0.0), (938, 0.0), (939, 0.0), (940, 0.024854634156764), (941, 0.06430965420633963), (942, 0.0), (943, 0.0), (944, 0.0), (945, 0.030956603111638052), (946, 0.06452537977806327), (947, 0.0), (948, 0.025912698497031015), (949, 0.0), (950, 0.0), (951, 0.0), (952, 0.0), (953, 0.0), (954, 0.0), (955, 0.0), (956, 0.0), (957, 0.0), (958, 0.0), (959, 0.04917896707358316), (960, 0.0), (961, 0.02386578976501497), (962, 0.0), (963, 0.0), (964, 0.027390034248094164), (965, 0.0), (966, 0.026894483487589254), (967, 0.0), (968, 0.02382908363255127), (969, 0.0), (970, 0.0), (971, 0.028237719726744992), (972, 0.0), (973, 0.0), (974, 0.0), (975, 0.0), (976, 0.0), (977, 0.0), (978, 0.0), (979, 0.0), (980, 0.0), (981, 0.0), (982, 0.030001076333262985), (983, 0.0), (984, 0.0), (985, 0.0), (986, 0.0), (987, 0.0), (988, 0.022951708039628753), (989, 0.022882075041944904), (990, 0.0), (991, 0.0), (992, 0.0), (993, 0.2065547134362144), (994, 0.0), (995, 0.0), (996, 0.0), (997, 0.0), (998, 0.0), (999, 0.0), (1000, 0.0), (1001, 0.0), (1002, 0.026543600410854507), (1003, 0.0), (1004, 0.0), (1005, 0.0), (1006, 0.026303813870164144), (1007, 0.0), (1008, 0.022902970404238124), (1009, 0.0), (1010, 0.0), (1011, 0.0), (1012, 0.0), (1013, 0.0), (1014, 0.0), (1015, 0.026571349215679215), (1016, 0.0), (1017, 0.0), (1018, 0.0), (1019, 0.0), (1020, 0.0), (1021, 0.0), (1022, 0.0), (1023, 0.0), (1024, 0.0), (1025, 0.0), (1026, 0.0), (1027, 0.030320616720916082), (1028, 0.0), (1029, 0.0), (1030, 0.0), (1031, 0.0), (1032, 0.031431835209488924), (1033, 0.0), (1034, 0.0), (1035, 0.0), (1036, 0.022152861532171726), (1037, 0.0), (1038, 0.0), (1039, 0.02334525594313698), (1040, 0.0), (1041, 0.0), (1042, 0.0), (1043, 0.0), (1044, 0.0), (1045, 0.026070669892106366), (1046, 0.0), (1047, 0.0), (1048, 0.0), (1049, 0.03154508737634622), (1050, 0.03190768389049948), (1051, 0.0), (1052, 0.0), (1053, 0.0), (1054, 0.0), (1055, 0.0), (1056, 0.0), (1057, 0.0), (1058, 0.0), (1059, 0.0), (1060, 0.026727305321397693), (1061, 0.0), (1062, 0.0), (1063, 0.0), (1064, 0.0), (1065, 0.0), (1066, 0.0), (1067, 0.023370883995855983), (1068, 0.029719959547216325), (1069, 0.0), (1070, 0.02951940638225772), (1071, 0.0), (1072, 0.0), (1073, 0.0), (1074, 0.0), (1075, 0.0), (1076, 0.0), (1077, 0.0499304930761579), (1078, 0.0), (1079, 0.0), (1080, 0.0), (1081, 0.0), (1082, 0.0), (1083, 0.0), (1084, 0.0), (1085, 0.0), (1086, 0.0), (1087, 0.0), (1088, 0.0), (1089, 0.0), (1090, 0.0), (1091, 0.0), (1092, 0.02645837701528909), (1093, 0.0), (1094, 0.0), (1095, 0.0), (1096, 0.0), (1097, 0.0), (1098, 0.0), (1099, 0.0), (1100, 0.0), (1101, 0.0), (1102, 0.03126450786099759), (1103, 0.0), (1104, 0.0), (1105, 0.0), (1106, 0.025356366552681784), (1107, 0.0), (1108, 0.0), (1109, 0.0), (1110, 0.025999899926396813), (1111, 0.0), (1112, 0.02762080038312294), (1113, 0.030551608536590745), (1114, 0.07925539631341043), (1115, 0.0), (1116, 0.025821447170873438), (1117, 0.05998929054160082), (1118, 0.0), (1119, 0.029805402058180882), (1120, 0.0), (1121, 0.0), (1122, 0.0), (1123, 0.025135598552050716), (1124, 0.0), (1125, 0.0), (1126, 0.0), (1127, 0.025431657752596783), (1128, 0.0), (1129, 0.0), (1130, 0.0), (1131, 0.0), (1132, 0.0), (1133, 0.032864265705664544), (1134, 0.0), (1135, 0.02345793937762644), (1136, 0.0), (1137, 0.0), (1138, 0.02670339730803931), (1139, 0.0), (1140, 0.0), (1141, 0.022983504214192412), (1142, 0.0), (1143, 0.03240807124535754), (1144, 0.0), (1145, 0.05441548106015504), (1146, 0.0), (1147, 0.0), (1148, 0.0), (1149, 0.0), (1150, 0.0), (1151, 0.0), (1152, 0.02901088197847026), (1153, 0.0), (1154, 0.0), (1155, 0.0), (1156, 0.0), (1157, 0.0), (1158, 0.0), (1159, 0.0), (1160, 0.0), (1161, 0.0), (1162, 0.0), (1163, 0.0), (1164, 0.0), (1165, 0.0), (1166, 0.025897251027553487), (1167, 0.0), (1168, 0.0), (1169, 0.02762305520502652), (1170, 0.0), (1171, 0.024842722564459862), (1172, 0.0), (1173, 0.0), (1174, 0.02878126967202239), (1175, 0.0), (1176, 0.0), (1177, 0.0), (1178, 0.0), (1179, 0.025787532949765796), (1180, 0.0), (1181, 0.0), (1182, 0.0), (1183, 0.0), (1184, 0.0), (1185, 0.0), (1186, 0.0), (1187, 0.0), (1188, 0.0), (1189, 0.0), (1190, 0.06939035168902395), (1191, 0.023396391300839713), (1192, 0.0), (1193, 0.0), (1194, 0.0), (1195, 0.0), (1196, 0.0), (1197, 0.0), (1198, 0.0), (1199, 0.0), (1200, 0.0), (1201, 0.0), (1202, 0.0), (1203, 0.0), (1204, 0.0), (1205, 0.0), (1206, 0.0), (1207, 0.0), (1208, 0.0), (1209, 0.0), (1210, 0.0), (1211, 0.024826185926051198), (1212, 0.0), (1213, 0.0), (1214, 0.0), (1215, 0.06352070384939978), (1216, 0.0308340515231814), (1217, 0.0), (1218, 0.0), (1219, 0.0), (1220, 0.0), (1221, 0.03081444692037324), (1222, 0.0), (1223, 0.0), (1224, 0.0), (1225, 0.0), (1226, 0.0), (1227, 0.0), (1228, 0.024925552463593178), (1229, 0.0), (1230, 0.023106229278166725), (1231, 0.0), (1232, 0.0), (1233, 0.0), (1234, 0.0), (1235, 0.0), (1236, 0.02685774543316805), (1237, 0.024948971739005038), (1238, 0.025821447170873438), (1239, 0.0), (1240, 0.0), (1241, 0.029540345802395198), (1242, 0.0), (1243, 0.0), (1244, 0.0), (1245, 0.0), (1246, 0.0), (1247, 0.0), (1248, 0.0), (1249, 0.06607743525672521), (1250, 0.0), (1251, 0.0), (1252, 0.0), (1253, 0.0), (1254, 0.0), (1255, 0.0), (1256, 0.0), (1257, 0.0), (1258, 0.0), (1259, 0.0), (1260, 0.0), (1261, 0.0), (1262, 0.0), (1263, 0.0), (1264, 0.0), (1265, 0.0), (1266, 0.0), (1267, 0.0), (1268, 0.05750613071995535), (1269, 0.0), (1270, 0.0), (1271, 0.0), (1272, 0.02441923973565766), (1273, 0.0), (1274, 0.0), (1275, 0.0780683961875645), (1276, 0.0), (1277, 0.02755436960238052), (1278, 0.0), (1279, 0.0), (1280, 0.0), (1281, 0.0), (1282, 0.05935686916539902), (1283, 0.0), (1284, 0.02406037768965192), (1285, 0.0), (1286, 0.0), (1287, 0.0), (1288, 0.0), (1289, 0.0), (1290, 0.0), (1291, 0.0), (1292, 0.0), (1293, 0.0), (1294, 0.025268941100671505), (1295, 0.0), (1296, 0.0), (1297, 0.05614298651800642), (1298, 0.0), (1299, 0.0), (1300, 0.0), (1301, 0.0), (1302, 0.0), (1303, 0.0), (1304, 0.04749391852066402), (1305, 0.0), (1306, 0.0), (1307, 0.0), (1308, 0.023654530210287766), (1309, 0.0), (1310, 0.0), (1311, 0.0), (1312, 0.02404193241391981), (1313, 0.028025926526658612), (1314, 0.0), (1315, 0.0), (1316, 0.0324251824458795), (1317, 0.0), (1318, 0.021768953400952692), (1319, 0.0), (1320, 0.0), (1321, 0.0), (1322, 0.0), (1323, 0.0), (1324, 0.0), (1325, 0.0), (1326, 0.027889862811943365), (1327, 0.0), (1328, 0.0), (1329, 0.06267580825735988), (1330, 0.029156323985741483), (1331, 0.0), (1332, 0.0), (1333, 0.0), (1334, 0.025915763295094995), (1335, 0.0), (1336, 0.0), (1337, 0.0), (1338, 0.022974365317132935), (1339, 0.0), (1340, 0.0), (1341, 0.0), (1342, 0.022060326357958824), (1343, 0.024433201841810373), (1344, 0.0), (1345, 0.0), (1346, 0.0), (1347, 0.0), (1348, 0.0), (1349, 0.0), (1350, 0.0), (1351, 0.0), (1352, 0.0), (1353, 0.0), (1354, 0.0), (1355, 0.0), (1356, 0.0), (1357, 0.0), (1358, 0.0), (1359, 0.0), (1360, 0.0), (1361, 0.0), (1362, 0.024593978633753212), (1363, 0.029339823100066633), (1364, 0.0), (1365, 0.0), (1366, 0.0), (1367, 0.025005521185295244), (1368, 0.0), (1369, 0.0), (1370, 0.0), (1371, 0.0), (1372, 0.0), (1373, 0.0), (1374, 0.0), (1375, 0.0), (1376, 0.0), (1377, 0.0), (1378, 0.034952141296486036), (1379, 0.0), (1380, 0.0), (1381, 0.0), (1382, 0.024074163290518587), (1383, 0.0), (1384, 0.021652869956894742), (1385, 0.0), (1386, 0.0), (1387, 0.05269836153838971), (1388, 0.061805432425049385), (1389, 0.0), (1390, 0.0), (1391, 0.0), (1392, 0.0), (1393, 0.0), (1394, 0.0), (1395, 0.0), (1396, 0.0), (1397, 0.0), (1398, 0.0585032148527742), (1399, 0.021266321936029786), (1400, 0.0), (1401, 0.0), (1402, 0.0), (1403, 0.0), (1404, 0.0), (1405, 0.02602251748682461), (1406, 0.0), (1407, 0.0), (1408, 0.0), (1409, 0.0), (1410, 0.0), (1411, 0.0), (1412, 0.0), (1413, 0.0), (1414, 0.0), (1415, 0.0), (1416, 0.0), (1417, 0.0), (1418, 0.0), (1419, 0.0), (1420, 0.0), (1421, 0.0), (1422, 0.05522397919361906), (1423, 0.0), (1424, 0.05902454993557173), (1425, 0.0), (1426, 0.0), (1427, 0.0), (1428, 0.0), (1429, 0.0), (1430, 0.0), (1431, 0.0), (1432, 0.05167002809361382), (1433, 0.0), (1434, 0.0), (1435, 0.0), (1436, 0.0), (1437, 0.0), (1438, 0.0), (1439, 0.0), (1440, 0.0), (1441, 0.0), (1442, 0.0), (1443, 0.0), (1444, 0.0), (1445, 0.0), (1446, 0.0), (1447, 0.02377621610679599), (1448, 0.0), (1449, 0.0), (1450, 0.0), (1451, 0.0), (1452, 0.0), (1453, 0.0), (1454, 0.0), (1455, 0.03386247264303932), (1456, 0.0), (1457, 0.0), (1458, 0.0), (1459, 0.026843384497844784), (1460, 0.0), (1461, 0.0), (1462, 0.0), (1463, 0.0), (1464, 0.0), (1465, 0.0), (1466, 0.0), (1467, 0.030409093979083875), (1468, 0.0), (1469, 0.0), (1470, 0.0), (1471, 0.0), (1472, 0.0), (1473, 0.0), (1474, 0.0), (1475, 0.0), (1476, 0.0), (1477, 0.0), (1478, 0.0), (1479, 0.0), (1480, 0.0), (1481, 0.0), (1482, 0.02774481614429979), (1483, 0.0), (1484, 0.0), (1485, 0.0), (1486, 0.0), (1487, 0.0), (1488, 0.0), (1489, 0.0), (1490, 0.0), (1491, 0.0), (1492, 0.0), (1493, 0.0), (1494, 0.0), (1495, 0.0275257948563984), (1496, 0.0), (1497, 0.024634412169639516), (1498, 0.0), (1499, 0.0), (1500, 0.0), (1501, 0.0), (1502, 0.0), (1503, 0.0), (1504, 0.0), (1505, 0.0), (1506, 0.0), (1507, 0.0), (1508, 0.026684376043931396), (1509, 0.0), (1510, 0.0), (1511, 0.0), (1512, 0.0), (1513, 0.0), (1514, 0.0), (1515, 0.02441246619338788), (1516, 0.0), (1517, 0.0), (1518, 0.0), (1519, 0.0), (1520, 0.0), (1521, 0.0), (1522, 0.0), (1523, 0.0), (1524, 0.0), (1525, 0.0), (1526, 0.0), (1527, 0.0), (1528, 0.024522980283428728), (1529, 0.0), (1530, 0.025580507868574243), (1531, 0.0), (1532, 0.0), (1533, 0.0), (1534, 0.0), (1535, 0.0), (1536, 0.04755144451138564), (1537, 0.0), (1538, 0.0), (1539, 0.0), (1540, 0.03384810876897862), (1541, 0.033078447855982324), (1542, 0.0), (1543, 0.0), (1544, 0.0), (1545, 0.0), (1546, 0.0), (1547, 0.0), (1548, 0.0), (1549, 0.0), (1550, 0.0), (1551, 0.0), (1552, 0.0), (1553, 0.0), (1554, 0.0), (1555, 0.02190376427875361), (1556, 0.0), (1557, 0.0), (1558, 0.0), (1559, 0.0), (1560, 0.07220232639326626), (1561, 0.0), (1562, 0.0), (1563, 0.0), (1564, 0.02774389059158066), (1565, 0.0), (1566, 0.0), (1567, 0.02978647079756712), (1568, 0.0), (1569, 0.0), (1570, 0.055486965854465595), (1571, 0.0), (1572, 0.0), (1573, 0.0), (1574, 0.0), (1575, 0.0), (1576, 0.0), (1577, 0.026507594477339483), (1578, 0.0), (1579, 0.0), (1580, 0.03338738510957345), (1581, 0.0), (1582, 0.032512390887203195), (1583, 0.0), (1584, 0.0), (1585, 0.0), (1586, 0.0), (1587, 0.0), (1588, 0.0), (1589, 0.02594599345286904), (1590, 0.0), (1591, 0.0), (1592, 0.0), (1593, 0.023527621283614897), (1594, 0.0), (1595, 0.0), (1596, 0.0), (1597, 0.0), (1598, 0.0), (1599, 0.0), (1600, 0.0), (1601, 0.0), (1602, 0.0), (1603, 0.0), (1604, 0.0), (1605, 0.0), (1606, 0.0), (1607, 0.0), (1608, 0.0), (1609, 0.0), (1610, 0.0), (1611, 0.0), (1612, 0.0), (1613, 0.0), (1614, 0.0), (1615, 0.0), (1616, 0.0), (1617, 0.0), (1618, 0.0), (1619, 0.0), (1620, 0.0), (1621, 0.0), (1622, 0.0), (1623, 0.0), (1624, 0.0), (1625, 0.0), (1626, 0.028796342207244748), (1627, 0.030694085796311915), (1628, 0.0), (1629, 0.0), (1630, 0.0), (1631, 0.023635994542088205), (1632, 0.03269809221580508), (1633, 0.0), (1634, 0.025319093453634645), (1635, 0.0), (1636, 0.0), (1637, 0.0), (1638, 0.0), (1639, 0.0), (1640, 0.0), (1641, 0.0), (1642, 0.031021170004628455), (1643, 0.0), (1644, 0.0), (1645, 0.0), (1646, 0.07355306167075293), (1647, 0.029071827465077412), (1648, 0.0), (1649, 0.0), (1650, 0.0), (1651, 0.02900481867503764), (1652, 0.0), (1653, 0.0), (1654, 0.0), (1655, 0.0), (1656, 0.05795565292529177), (1657, 0.0), (1658, 0.0), (1659, 0.0), (1660, 0.05216282452651102), (1661, 0.0), (1662, 0.03245473439824313), (1663, 0.0), (1664, 0.0), (1665, 0.0), (1666, 0.06443906325897678), (1667, 0.025518343152168055), (1668, 0.0), (1669, 0.0), (1670, 0.0), (1671, 0.0), (1672, 0.0), (1673, 0.0), (1674, 0.0), (1675, 0.0), (1676, 0.0), (1677, 0.0), (1678, 0.0), (1679, 0.0), (1680, 0.0), (1681, 0.0), (1682, 0.0), (1683, 0.0), (1684, 0.0), (1685, 0.0), (1686, 0.027366420205312946), (1687, 0.0), (1688, 0.0), (1689, 0.0), (1690, 0.0), (1691, 0.0), (1692, 0.0), (1693, 0.023548786801255453), (1694, 0.0), (1695, 0.0), (1696, 0.0), (1697, 0.0), (1698, 0.0), (1699, 0.0), (1700, 0.025279308842106867), (1701, 0.030411360364617286), (1702, 0.05186470535755442), (1703, 0.0), (1704, 0.0), (1705, 0.0), (1706, 0.0), (1707, 0.0), (1708, 0.027545103085650155), (1709, 0.0), (1710, 0.0), (1711, 0.0), (1712, 0.0), (1713, 0.0), (1714, 0.0), (1715, 0.0557847857403113), (1716, 0.0), (1717, 0.0), (1718, 0.0), (1719, 0.0), (1720, 0.0), (1721, 0.0), (1722, 0.0), (1723, 0.02614513864693989), (1724, 0.0), (1725, 0.0), (1726, 0.0), (1727, 0.0), (1728, 0.0), (1729, 0.0), (1730, 0.0), (1731, 0.0), (1732, 0.0), (1733, 0.0), (1734, 0.0), (1735, 0.0), (1736, 0.0), (1737, 0.0), (1738, 0.0), (1739, 0.0), (1740, 0.0), (1741, 0.0), (1742, 0.0), (1743, 0.0), (1744, 0.0), (1745, 0.030327389996690213), (1746, 0.0), (1747, 0.03113215148199999), (1748, 0.0), (1749, 0.0), (1750, 0.0), (1751, 0.0), (1752, 0.0), (1753, 0.0), (1754, 0.0), (1755, 0.0), (1756, 0.0), (1757, 0.0), (1758, 0.0), (1759, 0.0), (1760, 0.0), (1761, 0.0), (1762, 0.0), (1763, 0.0), (1764, 0.0), (1765, 0.025932541091019216), (1766, 0.0), (1767, 0.0), (1768, 0.0), (1769, 0.0), (1770, 0.0), (1771, 0.0), (1772, 0.0), (1773, 0.0), (1774, 0.031412363402436236), (1775, 0.0), (1776, 0.0), (1777, 0.0), (1778, 0.0), (1779, 0.0), (1780, 0.0), (1781, 0.0), (1782, 0.0), (1783, 0.030257958199391113), (1784, 0.0), (1785, 0.0), (1786, 0.0), (1787, 0.0), (1788, 0.0), (1789, 0.0), (1790, 0.0), (1791, 0.0), (1792, 0.0), (1793, 0.0), (1794, 0.0), (1795, 0.02798779918213688), (1796, 0.0), (1797, 0.0), (1798, 0.0), (1799, 0.0), (1800, 0.0), (1801, 0.0), (1802, 0.0), (1803, 0.02178763515156619), (1804, 0.0), (1805, 0.0), (1806, 0.0), (1807, 0.0), (1808, 0.0), (1809, 0.0), (1810, 0.0), (1811, 0.0), (1812, 0.0), (1813, 0.0), (1814, 0.0), (1815, 0.0), (1816, 0.030798048339240013), (1817, 0.0), (1818, 0.0), (1819, 0.02949234358392685), (1820, 0.0), (1821, 0.0), (1822, 0.0), (1823, 0.0), (1824, 0.01992979925559626), (1825, 0.0), (1826, 0.0), (1827, 0.0), (1828, 0.0), (1829, 0.0), (1830, 0.0), (1831, 0.0), (1832, 0.0), (1833, 0.029960006016023045), (1834, 0.0), (1835, 0.0), (1836, 0.0), (1837, 0.0), (1838, 0.0), (1839, 0.0), (1840, 0.0), (1841, 0.0), (1842, 0.0), (1843, 0.0), (1844, 0.0), (1845, 0.0), (1846, 0.0), (1847, 0.03409706892456945), (1848, 0.0), (1849, 0.0), (1850, 0.02662771679286935), (1851, 0.0), (1852, 0.0), (1853, 0.02149745416543896), (1854, 0.0), (1855, 0.0), (1856, 0.0), (1857, 0.0), (1858, 0.02999095970109291), (1859, 0.0), (1860, 0.0), (1861, 0.0), (1862, 0.0), (1863, 0.0), (1864, 0.0), (1865, 0.0), (1866, 0.0), (1867, 0.0), (1868, 0.07129351786008381), (1869, 0.0), (1870, 0.0), (1871, 0.0), (1872, 0.0), (1873, 0.0), (1874, 0.0), (1875, 0.0), (1876, 0.0), (1877, 0.025365634706383023), (1878, 0.0317065680165811), (1879, 0.0), (1880, 0.0), (1881, 0.022296208529355516), (1882, 0.026369255817120733), (1883, 0.019217083814590686), (1884, 0.0), (1885, 0.0), (1886, 0.0), (1887, 0.0), (1888, 0.0), (1889, 0.0), (1890, 0.0), (1891, 0.0), (1892, 0.0), (1893, 0.0), (1894, 0.0), (1895, 0.0), (1896, 0.0), (1897, 0.0), (1898, 0.0), (1899, 0.0), (1900, 0.02561692539135691), (1901, 0.0), (1902, 0.0), (1903, 0.0), (1904, 0.022701886442344343), (1905, 0.0), (1906, 0.0), (1907, 0.024769555867583865), (1908, 0.0), (1909, 0.0), (1910, 0.0), (1911, 0.0), (1912, 0.0), (1913, 0.029806817208308547), (1914, 0.0), (1915, 0.0), (1916, 0.0), (1917, 0.0), (1918, 0.0), (1919, 0.0), (1920, 0.0), (1921, 0.0), (1922, 0.0), (1923, 0.0), (1924, 0.0), (1925, 0.0), (1926, 0.06575429193715909), (1927, 0.0), (1928, 0.020068985665357086), (1929, 0.0), (1930, 0.0), (1931, 0.0), (1932, 0.029994223852750856), (1933, 0.0), (1934, 0.0), (1935, 0.0), (1936, 0.0), (1937, 0.0), (1938, 0.0), (1939, 0.0), (1940, 0.0), (1941, 0.0), (1942, 0.0), (1943, 0.0), (1944, 0.0), (1945, 0.0), (1946, 0.0), (1947, 0.0), (1948, 0.0), (1949, 0.0), (1950, 0.0), (1951, 0.0), (1952, 0.0), (1953, 0.0), (1954, 0.0), (1955, 0.0), (1956, 0.0), (1957, 0.02997868545107677), (1958, 0.0), (1959, 0.03368564715623828), (1960, 0.0), (1961, 0.0), (1962, 0.0), (1963, 0.0), (1964, 0.0), (1965, 0.0), (1966, 0.0), (1967, 0.0), (1968, 0.0), (1969, 0.0), (1970, 0.0), (1971, 0.0), (1972, 0.030954586636903165), (1973, 0.0), (1974, 0.0), (1975, 0.0), (1976, 0.02264617984214732), (1977, 0.0), (1978, 0.0), (1979, 0.0), (1980, 0.0), (1981, 0.0), (1982, 0.0), (1983, 0.0), (1984, 0.0), (1985, 0.0), (1986, 0.0), (1987, 0.0), (1988, 0.0), (1989, 0.0), (1990, 0.0), (1991, 0.0), (1992, 0.0), (1993, 0.0), (1994, 0.025580507868574243), (1995, 0.0), (1996, 0.0), (1997, 0.0), (1998, 0.05939883519225202), (1999, 0.0), (2000, 0.0), (2001, 0.0), (2002, 0.0), (2003, 0.0), (2004, 0.0), (2005, 0.0), (2006, 0.0), (2007, 0.0), (2008, 0.0), (2009, 0.0), (2010, 0.0), (2011, 0.0), (2012, 0.027081278948237066), (2013, 0.0), (2014, 0.0), (2015, 0.0), (2016, 0.0), (2017, 0.0), (2018, 0.0), (2019, 0.0), (2020, 0.0), (2021, 0.0), (2022, 0.0), (2023, 0.059748111420691745), (2024, 0.0), (2025, 0.0), (2026, 0.0), (2027, 0.0), (2028, 0.0), (2029, 0.0), (2030, 0.0), (2031, 0.0), (2032, 0.0), (2033, 0.0), (2034, 0.0), (2035, 0.0), (2036, 0.027832600663649974), (2037, 0.030404999947715703), (2038, 0.0), (2039, 0.0), (2040, 0.0), (2041, 0.0), (2042, 0.0), (2043, 0.0), (2044, 0.023983942655540335), (2045, 0.0), (2046, 0.0), (2047, 0.0), (2048, 0.0), (2049, 0.027323885898093012), (2050, 0.0), (2051, 0.046256676370109544), (2052, 0.0), (2053, 0.0), (2054, 0.0), (2055, 0.0), (2056, 0.0), (2057, 0.0), (2058, 0.0), (2059, 0.0), (2060, 0.0), (2061, 0.0), (2062, 0.0), (2063, 0.0), (2064, 0.0), (2065, 0.0), (2066, 0.0), (2067, 0.0), (2068, 0.0), (2069, 0.0), (2070, 0.052854715481355015), (2071, 0.0), (2072, 0.0), (2073, 0.0), (2074, 0.0), (2075, 0.0), (2076, 0.0), (2077, 0.0), (2078, 0.0), (2079, 0.0), (2080, 0.0), (2081, 0.033002282708359566), (2082, 0.0), (2083, 0.0), (2084, 0.0), (2085, 0.0), (2086, 0.0), (2087, 0.0), (2088, 0.0), (2089, 0.0), (2090, 0.0), (2091, 0.07821939711306085), (2092, 0.0), (2093, 0.03320157542562043), (2094, 0.0), (2095, 0.0), (2096, 0.0), (2097, 0.0), (2098, 0.06424757430496385), (2099, 0.0), (2100, 0.0), (2101, 0.0), (2102, 0.0), (2103, 0.07697837570762278), (2104, 0.0), (2105, 0.028353061081124238), (2106, 0.0), (2107, 0.0), (2108, 0.0), (2109, 0.0), (2110, 0.0), (2111, 0.0), (2112, 0.0), (2113, 0.05034557867606355), (2114, 0.0), (2115, 0.0), (2116, 0.0), (2117, 0.0), (2118, 0.0), (2119, 0.0), (2120, 0.0), (2121, 0.0), (2122, 0.0), (2123, 0.0), (2124, 0.0), (2125, 0.0), (2126, 0.0), (2127, 0.0), (2128, 0.0), (2129, 0.0), (2130, 0.0), (2131, 0.0), (2132, 0.028102520572993495), (2133, 0.025560440972768845), (2134, 0.0), (2135, 0.04860557726091996), (2136, 0.0), (2137, 0.0), (2138, 0.0), (2139, 0.0), (2140, 0.0), (2141, 0.0), (2142, 0.0), (2143, 0.0), (2144, 0.07367631714631215), (2145, 0.0), (2146, 0.0), (2147, 0.0), (2148, 0.0), (2149, 0.0), (2150, 0.0), (2151, 0.0), (2152, 0.0), (2153, 0.0), (2154, 0.0), (2155, 0.0), (2156, 0.0), (2157, 0.0), (2158, 0.0), (2159, 0.0), (2160, 0.0), (2161, 0.0), (2162, 0.0), (2163, 0.0), (2164, 0.0), (2165, 0.0), (2166, 0.0), (2167, 0.0), (2168, 0.05083218351621371), (2169, 0.0), (2170, 0.0), (2171, 0.0), (2172, 0.0), (2173, 0.0), (2174, 0.0), (2175, 0.0), (2176, 0.0), (2177, 0.0), (2178, 0.0), (2179, 0.0), (2180, 0.0), (2181, 0.0), (2182, 0.0), (2183, 0.0), (2184, 0.0), (2185, 0.0), (2186, 0.0), (2187, 0.0), (2188, 0.0), (2189, 0.0), (2190, 0.0), (2191, 0.0), (2192, 0.0), (2193, 0.0), (2194, 0.0), (2195, 0.0), (2196, 0.0), (2197, 0.0), (2198, 0.02767414731247985), (2199, 0.0), (2200, 0.0), (2201, 0.0), (2202, 0.0), (2203, 0.0), (2204, 0.0), (2205, 0.0), (2206, 0.0), (2207, 0.0), (2208, 0.0), (2209, 0.0), (2210, 0.0), (2211, 0.0), (2212, 0.0), (2213, 0.027364072886847363), (2214, 0.0), (2215, 0.0), (2216, 0.0), (2217, 0.0), (2218, 0.0), (2219, 0.0), (2220, 0.0), (2221, 0.0), (2222, 0.0), (2223, 0.026445338496222243), (2224, 0.0), (2225, 0.0), (2226, 0.0), (2227, 0.0), (2228, 0.0), (2229, 0.0), (2230, 0.0), (2231, 0.0), (2232, 0.0242124253820537), (2233, 0.0), (2234, 0.03220774729775724), (2235, 0.0), (2236, 0.0), (2237, 0.0), (2238, 0.0), (2239, 0.0), (2240, 0.0), (2241, 0.024306583204613274), (2242, 0.0), (2243, 0.0), (2244, 0.0), (2245, 0.0), (2246, 0.0), (2247, 0.0), (2248, 0.0), (2249, 0.0), (2250, 0.0), (2251, 0.0), (2252, 0.0), (2253, 0.028353687652120364), (2254, 0.02980217940013703), (2255, 0.0), (2256, 0.0), (2257, 0.0), (2258, 0.0), (2259, 0.0), (2260, 0.0), (2261, 0.0), (2262, 0.034952141296486036), (2263, 0.0), (2264, 0.0), (2265, 0.0), (2266, 0.0), (2267, 0.0), (2268, 0.0), (2269, 0.0), (2270, 0.05485389552201539), (2271, 0.0), (2272, 0.02696987059562019), (2273, 0.0), (2274, 0.0), (2275, 0.0), (2276, 0.0), (2277, 0.0), (2278, 0.06255734171430652), (2279, 0.0), (2280, 0.03196915012298694), (2281, 0.0), (2282, 0.028186365487446276), (2283, 0.0), (2284, 0.0), (2285, 0.0), (2286, 0.0), (2287, 0.0), (2288, 0.0), (2289, 0.0), (2290, 0.0), (2291, 0.0), (2292, 0.0), (2293, 0.0), (2294, 0.0), (2295, 0.0), (2296, 0.06483674576009237), (2297, 0.0), (2298, 0.0), (2299, 0.0), (2300, 0.0), (2301, 0.0), (2302, 0.0), (2303, 0.0), (2304, 0.0), (2305, 0.0), (2306, 0.0), (2307, 0.0), (2308, 0.0), (2309, 0.0), (2310, 0.0), (2311, 0.0), (2312, 0.0), (2313, 0.0), (2314, 0.0), (2315, 0.0), (2316, 0.0), (2317, 0.0), (2318, 0.0), (2319, 0.0), (2320, 0.0), (2321, 0.0), (2322, 0.0), (2323, 0.0), (2324, 0.0), (2325, 0.0), (2326, 0.0), (2327, 0.0), (2328, 0.0), (2329, 0.0), (2330, 0.0), (2331, 0.0), (2332, 0.04920532952817127), (2333, 0.0), (2334, 0.02350141073122073), (2335, 0.0), (2336, 0.0), (2337, 0.024187276527940303), (2338, 0.0), (2339, 0.023244902174880722), (2340, 0.026891166757084136), (2341, 0.0), (2342, 0.0), (2343, 0.032085419831122286), (2344, 0.0), (2345, 0.0), (2346, 0.0), (2347, 0.0), (2348, 0.0), (2349, 0.0), (2350, 0.0), (2351, 0.0), (2352, 0.0), (2353, 0.0), (2354, 0.0), (2355, 0.0), (2356, 0.0), (2357, 0.0), (2358, 0.0), (2359, 0.0), (2360, 0.0), (2361, 0.0), (2362, 0.0), (2363, 0.0), (2364, 0.0), (2365, 0.0), (2366, 0.0), (2367, 0.0), (2368, 0.0), (2369, 0.0), (2370, 0.0), (2371, 0.0), (2372, 0.0), (2373, 0.0), (2374, 0.0), (2375, 0.02627886697057966), (2376, 0.0), (2377, 0.0), (2378, 0.0), (2379, 0.0), (2380, 0.0), (2381, 0.0), (2382, 0.03091933533408478), (2383, 0.0), (2384, 0.0), (2385, 0.0), (2386, 0.0), (2387, 0.0), (2388, 0.0), (2389, 0.0), (2390, 0.029306077096414637), (2391, 0.0), (2392, 0.0), (2393, 0.03267519644437284), (2394, 0.0), (2395, 0.0), (2396, 0.022032346591353894), (2397, 0.0), (2398, 0.0), (2399, 0.03089057398690869), (2400, 0.0), (2401, 0.0), (2402, 0.0), (2403, 0.056767464147311854), (2404, 0.0), (2405, 0.0), (2406, 0.0), (2407, 0.0), (2408, 0.0), (2409, 0.0), (2410, 0.0), (2411, 0.0), (2412, 0.0), (2413, 0.027608693616952767), (2414, 0.0), (2415, 0.0), (2416, 0.0), (2417, 0.0), (2418, 0.0), (2419, 0.0), (2420, 0.0), (2421, 0.0), (2422, 0.0), (2423, 0.0), (2424, 0.028541031067306547), (2425, 0.0), (2426, 0.0), (2427, 0.027310148245634866), (2428, 0.0), (2429, 0.0), (2430, 0.0), (2431, 0.0), (2432, 0.0), (2433, 0.0), (2434, 0.0), (2435, 0.0), (2436, 0.0), (2437, 0.0), (2438, 0.02348970175665958), (2439, 0.0), (2440, 0.0), (2441, 0.0), (2442, 0.0), (2443, 0.0), (2444, 0.0), (2445, 0.0), (2446, 0.0), (2447, 0.027209443068445176), (2448, 0.0), (2449, 0.0), (2450, 0.0), (2451, 0.0), (2452, 0.0), (2453, 0.0), (2454, 0.0), (2455, 0.0), (2456, 0.0), (2457, 0.0), (2458, 0.06173252795447904), (2459, 0.0), (2460, 0.0), (2461, 0.0), (2462, 0.0), (2463, 0.0), (2464, 0.0), (2465, 0.0), (2466, 0.0), (2467, 0.0), (2468, 0.05478088836842505), (2469, 0.0), (2470, 0.0), (2471, 0.0), (2472, 0.0), (2473, 0.02364349225424825), (2474, 0.0), (2475, 0.0), (2476, 0.0), (2477, 0.0), (2478, 0.0), (2479, 0.0), (2480, 0.0), (2481, 0.0), (2482, 0.0), (2483, 0.0), (2484, 0.0), (2485, 0.0), (2486, 0.028057473548974133), (2487, 0.0), (2488, 0.0), (2489, 0.0), (2490, 0.0), (2491, 0.0), (2492, 0.0), (2493, 0.024842722564459862), (2494, 0.03206543417891041), (2495, 0.06158807835386617), (2496, 0.0), (2497, 0.0), (2498, 0.0), (2499, 0.026014131072043985), (2500, 0.0), (2501, 0.031626929121038615), (2502, 0.0), (2503, 0.06888056541268757), (2504, 0.0), (2505, 0.0), (2506, 0.0), (2507, 0.0), (2508, 0.0), (2509, 0.07461203282229378), (2510, 0.0), (2511, 0.0), (2512, 0.027288418311069276), (2513, 0.0), (2514, 0.022810121186305828), (2515, 0.0), (2516, 0.0), (2517, 0.0), (2518, 0.021820145002244634), (2519, 0.0), (2520, 0.0), (2521, 0.0), (2522, 0.0), (2523, 0.0), (2524, 0.0), (2525, 0.0), (2526, 0.0), (2527, 0.0), (2528, 0.0), (2529, 0.0), (2530, 0.0), (2531, 0.0), (2532, 0.0), (2533, 0.0), (2534, 0.0), (2535, 0.0), (2536, 0.0), (2537, 0.0), (2538, 0.0), (2539, 0.0), (2540, 0.0), (2541, 0.0), (2542, 0.0), (2543, 0.0), (2544, 0.0), (2545, 0.0), (2546, 0.033943483579247584), (2547, 0.0), (2548, 0.0), (2549, 0.0), (2550, 0.0), (2551, 0.02901061228733546), (2552, 0.03480977740795575), (2553, 0.0), (2554, 0.0), (2555, 0.0), (2556, 0.0), (2557, 0.0), (2558, 0.0), (2559, 0.0), (2560, 0.0), (2561, 0.023808499847036146), (2562, 0.0), (2563, 0.0), (2564, 0.0), (2565, 0.030521997319606333), (2566, 0.0), (2567, 0.0), (2568, 0.03089057398690869), (2569, 0.0), (2570, 0.0), (2571, 0.0), (2572, 0.0), (2573, 0.0), (2574, 0.0), (2575, 0.0), (2576, 0.0), (2577, 0.0), (2578, 0.0), (2579, 0.02703125910249912), (2580, 0.0), (2581, 0.0), (2582, 0.0), (2583, 0.0), (2584, 0.0), (2585, 0.0), (2586, 0.0), (2587, 0.0), (2588, 0.0), (2589, 0.0), (2590, 0.0), (2591, 0.0), (2592, 0.0), (2593, 0.0), (2594, 0.0), (2595, 0.0), (2596, 0.0), (2597, 0.0), (2598, 0.0), (2599, 0.0), (2600, 0.0), (2601, 0.0), (2602, 0.0), (2603, 0.0), (2604, 0.0), (2605, 0.0), (2606, 0.08412149661240499), (2607, 0.0), (2608, 0.0), (2609, 0.0), (2610, 0.0), (2611, 0.0), (2612, 0.0), (2613, 0.0), (2614, 0.0), (2615, 0.0), (2616, 0.0), (2617, 0.0), (2618, 0.0), (2619, 0.0), (2620, 0.0), (2621, 0.0), (2622, 0.0), (2623, 0.0), (2624, 0.0), (2625, 0.0), (2626, 0.03144171837990054), (2627, 0.0), (2628, 0.0), (2629, 0.0), (2630, 0.0), (2631, 0.0), (2632, 0.0), (2633, 0.03425686680171026), (2634, 0.0), (2635, 0.0), (2636, 0.0), (2637, 0.0), (2638, 0.0), (2639, 0.0), (2640, 0.0), (2641, 0.0), (2642, 0.0), (2643, 0.0), (2644, 0.0), (2645, 0.0), (2646, 0.0), (2647, 0.0), (2648, 0.0), (2649, 0.0), (2650, 0.025783110045812963), (2651, 0.030994769674505367), (2652, 0.0), (2653, 0.0), (2654, 0.0), (2655, 0.0), (2656, 0.0), (2657, 0.0), (2658, 0.0), (2659, 0.0), (2660, 0.0), (2661, 0.0), (2662, 0.02759030615407778), (2663, 0.03288760349693077), (2664, 0.0), (2665, 0.0), (2666, 0.0), (2667, 0.0), (2668, 0.0), (2669, 0.0), (2670, 0.0), (2671, 0.0), (2672, 0.030779479756842993), (2673, 0.0), (2674, 0.0), (2675, 0.0), (2676, 0.0), (2677, 0.0), (2678, 0.06476389265937327), (2679, 0.0), (2680, 0.0), (2681, 0.0), (2682, 0.0), (2683, 0.05613641578970843), (2684, 0.0), (2685, 0.0), (2686, 0.0), (2687, 0.054447266848598304), (2688, 0.0), (2689, 0.0), (2690, 0.0), (2691, 0.0), (2692, 0.0), (2693, 0.0), (2694, 0.0), (2695, 0.0), (2696, 0.02605489201269915), (2697, 0.06592575733546771), (2698, 0.0), (2699, 0.0), (2700, 0.0), (2701, 0.0), (2702, 0.030243531505540426), (2703, 0.0), (2704, 0.0), (2705, 0.0), (2706, 0.0), (2707, 0.0), (2708, 0.0), (2709, 0.0), (2710, 0.0), (2711, 0.0), (2712, 0.0), (2713, 0.0), (2714, 0.0), (2715, 0.0), (2716, 0.0), (2717, 0.0), (2718, 0.0), (2719, 0.0), (2720, 0.0), (2721, 0.0), (2722, 0.029576007069958794), (2723, 0.0), (2724, 0.028165198404391946), (2725, 0.0), (2726, 0.0), (2727, 0.0), (2728, 0.0), (2729, 0.0), (2730, 0.0), (2731, 0.0), (2732, 0.0), (2733, 0.0), (2734, 0.0), (2735, 0.0), (2736, 0.0), (2737, 0.0), (2738, 0.0), (2739, 0.0), (2740, 0.0), (2741, 0.02558821015065204), (2742, 0.0), (2743, 0.0), (2744, 0.0), (2745, 0.0), (2746, 0.0), (2747, 0.030357590907769554), (2748, 0.028448744935315264), (2749, 0.0), (2750, 0.0), (2751, 0.021058881991104332), (2752, 0.0), (2753, 0.0), (2754, 0.0), (2755, 0.032625872532395975), (2756, 0.0), (2757, 0.0), (2758, 0.0), (2759, 0.0), (2760, 0.0), (2761, 0.0), (2762, 0.0), (2763, 0.0), (2764, 0.0), (2765, 0.0), (2766, 0.02567002792364712), (2767, 0.0), (2768, 0.0), (2769, 0.0), (2770, 0.0), (2771, 0.0), (2772, 0.026727305321397693), (2773, 0.0), (2774, 0.02264526596659317), (2775, 0.0), (2776, 0.0), (2777, 0.0), (2778, 0.0), (2779, 0.0), (2780, 0.0), (2781, 0.0), (2782, 0.0), (2783, 0.0), (2784, 0.0), (2785, 0.028281719636064673), (2786, 0.0), (2787, 0.0), (2788, 0.0), (2789, 0.0), (2790, 0.0), (2791, 0.06260211732574247), (2792, 0.0), (2793, 0.0), (2794, 0.0), (2795, 0.0), (2796, 0.0), (2797, 0.0), (2798, 0.0), (2799, 0.0), (2800, 0.0), (2801, 0.0), (2802, 0.0), (2803, 0.0), (2804, 0.0), (2805, 0.0), (2806, 0.0), (2807, 0.0), (2808, 0.0), (2809, 0.0), (2810, 0.02799003160624047), (2811, 0.0), (2812, 0.0), (2813, 0.0), (2814, 0.0), (2815, 0.0), (2816, 0.0), (2817, 0.0), (2818, 0.0), (2819, 0.0), (2820, 0.023881918260597317), (2821, 0.0), (2822, 0.0), (2823, 0.0), (2824, 0.0), (2825, 0.0), (2826, 0.0), (2827, 0.0), (2828, 0.0), (2829, 0.0), (2830, 0.0), (2831, 0.0), (2832, 0.0), (2833, 0.0), (2834, 0.0), (2835, 0.0), (2836, 0.0), (2837, 0.0), (2838, 0.0), (2839, 0.0), (2840, 0.0), (2841, 0.0), (2842, 0.0), (2843, 0.0), (2844, 0.0), (2845, 0.0), (2846, 0.0), (2847, 0.0), (2848, 0.0), (2849, 0.0), (2850, 0.0), (2851, 0.0), (2852, 0.0), (2853, 0.0), (2854, 0.0), (2855, 0.0), (2856, 0.07106731592873887), (2857, 0.0), (2858, 0.0), (2859, 0.0), (2860, 0.0), (2861, 0.0), (2862, 0.0), (2863, 0.0), (2864, 0.0), (2865, 0.0), (2866, 0.0), (2867, 0.0), (2868, 0.0), (2869, 0.0), (2870, 0.0), (2871, 0.0), (2872, 0.0), (2873, 0.0), (2874, 0.0), (2875, 0.0), (2876, 0.0), (2877, 0.0), (2878, 0.0), (2879, 0.0), (2880, 0.0), (2881, 0.0), (2882, 0.0), (2883, 0.0), (2884, 0.0), (2885, 0.0), (2886, 0.0), (2887, 0.0), (2888, 0.0), (2889, 0.0), (2890, 0.0), (2891, 0.0), (2892, 0.0), (2893, 0.021912724148726165), (2894, 0.0), (2895, 0.0), (2896, 0.0), (2897, 0.0), (2898, 0.0), (2899, 0.0), (2900, 0.0), (2901, 0.0), (2902, 0.0), (2903, 0.0), (2904, 0.0), (2905, 0.0), (2906, 0.0), (2907, 0.0), (2908, 0.0), (2909, 0.0), (2910, 0.06616041296223853), (2911, 0.0), (2912, 0.0), (2913, 0.0), (2914, 0.0), (2915, 0.0), (2916, 0.0), (2917, 0.0), (2918, 0.0), (2919, 0.0), (2920, 0.053037328871788664), (2921, 0.06432814613476864), (2922, 0.0), (2923, 0.0225311761184204), (2924, 0.0), (2925, 0.0), (2926, 0.0), (2927, 0.024240230246339558), (2928, 0.0), (2929, 0.0), (2930, 0.0), (2931, 0.0), (2932, 0.0), (2933, 0.0), (2934, 0.03071184219329521), (2935, 0.0), (2936, 0.0), (2937, 0.0), (2938, 0.0), (2939, 0.0), (2940, 0.0), (2941, 0.0), (2942, 0.0), (2943, 0.028875323959806094), (2944, 0.02659097149000436), (2945, 0.0), (2946, 0.0), (2947, 0.0), (2948, 0.0), (2949, 0.0), (2950, 0.0), (2951, 0.0), (2952, 0.024299630504646886), (2953, 0.0), (2954, 0.0), (2955, 0.0), (2956, 0.02866964114323962), (2957, 0.0), (2958, 0.0), (2959, 0.0), (2960, 0.02525579086049212), (2961, 0.0), (2962, 0.0), (2963, 0.0), (2964, 0.0), (2965, 0.0), (2966, 0.0), (2967, 0.0), (2968, 0.0), (2969, 0.0), (2970, 0.0), (2971, 0.0), (2972, 0.0), (2973, 0.03294283180924083), (2974, 0.02313220113962344), (2975, 0.0), (2976, 0.0), (2977, 0.0), (2978, 0.0), (2979, 0.0), (2980, 0.0), (2981, 0.0), (2982, 0.0), (2983, 0.0), (2984, 0.0), (2985, 0.0), (2986, 0.0), (2987, 0.0), (2988, 0.0), (2989, 0.0), (2990, 0.0), (2991, 0.0), (2992, 0.0), (2993, 0.0), (2994, 0.0), (2995, 0.0), (2996, 0.0), (2997, 0.0), (2998, 0.0), (2999, 0.0), (3000, 0.0), (3001, 0.0), (3002, 0.0), (3003, 0.0), (3004, 0.0), (3005, 0.0), (3006, 0.0), (3007, 0.0), (3008, 0.0), (3009, 0.0), (3010, 0.0340343079919467), (3011, 0.021266608828511096), (3012, 0.022888115782751108), (3013, 0.0), (3014, 0.0), (3015, 0.0), (3016, 0.0), (3017, 0.0), (3018, 0.0), (3019, 0.0), (3020, 0.0), (3021, 0.0), (3022, 0.0), (3023, 0.03145098293340904), (3024, 0.048939301898379056), (3025, 0.0), (3026, 0.0), (3027, 0.0), (3028, 0.0), (3029, 0.0), (3030, 0.0), (3031, 0.0), (3032, 0.030154789144931683), (3033, 0.0), (3034, 0.0), (3035, 0.0), (3036, 0.0), (3037, 0.0), (3038, 0.061518319919021104), (3039, 0.0), (3040, 0.0), (3041, 0.0), (3042, 0.0), (3043, 0.0), (3044, 0.0), (3045, 0.0), (3046, 0.0), (3047, 0.0), (3048, 0.0), (3049, 0.0), (3050, 0.06313105965057471), (3051, 0.0), (3052, 0.0), (3053, 0.0), (3054, 0.0), (3055, 0.0), (3056, 0.1069523732047283), (3057, 0.0), (3058, 0.0), (3059, 0.0), (3060, 0.0), (3061, 0.0), (3062, 0.0), (3063, 0.0), (3064, 0.0), (3065, 0.0), (3066, 0.0), (3067, 0.0), (3068, 0.0), (3069, 0.0), (3070, 0.0), (3071, 0.0), (3072, 0.0), (3073, 0.0), (3074, 0.0), (3075, 0.0), (3076, 0.0), (3077, 0.0), (3078, 0.0), (3079, 0.0), (3080, 0.0), (3081, 0.0), (3082, 0.0), (3083, 0.0), (3084, 0.0), (3085, 0.0), (3086, 0.0), (3087, 0.0), (3088, 0.0), (3089, 0.0), (3090, 0.0), (3091, 0.0), (3092, 0.0), (3093, 0.0), (3094, 0.0), (3095, 0.0), (3096, 0.0), (3097, 0.0), (3098, 0.0), (3099, 0.0), (3100, 0.0), (3101, 0.0), (3102, 0.0), (3103, 0.0), (3104, 0.0), (3105, 0.0), (3106, 0.02350630744370031), (3107, 0.0), (3108, 0.0), (3109, 0.0), (3110, 0.02289607544609754), (3111, 0.026190047523653264), (3112, 0.0), (3113, 0.0), (3114, 0.0), (3115, 0.0), (3116, 0.0), (3117, 0.0), (3118, 0.06222601939480548), (3119, 0.0), (3120, 0.0), (3121, 0.0), (3122, 0.0), (3123, 0.0), (3124, 0.0), (3125, 0.0), (3126, 0.0), (3127, 0.0), (3128, 0.0), (3129, 0.024306053122104942), (3130, 0.0), (3131, 0.0), (3132, 0.0), (3133, 0.0), (3134, 0.0), (3135, 0.0), (3136, 0.0), (3137, 0.0), (3138, 0.0), (3139, 0.0), (3140, 0.0), (3141, 0.0), (3142, 0.0), (3143, 0.0651048202149847), (3144, 0.0), (3145, 0.0), (3146, 0.0), (3147, 0.0), (3148, 0.0), (3149, 0.0), (3150, 0.0), (3151, 0.0), (3152, 0.0), (3153, 0.0), (3154, 0.0), (3155, 0.0), (3156, 0.0), (3157, 0.0), (3158, 0.0), (3159, 0.0), (3160, 0.0), (3161, 0.0), (3162, 0.0), (3163, 0.0), (3164, 0.0), (3165, 0.0), (3166, 0.0), (3167, 0.0), (3168, 0.0), (3169, 0.0), (3170, 0.0), (3171, 0.026331608210597178), (3172, 0.0), (3173, 0.0), (3174, 0.0), (3175, 0.0), (3176, 0.0), (3177, 0.02991401620274472), (3178, 0.0), (3179, 0.0), (3180, 0.0), (3181, 0.0), (3182, 0.0), (3183, 0.0), (3184, 0.0), (3185, 0.0), (3186, 0.0), (3187, 0.0), (3188, 0.0), (3189, 0.0), (3190, 0.0), (3191, 0.0), (3192, 0.0), (3193, 0.0), (3194, 0.0), (3195, 0.0), (3196, 0.0), (3197, 0.0), (3198, 0.0), (3199, 0.0), (3200, 0.0), (3201, 0.0), (3202, 0.0), (3203, 0.0), (3204, 0.0), (3205, 0.0), (3206, 0.0), (3207, 0.0), (3208, 0.02773579187086664), (3209, 0.0), (3210, 0.0), (3211, 0.0), (3212, 0.0), (3213, 0.0), (3214, 0.0), (3215, 0.0), (3216, 0.0), (3217, 0.0), (3218, 0.0), (3219, 0.0), (3220, 0.0), (3221, 0.0), (3222, 0.0), (3223, 0.0), (3224, 0.0), (3225, 0.0), (3226, 0.0), (3227, 0.0), (3228, 0.0), (3229, 0.0), (3230, 0.0), (3231, 0.0), (3232, 0.0), (3233, 0.0), (3234, 0.0), (3235, 0.0), (3236, 0.0), (3237, 0.0), (3238, 0.0), (3239, 0.0), (3240, 0.0), (3241, 0.0), (3242, 0.0), (3243, 0.0), (3244, 0.0), (3245, 0.029250571852744073), (3246, 0.0), (3247, 0.0), (3248, 0.0), (3249, 0.0), (3250, 0.0), (3251, 0.0), (3252, 0.0), (3253, 0.0), (3254, 0.0), (3255, 0.018786726857522893), (3256, 0.0), (3257, 0.0), (3258, 0.0), (3259, 0.0), (3260, 0.0), (3261, 0.0), (3262, 0.022537832871241777), (3263, 0.0), (3264, 0.0), (3265, 0.0), (3266, 0.0), (3267, 0.014173718186614379), (3268, 0.0), (3269, 0.028862808836032348), (3270, 0.0), (3271, 0.0), (3272, 0.0), (3273, 0.0), (3274, 0.0), (3275, 0.0), (3276, 0.0), (3277, 0.0), (3278, 0.0), (3279, 0.0), (3280, 0.0), (3281, 0.027238927219893835), (3282, 0.0), (3283, 0.0), (3284, 0.0), (3285, 0.06505888146099169), (3286, 0.0), (3287, 0.0), (3288, 0.0), (3289, 0.0), (3290, 0.0), (3291, 0.0), (3292, 0.0), (3293, 0.0), (3294, 0.0), (3295, 0.0), (3296, 0.0), (3297, 0.0), (3298, 0.0), (3299, 0.0), (3300, 0.0), (3301, 0.0), (3302, 0.0), (3303, 0.0), (3304, 0.023824545221533624), (3305, 0.0), (3306, 0.06254043660297715), (3307, 0.0), (3308, 0.0), (3309, 0.0), (3310, 0.0), (3311, 0.023519881730001246), (3312, 0.0), (3313, 0.0), (3314, 0.0), (3315, 0.0), (3316, 0.0), (3317, 0.0), (3318, 0.0), (3319, 0.0), (3320, 0.0), (3321, 0.0), (3322, 0.0), (3323, 0.0), (3324, 0.025131888752829918), (3325, 0.0), (3326, 0.0), (3327, 0.0), (3328, 0.0), (3329, 0.04439519422491588), (3330, 0.0), (3331, 0.03134934907884151), (3332, 0.0), (3333, 0.0), (3334, 0.0), (3335, 0.03273698707620591), (3336, 0.0), (3337, 0.0), (3338, 0.0), (3339, 0.0), (3340, 0.0), (3341, 0.0), (3342, 0.0), (3343, 0.0), (3344, 0.0), (3345, 0.0), (3346, 0.03186621947313285), (3347, 0.0), (3348, 0.0), (3349, 0.0), (3350, 0.0), (3351, 0.0), (3352, 0.0), (3353, 0.0), (3354, 0.0), (3355, 0.0), (3356, 0.0), (3357, 0.0), (3358, 0.0), (3359, 0.0), (3360, 0.03413949510021165), (3361, 0.0), (3362, 0.0), (3363, 0.0), (3364, 0.0), (3365, 0.0), (3366, 0.0), (3367, 0.0), (3368, 0.0), (3369, 0.0), (3370, 0.03527863843605707), (3371, 0.0), (3372, 0.027833943218687523), (3373, 0.0), (3374, 0.0), (3375, 0.022269340256900694), (3376, 0.0), (3377, 0.0), (3378, 0.0), (3379, 0.0), (3380, 0.0), (3381, 0.0), (3382, 0.0), (3383, 0.0), (3384, 0.0), (3385, 0.0), (3386, 0.0), (3387, 0.0), (3388, 0.0), (3389, 0.0), (3390, 0.0), (3391, 0.0), (3392, 0.0), (3393, 0.0), (3394, 0.0), (3395, 0.028615254600704704), (3396, 0.0), (3397, 0.03484766271013934), (3398, 0.0), (3399, 0.0), (3400, 0.0), (3401, 0.0), (3402, 0.0), (3403, 0.0), (3404, 0.0), (3405, 0.0), (3406, 0.0), (3407, 0.0), (3408, 0.0), (3409, 0.0), (3410, 0.0), (3411, 0.0), (3412, 0.0), (3413, 0.0), (3414, 0.0), (3415, 0.0), (3416, 0.0), (3417, 0.0), (3418, 0.0), (3419, 0.0), (3420, 0.0), (3421, 0.0), (3422, 0.0), (3423, 0.0), (3424, 0.0), (3425, 0.0), (3426, 0.0), (3427, 0.02415194517793924), (3428, 0.0), (3429, 0.0), (3430, 0.0), (3431, 0.0), (3432, 0.0), (3433, 0.0), (3434, 0.0), (3435, 0.0), (3436, 0.0), (3437, 0.0), (3438, 0.0), (3439, 0.0), (3440, 0.0), (3441, 0.0), (3442, 0.0), (3443, 0.0), (3444, 0.0), (3445, 0.0), (3446, 0.0), (3447, 0.0), (3448, 0.0), (3449, 0.0), (3450, 0.0), (3451, 0.0), (3452, 0.0), (3453, 0.0), (3454, 0.0), (3455, 0.0), (3456, 0.0), (3457, 0.03369245723498831), (3458, 0.0), (3459, 0.0), (3460, 0.0), (3461, 0.9821515072797545), (3462, 0.05567492202260613), (3463, 0.0), (3464, 0.0), (3465, 0.023316152446251504), (3466, 0.0), (3467, 0.0), (3468, 0.0), (3469, 0.0), (3470, 0.0), (3471, 0.0), (3472, 0.024410750711913308), (3473, 0.0), (3474, 0.0), (3475, 0.0), (3476, 0.0), (3477, 0.0), (3478, 0.0), (3479, 0.0), (3480, 0.0), (3481, 0.0), (3482, 0.026076149587396007), (3483, 0.08515845030309835), (3484, 0.0), (3485, 0.0), (3486, 0.0), (3487, 0.0), (3488, 0.0), (3489, 0.0), (3490, 0.02898763400426727), (3491, 0.0), (3492, 0.0), (3493, 0.11468333094667338), (3494, 0.0), (3495, 0.0), (3496, 0.060506306604343044), (3497, 0.0), (3498, 0.033397550335359155), (3499, 0.0), (3500, 0.06027573024226643), (3501, 0.0), (3502, 0.0), (3503, 0.0), (3504, 0.0), (3505, 0.0), (3506, 0.0), (3507, 0.0), (3508, 0.0), (3509, 0.0), (3510, 0.0), (3511, 0.0), (3512, 0.0), (3513, 0.0), (3514, 0.0), (3515, 0.0), (3516, 0.0), (3517, 0.0), (3518, 0.0), (3519, 0.0), (3520, 0.0), (3521, 0.0), (3522, 0.03006467385751343), (3523, 0.0), (3524, 0.0), (3525, 0.0), (3526, 0.0), (3527, 0.0), (3528, 0.0), (3529, 0.0), (3530, 0.0), (3531, 0.05907303303608302), (3532, 0.0), (3533, 0.0), (3534, 0.0), (3535, 0.0), (3536, 0.0), (3537, 0.031195971566566488), (3538, 0.0), (3539, 0.04342195048233283), (3540, 0.0), (3541, 0.05212931180017876), (3542, 0.0), (3543, 0.0), (3544, 0.0), (3545, 0.0), (3546, 0.0), (3547, 0.0), (3548, 0.0), (3549, 0.0), (3550, 0.0), (3551, 0.0), (3552, 0.0), (3553, 0.0), (3554, 0.0), (3555, 0.0), (3556, 0.0), (3557, 0.0), (3558, 0.0), (3559, 0.0), (3560, 0.0), (3561, 0.0), (3562, 0.0), (3563, 0.0), (3564, 0.0), (3565, 0.0), (3566, 0.0), (3567, 0.0), (3568, 0.0), (3569, 0.0), (3570, 0.0), (3571, 0.0), (3572, 0.0), (3573, 0.027032600838352627), (3574, 0.0), (3575, 0.0), (3576, 0.0), (3577, 0.0), (3578, 0.0), (3579, 0.0), (3580, 0.0), (3581, 0.0), (3582, 0.0), (3583, 0.0), (3584, 0.0), (3585, 0.0309468318830584), (3586, 0.0), (3587, 0.02329130506412663), (3588, 0.0), (3589, 0.0), (3590, 0.0), (3591, 0.0), (3592, 0.0), (3593, 0.0), (3594, 0.0), (3595, 0.0), (3596, 0.0), (3597, 0.0), (3598, 0.0), (3599, 0.0), (3600, 0.0), (3601, 0.0), (3602, 0.0), (3603, 0.0), (3604, 0.0), (3605, 0.03156768157320795), (3606, 0.0), (3607, 0.0), (3608, 0.0), (3609, 0.0), (3610, 0.0), (3611, 0.0), (3612, 0.0), (3613, 0.0), (3614, 0.0), (3615, 0.0), (3616, 0.0), (3617, 0.0), (3618, 0.0), (3619, 0.0), (3620, 0.0), (3621, 0.0), (3622, 0.02890658022536883), (3623, 0.0), (3624, 0.0), (3625, 0.0), (3626, 0.0), (3627, 0.0), (3628, 0.0), (3629, 0.0), (3630, 0.10181722669528104), (3631, 0.0), (3632, 0.0), (3633, 0.0), (3634, 0.04825116018868968), (3635, 0.0), (3636, 0.0), (3637, 0.0), (3638, 0.0), (3639, 0.0), (3640, 0.0), (3641, 0.0), (3642, 0.0), (3643, 0.0), (3644, 0.0), (3645, 0.0), (3646, 0.0), (3647, 0.0), (3648, 0.0), (3649, 0.0), (3650, 0.0), (3651, 0.0), (3652, 0.0), (3653, 0.0), (3654, 0.0), (3655, 0.0), (3656, 0.0), (3657, 0.0), (3658, 0.0), (3659, 0.0), (3660, 0.0), (3661, 0.0), (3662, 0.0), (3663, 0.0), (3664, 0.0), (3665, 0.0), (3666, 0.0), (3667, 0.0), (3668, 0.0), (3669, 0.0), (3670, 0.0), (3671, 0.0), (3672, 0.0), (3673, 0.0), (3674, 0.0), (3675, 0.0), (3676, 0.0), (3677, 0.0), (3678, 0.0), (3679, 0.0), (3680, 0.0), (3681, 0.05857368163212798), (3682, 0.0), (3683, 0.0), (3684, 0.0), (3685, 0.0), (3686, 0.0), (3687, 0.0), (3688, 0.0), (3689, 0.0), (3690, 0.0), (3691, 0.0), (3692, 0.0), (3693, 0.0), (3694, 0.030588293861514796), (3695, 0.0), (3696, 0.0), (3697, 0.0), (3698, 0.0), (3699, 0.0), (3700, 0.0), (3701, 0.0), (3702, 0.0), (3703, 0.02574094780874899), (3704, 0.0), (3705, 0.0), (3706, 0.0), (3707, 0.0), (3708, 0.0), (3709, 0.02844818822554419), (3710, 0.0), (3711, 0.02710007086699935), (3712, 0.0), (3713, 0.06446561632803469), (3714, 0.0), (3715, 0.0), (3716, 0.0), (3717, 0.0), (3718, 0.0), (3719, 0.0), (3720, 0.0), (3721, 0.0), (3722, 0.05596358810341626), (3723, 0.0), (3724, 0.0), (3725, 0.0), (3726, 0.0), (3727, 0.0), (3728, 0.0), (3729, 0.0), (3730, 0.0), (3731, 0.0), (3732, 0.0), (3733, 0.0), (3734, 0.0), (3735, 0.0), (3736, 0.0), (3737, 0.0), (3738, 0.0), (3739, 0.0), (3740, 0.0), (3741, 0.0), (3742, 0.0), (3743, 0.0), (3744, 0.0), (3745, 0.0), (3746, 0.0), (3747, 0.0), (3748, 0.0), (3749, 0.0), (3750, 0.0), (3751, 0.026696161581812712), (3752, 0.0), (3753, 0.0), (3754, 0.0), (3755, 0.0), (3756, 0.0), (3757, 0.022919234437665394), (3758, 0.0), (3759, 0.0), (3760, 0.0), (3761, 0.0), (3762, 0.0), (3763, 0.0), (3764, 0.0), (3765, 0.0), (3766, 0.0), (3767, 0.0), (3768, 0.0), (3769, 0.0), (3770, 0.0), (3771, 0.0), (3772, 0.0), (3773, 0.0), (3774, 0.0), (3775, 0.0), (3776, 0.0), (3777, 0.0), (3778, 0.0), (3779, 0.0), (3780, 0.0), (3781, 0.0), (3782, 0.0), (3783, 0.0), (3784, 0.0), (3785, 0.0), (3786, 0.0), (3787, 0.0), (3788, 0.0), (3789, 0.0), (3790, 0.0), (3791, 0.0), (3792, 0.0), (3793, 0.0), (3794, 0.0), (3795, 0.0), (3796, 0.0), (3797, 0.0), (3798, 0.0), (3799, 0.0), (3800, 0.0), (3801, 0.0), (3802, 0.0), (3803, 0.0), (3804, 0.0), (3805, 0.0), (3806, 0.0), (3807, 0.0), (3808, 0.0), (3809, 0.0), (3810, 0.0), (3811, 0.0), (3812, 0.0), (3813, 0.0), (3814, 0.0), (3815, 0.0), (3816, 0.0), (3817, 0.030053998496291548), (3818, 0.0), (3819, 0.0), (3820, 0.0), (3821, 0.0), (3822, 0.0), (3823, 0.0), (3824, 0.0), (3825, 0.0), (3826, 0.0), (3827, 0.0), (3828, 0.0), (3829, 0.0), (3830, 0.06810091177310451), (3831, 0.0), (3832, 0.0), (3833, 0.0), (3834, 0.0), (3835, 0.0), (3836, 0.0), (3837, 0.0), (3838, 0.0), (3839, 0.0), (3840, 0.0), (3841, 0.0), (3842, 0.0), (3843, 0.0), (3844, 0.0), (3845, 0.0), (3846, 0.0), (3847, 0.0), (3848, 0.0), (3849, 0.0), (3850, 0.0), (3851, 0.0), (3852, 0.0), (3853, 0.0), (3854, 0.0), (3855, 0.0), (3856, 0.0), (3857, 0.0), (3858, 0.0), (3859, 0.0), (3860, 0.0), (3861, 0.0), (3862, 0.0), (3863, 0.02637788501623739), (3864, 0.0), (3865, 0.0), (3866, 0.0), (3867, 0.0), (3868, 0.0), (3869, 0.0), (3870, 0.0), (3871, 0.0), (3872, 0.0), (3873, 0.0), (3874, 0.0), (3875, 0.0), (3876, 0.0), (3877, 0.0), (3878, 0.0), (3879, 0.0), (3880, 0.0), (3881, 0.0), (3882, 0.0), (3883, 0.0), (3884, 0.0), (3885, 0.0), (3886, 0.0), (3887, 0.0), (3888, 0.0), (3889, 0.0), (3890, 0.0), (3891, 0.02453938796153944), (3892, 0.0), (3893, 0.0), (3894, 0.0), (3895, 0.0), (3896, 0.0), (3897, 0.0), (3898, 0.0), (3899, 0.0), (3900, 0.0), (3901, 0.0), (3902, 0.0), (3903, 0.0), (3904, 0.026973802698339357), (3905, 0.0), (3906, 0.0), (3907, 0.0), (3908, 0.024591347127494233), (3909, 0.0), (3910, 0.0), (3911, 0.03241892968224634), (3912, 0.0), (3913, 0.0), (3914, 0.0), (3915, 0.0), (3916, 0.0), (3917, 0.0), (3918, 0.0), (3919, 0.0), (3920, 0.0), (3921, 0.0), (3922, 0.0), (3923, 0.0), (3924, 0.0), (3925, 0.0), (3926, 0.0), (3927, 0.0), (3928, 0.0), (3929, 0.0), (3930, 0.0), (3931, 0.0), (3932, 0.0), (3933, 0.0), (3934, 0.0), (3935, 0.0), (3936, 0.0), (3937, 0.0), (3938, 0.0), (3939, 0.0), (3940, 0.0), (3941, 0.0), (3942, 0.0), (3943, 0.0), (3944, 0.0), (3945, 0.0), (3946, 0.07769694200301114), (3947, 0.0), (3948, 0.0), (3949, 0.0), (3950, 0.0), (3951, 0.0), (3952, 0.0), (3953, 0.0), (3954, 0.07490373656304482), (3955, 0.02281260391431992), (3956, 0.0), (3957, 0.0), (3958, 0.0), (3959, 0.0), (3960, 0.0), (3961, 0.0), (3962, 0.0), (3963, 0.0), (3964, 0.0), (3965, 0.0), (3966, 0.0), (3967, 0.0), (3968, 0.05581211438139353), (3969, 0.0), (3970, 0.0), (3971, 0.0), (3972, 0.07494191563082281), (3973, 0.0), (3974, 0.0), (3975, 0.0), (3976, 0.0), (3977, 0.0), (3978, 0.0), (3979, 0.0), (3980, 0.0), (3981, 0.0), (3982, 0.0), (3983, 0.0), (3984, 0.0), (3985, 0.0), (3986, 0.0), (3987, 0.0), (3988, 0.0), (3989, 0.0), (3990, 0.03362968077483029), (3991, 0.0695687814189337), (3992, 0.0), (3993, 0.0), (3994, 0.0), (3995, 0.0), (3996, 0.0), (3997, 0.0), (3998, 0.0), (3999, 0.0), (4000, 0.0), (4001, 0.0), (4002, 0.0), (4003, 0.09955569014140395), (4004, 0.02470124941534836), (4005, 0.0), (4006, 0.0), (4007, 0.02984310340369186), (4008, 0.0), (4009, 0.0), (4010, 0.0), (4011, 0.0), (4012, 0.0), (4013, 0.0), (4014, 0.0), (4015, 0.0), (4016, 0.0), (4017, 0.0), (4018, 0.0), (4019, 0.04665229445866571), (4020, 0.0), (4021, 0.0), (4022, 0.0), (4023, 0.0), (4024, 0.0), (4025, 0.0), (4026, 0.0), (4027, 0.0), (4028, 0.0), (4029, 0.0), (4030, 0.0), (4031, 0.0), (4032, 0.0), (4033, 0.0), (4034, 0.0), (4035, 0.0), (4036, 0.0), (4037, 0.0), (4038, 0.0), (4039, 0.0), (4040, 0.0), (4041, 0.054302857004723856), (4042, 0.0), (4043, 0.0), (4044, 0.0), (4045, 0.0), (4046, 0.0), (4047, 0.027892750396799806), (4048, 0.0), (4049, 0.03050037878265901), (4050, 0.0), (4051, 0.0), (4052, 0.0), (4053, 0.0), (4054, 0.0), (4055, 0.0), (4056, 0.0), (4057, 0.0), (4058, 0.0), (4059, 0.0), (4060, 0.0), (4061, 0.0), (4062, 0.022986441038620516), (4063, 0.0), (4064, 0.05323072290278988), (4065, 0.0), (4066, 0.0), (4067, 0.0), (4068, 0.0), (4069, 0.0), (4070, 0.0), (4071, 0.0), (4072, 0.0), (4073, 0.0), (4074, 0.0), (4075, 0.0), (4076, 0.0), (4077, 0.0), (4078, 0.0), (4079, 0.0), (4080, 0.023573545344519223), (4081, 0.0), (4082, 0.0), (4083, 0.0), (4084, 0.02892318110997771), (4085, 0.0), (4086, 0.0), (4087, 0.0), (4088, 0.0), (4089, 0.0), (4090, 0.0), (4091, 0.0), (4092, 0.0), (4093, 0.026225921958477973), (4094, 0.0), (4095, 0.0), (4096, 0.0), (4097, 0.0), (4098, 0.0), (4099, 0.0), (4100, 0.0), (4101, 0.0), (4102, 0.0), (4103, 0.0), (4104, 0.0), (4105, 0.0), (4106, 0.0), (4107, 0.0), (4108, 0.0), (4109, 0.0), (4110, 0.0), (4111, 0.0), (4112, 0.0), (4113, 0.0), (4114, 0.0), (4115, 0.0), (4116, 0.0), (4117, 0.0), (4118, 0.0), (4119, 0.0), (4120, 0.0), (4121, 0.0), (4122, 0.0), (4123, 0.0), (4124, 0.0), (4125, 0.0), (4126, 0.0), (4127, 0.0), (4128, 0.0), (4129, 0.0), (4130, 0.0), (4131, 0.0), (4132, 0.0), (4133, 0.0), (4134, 0.0), (4135, 0.0), (4136, 0.0), (4137, 0.0), (4138, 0.0), (4139, 0.0), (4140, 0.0), (4141, 0.03457494041020957), (4142, 0.02505669690063353), (4143, 0.0), (4144, 0.0), (4145, 0.0), (4146, 0.0), (4147, 0.0), (4148, 0.0), (4149, 0.0), (4150, 0.0), (4151, 0.0), (4152, 0.0), (4153, 0.0), (4154, 0.0), (4155, 0.0), (4156, 0.0), (4157, 0.031233801829548127), (4158, 0.0), (4159, 0.0), (4160, 0.0), (4161, 0.0), (4162, 0.0), (4163, 0.0), (4164, 0.02346003277178495), (4165, 0.0), (4166, 0.0), (4167, 0.028889295900622024), (4168, 0.0), (4169, 0.0), (4170, 0.0), (4171, 0.0), (4172, 0.0), (4173, 0.0), (4174, 0.0), (4175, 0.0), (4176, 0.02459438736661615), (4177, 0.0), (4178, 0.0), (4179, 0.0), (4180, 0.0), (4181, 0.0), (4182, 0.0), (4183, 0.0), (4184, 0.0), (4185, 0.0), (4186, 0.0), (4187, 0.0), (4188, 0.0), (4189, 0.0), (4190, 0.0), (4191, 0.0), (4192, 0.0), (4193, 0.0), (4194, 0.0), (4195, 0.0), (4196, 0.0), (4197, 0.0), (4198, 0.0), (4199, 0.0), (4200, 0.0), (4201, 0.0), (4202, 0.0), (4203, 0.0), (4204, 0.0), (4205, 0.0), (4206, 0.0), (4207, 0.0), (4208, 0.0), (4209, 0.0), (4210, 0.0), (4211, 0.0), (4212, 0.0), (4213, 0.0), (4214, 0.0), (4215, 0.0), (4216, 0.0), (4217, 0.0), (4218, 0.0), (4219, 0.0), (4220, 0.0), (4221, 0.0), (4222, 0.0), (4223, 0.0), (4224, 0.027301396486303448), (4225, 0.03735922822149702), (4226, 0.0), (4227, 0.0), (4228, 0.0), (4229, 0.0), (4230, 0.0), (4231, 0.0), (4232, 0.0), (4233, 0.0), (4234, 0.0), (4235, 0.0), (4236, 0.0), (4237, 0.0), (4238, 0.0), (4239, 0.0), (4240, 0.0), (4241, 0.0), (4242, 0.0), (4243, 0.0), (4244, 0.0), (4245, 0.0), (4246, 0.0), (4247, 0.024080661270871054), (4248, 0.0), (4249, 0.0), (4250, 0.0), (4251, 0.0), (4252, 0.0), (4253, 0.0), (4254, 0.02331998766725064), (4255, 0.0), (4256, 0.0), (4257, 0.0), (4258, 0.0), (4259, 0.0), (4260, 0.0), (4261, 0.0), (4262, 0.0), (4263, 0.0), (4264, 0.0), (4265, 0.0), (4266, 0.0), (4267, 0.0), (4268, 0.0), (4269, 0.0), (4270, 0.0), (4271, 0.0), (4272, 0.0), (4273, 0.0), (4274, 0.0), (4275, 0.0), (4276, 0.0), (4277, 0.0), (4278, 0.0), (4279, 0.0), (4280, 0.0), (4281, 0.0), (4282, 0.0), (4283, 0.0), (4284, 0.0), (4285, 0.0), (4286, 0.0), (4287, 0.0), (4288, 0.0), (4289, 0.0), (4290, 0.0), (4291, 0.0), (4292, 0.0), (4293, 0.0), (4294, 0.0), (4295, 0.0), (4296, 0.0), (4297, 0.03183848684423894), (4298, 0.02210295798141166), (4299, 0.0), (4300, 0.0), (4301, 0.0), (4302, 0.0), (4303, 0.0), (4304, 0.0), (4305, 0.0), (4306, 0.0), (4307, 0.0), (4308, 0.0), (4309, 0.0), (4310, 0.0), (4311, 0.0), (4312, 0.0), (4313, 0.0), (4314, 0.0), (4315, 0.0), (4316, 0.0), (4317, 0.030452938308897882), (4318, 0.0), (4319, 0.0), (4320, 0.0), (4321, 0.0), (4322, 0.0), (4323, 0.0), (4324, 0.0), (4325, 0.0), (4326, 0.0), (4327, 0.0), (4328, 0.0), (4329, 0.0541113911261456), (4330, 0.0), (4331, 0.0), (4332, 0.0), (4333, 0.02882383426482996), (4334, 0.0), (4335, 0.0), (4336, 0.0), (4337, 0.0), (4338, 0.0), (4339, 0.02019617884342752), (4340, 0.0), (4341, 0.0), (4342, 0.0), (4343, 0.0), (4344, 0.0), (4345, 0.0), (4346, 0.0), (4347, 0.0), (4348, 0.0), (4349, 0.0), (4350, 0.03245473439824313), (4351, 0.0), (4352, 0.0), (4353, 0.0), (4354, 0.0), (4355, 0.0), (4356, 0.0), (4357, 0.07084611464947531), (4358, 0.0), (4359, 0.0), (4360, 0.0), (4361, 0.0), (4362, 0.0), (4363, 0.0), (4364, 0.0), (4365, 0.0), (4366, 0.0), (4367, 0.0), (4368, 0.0), (4369, 0.0), (4370, 0.0), (4371, 0.0), (4372, 0.0), (4373, 0.0), (4374, 0.0), (4375, 0.0), (4376, 0.0), (4377, 0.0), (4378, 0.0), (4379, 0.0), (4380, 0.0), (4381, 0.0), (4382, 0.0), (4383, 0.0), (4384, 0.0), (4385, 0.0), (4386, 0.0), (4387, 0.0), (4388, 0.0), (4389, 0.0), (4390, 0.0), (4391, 0.0), (4392, 0.0), (4393, 0.0), (4394, 0.0), (4395, 0.0), (4396, 0.0), (4397, 0.0), (4398, 0.0), (4399, 0.0), (4400, 0.0), (4401, 0.0), (4402, 0.0), (4403, 0.0), (4404, 0.0), (4405, 0.0), (4406, 0.0), (4407, 0.0), (4408, 0.0), (4409, 0.0), (4410, 0.0), (4411, 0.0), (4412, 0.0), (4413, 0.0), (4414, 0.0627157380417168), (4415, 0.0), (4416, 0.0), (4417, 0.0), (4418, 0.0), (4419, 0.0), (4420, 0.0), (4421, 0.0), (4422, 0.0), (4423, 0.0), (4424, 0.0), (4425, 0.0), (4426, 0.0), (4427, 0.0), (4428, 0.0), (4429, 0.0), (4430, 0.0), (4431, 0.0), (4432, 0.0), (4433, 0.0), (4434, 0.0), (4435, 0.0), (4436, 0.0), (4437, 0.03027351535674762), (4438, 0.0), (4439, 0.0), (4440, 0.03208358217453369), (4441, 0.0), (4442, 0.0), (4443, 0.0), (4444, 0.0), (4445, 0.0), (4446, 0.0), (4447, 0.0), (4448, 0.0), (4449, 0.026288631855318278), (4450, 0.0), (4451, 0.0), (4452, 0.0), (4453, 0.0), (4454, 0.0), (4455, 0.0), (4456, 0.0), (4457, 0.0), (4458, 0.0), (4459, 0.0), (4460, 0.0), (4461, 0.0), (4462, 0.0), (4463, 0.0), (4464, 0.0), (4465, 0.0), (4466, 0.0), (4467, 0.0), (4468, 0.0), (4469, 0.0), (4470, 0.0), (4471, 0.0), (4472, 0.0), (4473, 0.0), (4474, 0.0), (4475, 0.0), (4476, 0.0), (4477, 0.0), (4478, 0.0), (4479, 0.0), (4480, 0.0), (4481, 0.0), (4482, 0.0), (4483, 0.0), (4484, 0.0), (4485, 0.0), (4486, 0.0), (4487, 0.0), (4488, 0.0), (4489, 0.0), (4490, 0.0), (4491, 0.0), (4492, 0.0), (4493, 0.0), (4494, 0.0), (4495, 0.0), (4496, 0.0), (4497, 0.0), (4498, 0.0), (4499, 0.0), (4500, 0.0), (4501, 0.0), (4502, 0.0), (4503, 0.0), (4504, 0.0), (4505, 0.0), (4506, 0.0), (4507, 0.0), (4508, 0.022830613532578026), (4509, 0.0), (4510, 0.0), (4511, 0.0), (4512, 0.0), (4513, 0.0), (4514, 0.0), (4515, 0.0), (4516, 0.05939705024611946), (4517, 0.0), (4518, 0.0), (4519, 0.0), (4520, 0.0), (4521, 0.0), (4522, 0.0), (4523, 0.0), (4524, 0.0), (4525, 0.0), (4526, 0.0), (4527, 0.0), (4528, 0.0), (4529, 0.0), (4530, 0.0), (4531, 0.0), (4532, 0.0), (4533, 0.0), (4534, 0.0), (4535, 0.0), (4536, 0.0), (4537, 0.02549567973892735), (4538, 0.0), (4539, 0.0), (4540, 0.0), (4541, 0.0), (4542, 0.023946087042199873), (4543, 0.0), (4544, 0.0), (4545, 0.0), (4546, 0.0), (4547, 0.0), (4548, 0.0), (4549, 0.0), (4550, 0.0), (4551, 0.0), (4552, 0.0), (4553, 0.0), (4554, 0.0), (4555, 0.0), (4556, 0.0), (4557, 0.0), (4558, 0.0), (4559, 0.0), (4560, 0.0), (4561, 0.0), (4562, 0.0), (4563, 0.0), (4564, 0.0), (4565, 0.0), (4566, 0.0), (4567, 0.0), (4568, 0.029278148687650888), (4569, 0.03427687759037138), (4570, 0.0), (4571, 0.0), (4572, 0.0), (4573, 0.0), (4574, 0.0), (4575, 0.0), (4576, 0.0), (4577, 0.0), (4578, 0.0), (4579, 0.0), (4580, 0.0), (4581, 0.02986822972336161), (4582, 0.0), (4583, 0.0), (4584, 0.0328652492347684), (4585, 0.0), (4586, 0.0), (4587, 0.0), (4588, 0.0), (4589, 0.0), (4590, 0.0), (4591, 0.0), (4592, 0.0), (4593, 0.0), (4594, 0.0), (4595, 0.0), (4596, 0.0), (4597, 0.0), (4598, 0.0), (4599, 0.03156084422753215), (4600, 0.0), (4601, 0.0), (4602, 0.0), (4603, 0.0), (4604, 0.0), (4605, 0.051848677608925434), (4606, 0.0), (4607, 0.0), (4608, 0.0), (4609, 0.0), (4610, 0.0), (4611, 0.0), (4612, 0.0), (4613, 0.0), (4614, 0.0), (4615, 0.0), (4616, 0.0), (4617, 0.0), (4618, 0.0), (4619, 0.0), (4620, 0.0), (4621, 0.0), (4622, 0.0), (4623, 0.0), (4624, 0.0), (4625, 0.0), (4626, 0.0), (4627, 0.0), (4628, 0.0), (4629, 0.0), (4630, 0.0), (4631, 0.0), (4632, 0.0), (4633, 0.0), (4634, 0.0), (4635, 0.0), (4636, 0.0), (4637, 0.0), (4638, 0.0), (4639, 0.0), (4640, 0.0), (4641, 0.0), (4642, 0.0), (4643, 0.0), (4644, 0.0), (4645, 0.0), (4646, 0.029806161927813043), (4647, 0.0), (4648, 0.0), (4649, 0.0), (4650, 0.0), (4651, 0.0), (4652, 0.0), (4653, 0.0), (4654, 0.0), (4655, 0.029624743236984663), (4656, 0.0), (4657, 0.0), (4658, 0.0), (4659, 0.0), (4660, 0.0), (4661, 0.0), (4662, 0.0), (4663, 0.0), (4664, 0.0), (4665, 0.0), (4666, 0.0), (4667, 0.0), (4668, 0.0), (4669, 0.0), (4670, 0.0), (4671, 0.0), (4672, 0.024643381932492825), (4673, 0.0), (4674, 0.0), (4675, 0.0), (4676, 0.041070186216339954), (4677, 0.0), (4678, 0.0), (4679, 0.0), (4680, 0.0), (4681, 0.033943483579247584), (4682, 0.0), (4683, 0.0), (4684, 0.0), (4685, 0.0), (4686, 0.0), (4687, 0.0), (4688, 0.0), (4689, 0.0), (4690, 0.05983612702292514), (4691, 0.0), (4692, 0.0), (4693, 0.0), (4694, 0.027323885898093012), (4695, 0.0), (4696, 0.0), (4697, 0.0), (4698, 0.0), (4699, 0.0), (4700, 0.0), (4701, 0.0), (4702, 0.0), (4703, 0.0), (4704, 0.0), (4705, 0.0), (4706, 0.0), (4707, 0.0), (4708, 0.0), (4709, 0.0), (4710, 0.0), (4711, 0.0), (4712, 0.0), (4713, 0.0), (4714, 0.0), (4715, 0.0), (4716, 0.0), (4717, 0.0), (4718, 0.0), (4719, 0.0), (4720, 0.0), (4721, 0.0), (4722, 0.0), (4723, 0.0), (4724, 0.0), (4725, 0.0), (4726, 0.0), (4727, 0.0), (4728, 0.0), (4729, 0.0), (4730, 0.0), (4731, 0.0), (4732, 0.0), (4733, 0.0), (4734, 0.0), (4735, 0.0), (4736, 0.0), (4737, 0.0), (4738, 0.0), (4739, 0.0), (4740, 0.0), (4741, 0.0), (4742, 0.0), (4743, 0.0), (4744, 0.0), (4745, 0.0), (4746, 0.0), (4747, 0.02478546816146306), (4748, 0.0), (4749, 0.0), (4750, 0.0), (4751, 0.03303067580017068), (4752, 0.0340343079919467), (4753, 0.0), (4754, 0.0), (4755, 0.0), (4756, 0.0), (4757, 0.0), (4758, 0.0), (4759, 0.0), (4760, 0.05191466371934071), (4761, 0.0), (4762, 0.0), (4763, 0.0), (4764, 0.0), (4765, 0.0), (4766, 0.0), (4767, 0.0), (4768, 0.0), (4769, 0.0), (4770, 0.0), (4771, 0.0), (4772, 0.0), (4773, 0.0), (4774, 0.0), (4775, 0.0), (4776, 0.0), (4777, 0.0), (4778, 0.07327108017214924), (4779, 0.0), (4780, 0.0), (4781, 0.0), (4782, 0.0), (4783, 0.0), (4784, 0.0), (4785, 0.0), (4786, 0.0), (4787, 0.0), (4788, 0.0), (4789, 0.0), (4790, 0.0), (4791, 0.0), (4792, 0.0), (4793, 0.0), (4794, 0.0), (4795, 0.0), (4796, 0.0), (4797, 0.02641687976967618), (4798, 0.03404651145283239), (4799, 0.0), (4800, 0.0), (4801, 0.0), (4802, 0.0), (4803, 0.0), (4804, 0.0), (4805, 0.0), (4806, 0.0), (4807, 0.0), (4808, 0.0), (4809, 0.0), (4810, 0.0), (4811, 0.0), (4812, 0.0), (4813, 0.07845296952133003), (4814, 0.0), (4815, 0.0), (4816, 0.0), (4817, 0.07288007537274163), (4818, 0.0), (4819, 0.028076262933595185), (4820, 0.0), (4821, 0.0), (4822, 0.0), (4823, 0.0), (4824, 0.0), (4825, 0.0), (4826, 0.0), (4827, 0.0), (4828, 0.031465465363502115), (4829, 0.0), (4830, 0.0), (4831, 0.0), (4832, 0.0), (4833, 0.0), (4834, 0.0), (4835, 0.0), (4836, 0.0), (4837, 0.0), (4838, 0.0618601920931321), (4839, 0.0), (4840, 0.0), (4841, 0.0), (4842, 0.030551608536590745), (4843, 0.0), (4844, 0.0), (4845, 0.0), (4846, 0.0), (4847, 0.0), (4848, 0.0), (4849, 0.0), (4850, 0.0), (4851, 0.0), (4852, 0.0), (4853, 0.0), (4854, 0.02379324050579305), (4855, 0.0), (4856, 0.02078625044808102), (4857, 0.0), (4858, 0.0), (4859, 0.0), (4860, 0.0), (4861, 0.0), (4862, 0.027240540648369845), (4863, 0.0), (4864, 0.0), (4865, 0.0), (4866, 0.0), (4867, 0.0), (4868, 0.0), (4869, 0.0), (4870, 0.0), (4871, 0.0), (4872, 0.0), (4873, 0.0), (4874, 0.0), (4875, 0.0), (4876, 0.03162654415500747), (4877, 0.0), (4878, 0.0), (4879, 0.0), (4880, 0.09181988777519393), (4881, 0.0), (4882, 0.0), (4883, 0.0), (4884, 0.0), (4885, 0.0), (4886, 0.0), (4887, 0.0), (4888, 0.0), (4889, 0.03055244709091771), (4890, 0.0), (4891, 0.0), (4892, 0.0), (4893, 0.0), (4894, 0.02710007086699935), (4895, 0.024072782148008294), (4896, 0.0), (4897, 0.0), (4898, 0.0), (4899, 0.0), (4900, 0.0), (4901, 0.0), (4902, 0.0), (4903, 0.0), (4904, 0.0), (4905, 0.0), (4906, 0.0), (4907, 0.0), (4908, 0.0), (4909, 0.0), (4910, 0.0), (4911, 0.0), (4912, 0.0), (4913, 0.0), (4914, 0.060992982335129065), (4915, 0.0), (4916, 0.0), (4917, 0.0), (4918, 0.0), (4919, 0.0), (4920, 0.0), (4921, 0.0), (4922, 0.0), (4923, 0.0), (4924, 0.0), (4925, 0.0), (4926, 0.0), (4927, 0.0), (4928, 0.0), (4929, 0.0), (4930, 0.0), (4931, 0.0), (4932, 0.0), (4933, 0.0), (4934, 0.0), (4935, 0.0), (4936, 0.0), (4937, 0.0), (4938, 0.0), (4939, 0.0), (4940, 0.0), (4941, 0.0), (4942, 0.0), (4943, 0.0), (4944, 0.0), (4945, 0.0), (4946, 0.0), (4947, 0.0), (4948, 0.0), (4949, 0.0), (4950, 0.0), (4951, 0.0), (4952, 0.0), (4953, 0.0), (4954, 0.0), (4955, 0.0), (4956, 0.0), (4957, 0.0), (4958, 0.0), (4959, 0.0), (4960, 0.0), (4961, 0.0), (4962, 0.0), (4963, 0.0), (4964, 0.0), (4965, 0.0), (4966, 0.0), (4967, 0.0), (4968, 0.0), (4969, 0.0), (4970, 0.0), (4971, 0.0), (4972, 0.0), (4973, 0.0), (4974, 0.0), (4975, 0.0), (4976, 0.0), (4977, 0.0), (4978, 0.0), (4979, 0.0), (4980, 0.0), (4981, 0.0), (4982, 0.0), (4983, 0.0), (4984, 0.0), (4985, 0.0), (4986, 0.0), (4987, 0.0), (4988, 0.0), (4989, 0.0), (4990, 0.0), (4991, 0.0), (4992, 0.0), (4993, 0.0), (4994, 0.0), (4995, 0.0), (4996, 0.0), (4997, 0.0), (4998, 0.0), (4999, 0.0), (5000, 0.0), (5001, 0.0), (5002, 0.0), (5003, 0.0), (5004, 0.0), (5005, 0.0), (5006, 0.0), (5007, 0.0), (5008, 0.0), (5009, 0.0), (5010, 0.0), (5011, 0.0), (5012, 0.0), (5013, 0.0), (5014, 0.0), (5015, 0.0), (5016, 0.0), (5017, 0.0), (5018, 0.0), (5019, 0.0), (5020, 0.0), (5021, 0.0), (5022, 0.0), (5023, 0.0), (5024, 0.0), (5025, 0.0), (5026, 0.0), (5027, 0.0), (5028, 0.060673550541085156), (5029, 0.0), (5030, 0.0), (5031, 0.0), (5032, 0.0), (5033, 0.0), (5034, 0.0), (5035, 0.0), (5036, 0.0), (5037, 0.0), (5038, 0.0), (5039, 0.0), (5040, 0.0), (5041, 0.0), (5042, 0.0)]\n"
          ]
        }
      ]
    },
    {
      "cell_type": "code",
      "source": [
        "sorted_similar_index=sorted(similarity_index,key=lambda x:x[1],reverse=True)\n",
        "print(sorted_similar_index)"
      ],
      "metadata": {
        "colab": {
          "base_uri": "https://localhost:8080/"
        },
        "id": "Pb_MJD-AJ2cd",
        "outputId": "05d5d986-21ba-43c7-acb3-beb826c2ee5b"
      },
      "execution_count": 59,
      "outputs": [
        {
          "output_type": "stream",
          "name": "stdout",
          "text": [
            "[(31, 1.0), (161, 1.0), (6, 0.9821515072797545), (3461, 0.9821515072797545), (993, 0.2065547134362144), (30, 0.11468333094667338), (3493, 0.11468333094667338), (39, 0.1127423006327827), (2, 0.10932445644919604), (3056, 0.1069523732047283), (3630, 0.10181722669528104), (732, 0.09991648714079529), (843, 0.09962882317160048), (4003, 0.09955569014140395), (4880, 0.09181988777519393), (69, 0.09133339372455562), (80, 0.08962106376155292), (185, 0.08919061470993885), (32, 0.0889093507699853), (548, 0.08888396785512652), (3483, 0.08515845030309835), (21, 0.08492570194572872), (2606, 0.08412149661240499), (574, 0.08306123922330891), (13, 0.07928472423182018), (1114, 0.07925539631341043), (4813, 0.07845296952133003), (2091, 0.07821939711306085), (1275, 0.0780683961875645), (682, 0.0779050554866999), (3946, 0.07769694200301114), (2103, 0.07697837570762278), (3972, 0.07494191563082281), (3954, 0.07490373656304482), (2509, 0.07461203282229378), (2144, 0.07367631714631215), (1646, 0.07355306167075293), (38, 0.07327108017214924), (4778, 0.07327108017214924), (4817, 0.07288007537274163), (457, 0.07270340091098652), (756, 0.07257932158826635), (1560, 0.07220232639326626), (1868, 0.07129351786008381), (2856, 0.07106731592873887), (4357, 0.07084611464947531), (170, 0.07005703424236912), (3991, 0.0695687814189337), (1190, 0.06939035168902395), (2503, 0.06888056541268757), (3830, 0.06810091177310451), (645, 0.06795261751715122), (2910, 0.06616041296223853), (813, 0.06610658843202603), (1249, 0.06607743525672521), (2697, 0.06592575733546771), (1926, 0.06575429193715909), (3143, 0.0651048202149847), (3285, 0.06505888146099169), (2296, 0.06483674576009237), (2678, 0.06476389265937327), (391, 0.06462088066429567), (946, 0.06452537977806327), (3713, 0.06446561632803469), (1666, 0.06443906325897678), (2921, 0.06432814613476864), (941, 0.06430965420633963), (2098, 0.06424757430496385), (385, 0.06395313013112304), (1215, 0.06352070384939978), (3050, 0.06313105965057471), (376, 0.06306397405564092), (4414, 0.0627157380417168), (1329, 0.06267580825735988), (2791, 0.06260211732574247), (2278, 0.06255734171430652), (3306, 0.06254043660297715), (3118, 0.06222601939480548), (4838, 0.0618601920931321), (1388, 0.061805432425049385), (2458, 0.06173252795447904), (2495, 0.06158807835386617), (3038, 0.061518319919021104), (4914, 0.060992982335129065), (5028, 0.060673550541085156), (3496, 0.060506306604343044), (3500, 0.06027573024226643), (1117, 0.05998929054160082), (4690, 0.05983612702292514), (2023, 0.059748111420691745), (0, 0.05942782727708596), (1998, 0.05939883519225202), (4516, 0.05939705024611946), (1282, 0.05935686916539902), (3531, 0.05907303303608302), (1424, 0.05902454993557173), (3681, 0.05857368163212798), (1398, 0.0585032148527742), (82, 0.05812399517559312), (1656, 0.05795565292529177), (1268, 0.05750613071995535), (210, 0.05705107044064825), (737, 0.056990004052696136), (2403, 0.056767464147311854), (19, 0.05654983120052353), (325, 0.05645371110062801), (1297, 0.05614298651800642), (2683, 0.05613641578970843), (3722, 0.05596358810341626), (3968, 0.05581211438139353), (1715, 0.0557847857403113), (3462, 0.05567492202260613), (1570, 0.055486965854465595), (769, 0.05544952564232715), (647, 0.05538181394341228), (1422, 0.05522397919361906), (2270, 0.05485389552201539), (487, 0.05485364637794715), (2468, 0.05478088836842505), (15, 0.054630123685400385), (2687, 0.054447266848598304), (1145, 0.05441548106015504), (4041, 0.054302857004723856), (482, 0.054251078858615666), (675, 0.05424358614504178), (4329, 0.0541113911261456), (152, 0.05384972894493718), (4064, 0.05323072290278988), (2920, 0.053037328871788664), (2070, 0.052854715481355015), (1387, 0.05269836153838971), (1660, 0.05216282452651102), (3541, 0.05212931180017876), (510, 0.05208957214395195), (4760, 0.05191466371934071), (1702, 0.05186470535755442), (4605, 0.051848677608925434), (368, 0.05172973789963339), (1432, 0.05167002809361382), (520, 0.05150416029807585), (34, 0.05104239541524355), (2168, 0.05083218351621371), (2113, 0.05034557867606355), (72, 0.05016927892724511), (1077, 0.0499304930761579), (123, 0.049888853647342246), (240, 0.049238417223374506), (2332, 0.04920532952817127), (132, 0.04918450651550646), (959, 0.04917896707358316), (3024, 0.048939301898379056), (47, 0.048812096918173245), (342, 0.048631140346913744), (2135, 0.04860557726091996), (236, 0.048469277240292624), (51, 0.04839219289048227), (3634, 0.04825116018868968), (237, 0.04808816027146655), (433, 0.04773694189433544), (1536, 0.04755144451138564), (1304, 0.04749391852066402), (4019, 0.04665229445866571), (2051, 0.046256676370109544), (808, 0.04527390206825395), (3329, 0.04439519422491588), (3539, 0.04342195048233283), (4676, 0.041070186216339954), (4225, 0.03735922822149702), (430, 0.03527863843605707), (3370, 0.03527863843605707), (1378, 0.034952141296486036), (2262, 0.034952141296486036), (3397, 0.03484766271013934), (2552, 0.03480977740795575), (336, 0.03457494041020957), (4141, 0.03457494041020957), (537, 0.03442445840375438), (815, 0.03427687759037138), (4569, 0.03427687759037138), (2633, 0.03425686680171026), (3360, 0.03413949510021165), (1847, 0.03409706892456945), (4798, 0.03404651145283239), (188, 0.0340343079919467), (3010, 0.0340343079919467), (4752, 0.0340343079919467), (313, 0.03394903324361677), (2546, 0.033943483579247584), (4681, 0.033943483579247584), (527, 0.03390061440465793), (1455, 0.03386247264303932), (1540, 0.03384810876897862), (429, 0.033773057947457955), (3457, 0.03369245723498831), (1959, 0.03368564715623828), (3990, 0.03362968077483029), (3498, 0.033397550335359155), (1580, 0.03338738510957345), (2093, 0.03320157542562043), (1541, 0.033078447855982324), (709, 0.03307305889185283), (4751, 0.03303067580017068), (806, 0.03302226887859686), (2081, 0.033002282708359566), (791, 0.03297790811586686), (2973, 0.03294283180924083), (2663, 0.03288760349693077), (337, 0.0328652492347684), (4584, 0.0328652492347684), (1133, 0.032864265705664544), (3335, 0.03273698707620591), (1632, 0.03269809221580508), (610, 0.03268085975895425), (2393, 0.03267519644437284), (136, 0.03267510489021154), (795, 0.03265608174227842), (2755, 0.032625872532395975), (150, 0.032512390887203195), (1582, 0.032512390887203195), (554, 0.03245530118701317), (1662, 0.03245473439824313), (4350, 0.03245473439824313), (1316, 0.0324251824458795), (3911, 0.03241892968224634), (1143, 0.03240807124535754), (125, 0.03226013218235476), (582, 0.03223477089899806), (2234, 0.03220774729775724), (2343, 0.032085419831122286), (4440, 0.03208358217453369), (2494, 0.03206543417891041), (2280, 0.03196915012298694), (403, 0.03192982782683922), (1050, 0.03190768389049948), (3346, 0.03186621947313285), (306, 0.03186342689983018), (4297, 0.03183848684423894), (420, 0.03180624318747401), (593, 0.03174404997430948), (1878, 0.0317065680165811), (690, 0.03169533468100874), (480, 0.03163769677814131), (2501, 0.031626929121038615), (4876, 0.03162654415500747), (3605, 0.03156768157320795), (4599, 0.03156084422753215), (1049, 0.03154508737634622), (4828, 0.031465465363502115), (3023, 0.03145098293340904), (224, 0.031444664452438965), (2626, 0.03144171837990054), (134, 0.031435842912397864), (1032, 0.031431835209488924), (1774, 0.031412363402436236), (3331, 0.03134934907884151), (1102, 0.03126450786099759), (817, 0.031247832461808442), (4157, 0.031233801829548127), (3537, 0.031195971566566488), (1747, 0.03113215148199999), (854, 0.03112873246212535), (688, 0.031086145768775622), (1642, 0.031021170004628455), (2651, 0.030994769674505367), (945, 0.030956603111638052), (1972, 0.030954586636903165), (3585, 0.0309468318830584), (2382, 0.03091933533408478), (800, 0.03090243595565569), (456, 0.03089375600548343), (2399, 0.03089057398690869), (2568, 0.03089057398690869), (902, 0.03087839980464732), (1216, 0.0308340515231814), (1221, 0.03081444692037324), (1816, 0.030798048339240013), (750, 0.030786883237207647), (2672, 0.030779479756842993), (585, 0.03074642929987725), (2934, 0.03071184219329521), (1627, 0.030694085796311915), (550, 0.03065217364190503), (712, 0.030648749227694783), (3694, 0.030588293861514796), (4889, 0.03055244709091771), (1113, 0.030551608536590745), (4842, 0.030551608536590745), (766, 0.030539338196345394), (2565, 0.030521997319606333), (7, 0.030517727339484286), (4049, 0.03050037878265901), (4317, 0.030452938308897882), (1701, 0.030411360364617286), (1467, 0.030409093979083875), (2037, 0.030404999947715703), (608, 0.030384243661192443), (2747, 0.030357590907769554), (1745, 0.030327389996690213), (1027, 0.030320616720916082), (637, 0.030319029836984146), (4437, 0.03027351535674762), (1783, 0.030257958199391113), (2702, 0.030243531505540426), (631, 0.030207874011907405), (616, 0.03019150997744998), (3032, 0.030154789144931683), (665, 0.030132638930167755), (650, 0.030082319336714573), (3522, 0.03006467385751343), (3817, 0.030053998496291548), (926, 0.030033571864801014), (982, 0.030001076333262985), (1932, 0.029994223852750856), (1858, 0.02999095970109291), (1957, 0.02997868545107677), (1833, 0.029960006016023045), (3177, 0.02991401620274472), (4581, 0.02986822972336161), (4007, 0.02984310340369186), (1913, 0.029806817208308547), (4646, 0.029806161927813043), (1119, 0.029805402058180882), (2254, 0.02980217940013703), (1567, 0.02978647079756712), (860, 0.029740523164494843), (1068, 0.029719959547216325), (362, 0.02968347642141813), (4655, 0.029624743236984663), (595, 0.029617207463390208), (2722, 0.029576007069958794), (1241, 0.029540345802395198), (1070, 0.02951940638225772), (1819, 0.02949234358392685), (1363, 0.029339823100066633), (2390, 0.029306077096414637), (392, 0.029296059781251937), (4568, 0.029278148687650888), (466, 0.029260061071656265), (3245, 0.029250571852744073), (787, 0.02920413544576728), (356, 0.029174762723716434), (374, 0.02915872894761331), (1330, 0.029156323985741483), (1647, 0.029071827465077412), (1152, 0.02901088197847026), (2551, 0.02901061228733546), (1651, 0.02900481867503764), (3490, 0.02898763400426727), (4084, 0.02892318110997771), (3622, 0.02890658022536883), (4167, 0.028889295900622024), (2943, 0.028875323959806094), (3269, 0.028862808836032348), (4333, 0.02882383426482996), (1626, 0.028796342207244748), (1174, 0.02878126967202239), (528, 0.0287592551183259), (837, 0.028694718130741027), (2956, 0.02866964114323962), (112, 0.028646155323652323), (3395, 0.028615254600704704), (2424, 0.028541031067306547), (2748, 0.028448744935315264), (3709, 0.02844818822554419), (2253, 0.028353687652120364), (280, 0.028353061081124238), (2105, 0.028353061081124238), (115, 0.02834581864498247), (2785, 0.028281719636064673), (831, 0.028268674169717754), (971, 0.028237719726744992), (448, 0.028194460354856888), (2282, 0.028186365487446276), (174, 0.02818046779189697), (187, 0.02818046779189697), (2724, 0.028165198404391946), (2132, 0.028102520572993495), (4819, 0.028076262933595185), (130, 0.028072318671612334), (2486, 0.028057473548974133), (1313, 0.028025926526658612), (359, 0.028025562171758736), (2810, 0.02799003160624047), (1795, 0.02798779918213688), (643, 0.027923177604051514), (485, 0.027913384575342638), (317, 0.027902192868037554), (4047, 0.027892750396799806), (1326, 0.027889862811943365), (424, 0.027877703028559304), (101, 0.02786796323625461), (299, 0.027854802985681507), (3372, 0.027833943218687523), (2036, 0.027832600663649974), (285, 0.027814190147555606), (513, 0.027765176910729716), (1482, 0.02774481614429979), (1564, 0.02774389059158066), (3208, 0.02773579187086664), (160, 0.027712867277062774), (151, 0.027709871109261392), (9, 0.027675174032963483), (2198, 0.02767414731247985), (1169, 0.02762305520502652), (1112, 0.02762080038312294), (2413, 0.027608693616952767), (261, 0.027592996433422695), (2662, 0.02759030615407778), (459, 0.027567832225001084), (829, 0.027561835941324178), (1277, 0.02755436960238052), (1708, 0.027545103085650155), (277, 0.027535702024596164), (1495, 0.0275257948563984), (840, 0.027520511108821925), (498, 0.027418486854504986), (964, 0.027390034248094164), (153, 0.02738223705374784), (493, 0.027378080023953262), (114, 0.02736952178331345), (1686, 0.027366420205312946), (2213, 0.027364072886847363), (25, 0.027323885898093012), (2049, 0.027323885898093012), (4694, 0.027323885898093012), (2427, 0.027310148245634866), (4224, 0.027301396486303448), (2512, 0.027288418311069276), (511, 0.027265449965007394), (4862, 0.027240540648369845), (3281, 0.027238927219893835), (597, 0.027214324880686484), (2447, 0.027209443068445176), (260, 0.02717175379909264), (490, 0.027120169986320154), (235, 0.0271181379764858), (3711, 0.02710007086699935), (4894, 0.02710007086699935), (193, 0.02709057507453314), (44, 0.027087695545694627), (443, 0.027084449905971458), (2012, 0.027081278948237066), (437, 0.027053608976004295), (898, 0.027042404113193395), (3573, 0.027032600838352627), (2579, 0.02703125910249912), (164, 0.0269954216761145), (3904, 0.026973802698339357), (2272, 0.02696987059562019), (415, 0.026964242360362947), (239, 0.02696337780411737), (28, 0.02695637015417112), (868, 0.026916917095552516), (105, 0.026909264932466946), (496, 0.02690868751132467), (506, 0.02690717596870429), (195, 0.02690064388800921), (966, 0.026894483487589254), (2340, 0.026891166757084136), (1236, 0.02685774543316805), (1459, 0.026843384497844784), (108, 0.026816954476595524), (624, 0.026809780010751724), (264, 0.026787322476774594), (857, 0.026777166190582152), (76, 0.026775335714045334), (60, 0.026772903251270245), (792, 0.02676828107257945), (1060, 0.026727305321397693), (2772, 0.026727305321397693), (1138, 0.02670339730803931), (3751, 0.026696161581812712), (84, 0.026684376043931396), (1508, 0.026684376043931396), (169, 0.02663962430239967), (1850, 0.02662771679286935), (286, 0.02659097149000436), (2944, 0.02659097149000436), (717, 0.026575149834658553), (1015, 0.026571349215679215), (88, 0.026567053297698217), (63, 0.026543987200305732), (137, 0.026543987200305732), (1002, 0.026543600410854507), (887, 0.026518764901617486), (1577, 0.026507594477339483), (1092, 0.02645837701528909), (2223, 0.026445338496222243), (812, 0.026421381492681074), (4797, 0.02641687976967618), (3863, 0.02637788501623739), (1882, 0.026369255817120733), (425, 0.02636331552798748), (3171, 0.026331608210597178), (556, 0.0263307204561093), (1006, 0.026303813870164144), (4449, 0.026288631855318278), (2375, 0.02627886697057966), (432, 0.026269482087537245), (4093, 0.026225921958477973), (3111, 0.026190047523653264), (720, 0.02617631675787069), (301, 0.026166756718464013), (1723, 0.02614513864693989), (97, 0.026129644513210284), (797, 0.0261114354467221), (743, 0.026093369479072207), (526, 0.026077268908857764), (3482, 0.026076149587396007), (522, 0.02607288631276945), (1045, 0.026070669892106366), (2696, 0.02605489201269915), (220, 0.026038209887091913), (1405, 0.02602251748682461), (686, 0.026019834020294), (40, 0.026014131072043985), (2499, 0.026014131072043985), (1110, 0.025999899926396813), (614, 0.02598175760939959), (664, 0.025974278020115593), (1589, 0.02594599345286904), (1765, 0.025932541091019216), (381, 0.025923111691889364), (1334, 0.025915763295094995), (309, 0.025912881638351103), (948, 0.025912698497031015), (1166, 0.025897251027553487), (197, 0.025888531734210726), (350, 0.025878898123653352), (369, 0.025875414596571195), (613, 0.02586111783464511), (615, 0.025825399765640935), (1116, 0.025821447170873438), (1238, 0.025821447170873438), (1179, 0.025787532949765796), (213, 0.025783110045812963), (2650, 0.025783110045812963), (401, 0.0257796561535207), (3703, 0.02574094780874899), (819, 0.025723337593138707), (5, 0.025719150529795547), (127, 0.025713346901839143), (11, 0.025693099532906192), (2766, 0.02567002792364712), (215, 0.02565944379123931), (539, 0.02565919571097229), (109, 0.0256279076384724), (495, 0.025627327894714873), (1900, 0.02561692539135691), (216, 0.02559942194244695), (2741, 0.02558821015065204), (1530, 0.025580507868574243), (1994, 0.025580507868574243), (2133, 0.025560440972768845), (349, 0.025548253495068507), (561, 0.025533848829299037), (17, 0.025528649714342596), (794, 0.025528649714342596), (1667, 0.025518343152168055), (450, 0.02551247463685128), (4537, 0.02549567973892735), (230, 0.02548924882722794), (140, 0.025482119425753375), (133, 0.02546320597841422), (499, 0.02544698669195001), (1127, 0.025431657752596783), (141, 0.025428168895305893), (341, 0.025424068290998907), (22, 0.025419675912680656), (481, 0.02539589882262177), (753, 0.02538601451129842), (1877, 0.025365634706383023), (864, 0.02535897195178931), (1106, 0.025356366552681784), (53, 0.02533254586426946), (552, 0.025330965061217715), (484, 0.025322094925394577), (1634, 0.025319093453634645), (95, 0.02529667690520473), (790, 0.025296106832831795), (1700, 0.025279308842106867), (1294, 0.025268941100671505), (46, 0.02525722881364817), (2960, 0.02525579086049212), (862, 0.025237109356866537), (861, 0.025220230051407423), (463, 0.025209708112389963), (163, 0.025156606195813676), (149, 0.02515484529663507), (75, 0.02513935094343818), (1123, 0.025135598552050716), (3324, 0.025131888752829918), (14, 0.025120241391876776), (42, 0.025109118904526048), (360, 0.025073230863472382), (475, 0.025071713763697618), (4142, 0.02505669690063353), (438, 0.025041401803533068), (592, 0.025041186135834028), (1367, 0.025005521185295244), (251, 0.024996650456186903), (300, 0.02495859642368315), (1237, 0.024948971739005038), (394, 0.024934610814436375), (1228, 0.024925552463593178), (629, 0.024911771023618298), (824, 0.02487023378177019), (65, 0.024856135356529245), (940, 0.024854634156764), (533, 0.02485356834734448), (1171, 0.024842722564459862), (2493, 0.024842722564459862), (1211, 0.024826185926051198), (249, 0.024795162491247517), (389, 0.024795162491247517), (194, 0.02479359731756883), (4747, 0.02478546816146306), (275, 0.024773478338445166), (1907, 0.024769555867583865), (250, 0.024738817158125936), (4004, 0.02470124941534836), (568, 0.024666468734220803), (767, 0.024656662410034173), (4672, 0.024643381932492825), (600, 0.02463602386578046), (1497, 0.024634412169639516), (57, 0.02463403933349879), (713, 0.02462499625522859), (36, 0.024614596182474784), (92, 0.024608971147635987), (4176, 0.02459438736661615), (37, 0.024594304612919955), (1362, 0.024593978633753212), (287, 0.024591347127494233), (3908, 0.024591347127494233), (365, 0.024590246856434173), (219, 0.024577870049459907), (344, 0.024548669596375104), (159, 0.02453938796153944), (3891, 0.02453938796153944), (1528, 0.024522980283428728), (62, 0.024522656469556876), (221, 0.024464663204517373), (113, 0.02445938349879176), (1343, 0.024433201841810373), (1272, 0.02441923973565766), (1515, 0.02441246619338788), (3472, 0.024410750711913308), (48, 0.024406776488376615), (29, 0.02431539039775475), (2241, 0.024306583204613274), (3129, 0.024306053122104942), (2952, 0.024299630504646886), (332, 0.024246768874813147), (2927, 0.024240230246339558), (501, 0.024229405403647614), (2232, 0.0242124253820537), (176, 0.02420905837612948), (168, 0.024190894463550487), (2337, 0.024187276527940303), (191, 0.02415698262491784), (3427, 0.02415194517793924), (778, 0.024092575158501783), (366, 0.024083738133182014), (4247, 0.024080661270871054), (1382, 0.024074163290518587), (4895, 0.024072782148008294), (1284, 0.02406037768965192), (505, 0.024044699250502774), (1312, 0.02404193241391981), (399, 0.02400765289101801), (2044, 0.023983942655540335), (4542, 0.023946087042199873), (73, 0.023926097925812514), (245, 0.023881918260597317), (2820, 0.023881918260597317), (961, 0.02386578976501497), (968, 0.02382908363255127), (3304, 0.023824545221533624), (2561, 0.023808499847036146), (4854, 0.02379324050579305), (1447, 0.02377621610679599), (916, 0.023775741437736617), (661, 0.023752921191214478), (1308, 0.023654530210287766), (2473, 0.02364349225424825), (1631, 0.023635994542088205), (135, 0.02362892858388376), (416, 0.023615195565875886), (427, 0.02361445353275974), (85, 0.0235810570471037), (4080, 0.023573545344519223), (1693, 0.023548786801255453), (380, 0.023535497158418083), (1593, 0.023527621283614897), (3311, 0.023519881730001246), (3106, 0.02350630744370031), (2334, 0.02350141073122073), (252, 0.02349969953374712), (104, 0.023499322250005727), (102, 0.023492528482755518), (2438, 0.02348970175665958), (247, 0.023461227211802937), (4164, 0.02346003277178495), (1135, 0.02345793937762644), (171, 0.02343944204623465), (1191, 0.023396391300839713), (1, 0.02339483571656261), (98, 0.023377799077281058), (204, 0.023377799077281058), (1067, 0.023370883995855983), (1039, 0.02334525594313698), (226, 0.02334030877584843), (4254, 0.02331998766725064), (3465, 0.023316152446251504), (271, 0.02329130506412663), (3587, 0.02329130506412663), (184, 0.023288839665689322), (623, 0.023287356064409175), (128, 0.023258357130078247), (825, 0.023252864531663312), (2339, 0.023244902174880722), (929, 0.023221491273205358), (89, 0.02321731980231368), (68, 0.023151733309606366), (2974, 0.02313220113962344), (1230, 0.023106229278166725), (155, 0.02309318910255382), (471, 0.023091310549565838), (81, 0.023073722486407575), (4062, 0.022986441038620516), (1141, 0.022983504214192412), (8, 0.02297679699567676), (1338, 0.022974365317132935), (121, 0.022951722254311396), (988, 0.022951708039628753), (3757, 0.022919234437665394), (320, 0.02291745191032894), (1008, 0.022902970404238124), (3110, 0.02289607544609754), (3012, 0.022888115782751108), (989, 0.022882075041944904), (86, 0.022882059422482684), (172, 0.022876320541442476), (4508, 0.022830613532578026), (529, 0.02283036965524773), (3955, 0.02281260391431992), (2514, 0.022810121186305828), (27, 0.022777694779513136), (1904, 0.022701886442344343), (523, 0.022661817470994054), (1976, 0.02264617984214732), (2774, 0.02264526596659317), (154, 0.02257743621298758), (162, 0.022576585425541897), (3262, 0.022537832871241777), (2923, 0.0225311761184204), (358, 0.02237780752273715), (700, 0.02236972288200185), (16, 0.022327295878034985), (77, 0.022304455666032667), (340, 0.022304299459684523), (1881, 0.022296208529355516), (10, 0.022278488531169663), (3375, 0.022269340256900694), (18, 0.022242699076836712), (1036, 0.022152861532171726), (222, 0.022151876508319047), (52, 0.022151684514299875), (4298, 0.02210295798141166), (1342, 0.022060326357958824), (143, 0.022056795422149902), (212, 0.02204548199648295), (244, 0.02203785233895642), (2396, 0.022032346591353894), (269, 0.021935709322485356), (2893, 0.021912724148726165), (1555, 0.02190376427875361), (2518, 0.021820145002244634), (1803, 0.02178763515156619), (1318, 0.021768953400952692), (139, 0.02176414031352018), (1384, 0.021652869956894742), (1853, 0.02149745416543896), (339, 0.021472406684247658), (83, 0.021418407099083662), (3011, 0.021266608828511096), (1399, 0.021266321936029786), (2751, 0.021058881991104332), (54, 0.02098675197557206), (270, 0.020795475912114527), (248, 0.02078720171536103), (4856, 0.02078625044808102), (205, 0.020763225150253608), (173, 0.02069989911110154), (626, 0.020699504395124312), (4339, 0.02019617884342752), (1928, 0.020068985665357086), (1824, 0.01992979925559626), (379, 0.019700537497109923), (312, 0.019365365055986062), (1883, 0.019217083814590686), (3255, 0.018786726857522893), (810, 0.016801174705664692), (3267, 0.014173718186614379), (3, 0.0), (4, 0.0), (12, 0.0), (20, 0.0), (23, 0.0), (24, 0.0), (26, 0.0), (33, 0.0), (35, 0.0), (41, 0.0), (43, 0.0), (45, 0.0), (49, 0.0), (50, 0.0), (55, 0.0), (56, 0.0), (58, 0.0), (59, 0.0), (61, 0.0), (64, 0.0), (66, 0.0), (67, 0.0), (70, 0.0), (71, 0.0), (74, 0.0), (78, 0.0), (79, 0.0), (87, 0.0), (90, 0.0), (91, 0.0), (93, 0.0), (94, 0.0), (96, 0.0), (99, 0.0), (100, 0.0), (103, 0.0), (106, 0.0), (107, 0.0), (110, 0.0), (111, 0.0), (116, 0.0), (117, 0.0), (118, 0.0), (119, 0.0), (120, 0.0), (122, 0.0), (124, 0.0), (126, 0.0), (129, 0.0), (131, 0.0), (138, 0.0), (142, 0.0), (144, 0.0), (145, 0.0), (146, 0.0), (147, 0.0), (148, 0.0), (156, 0.0), (157, 0.0), (158, 0.0), (165, 0.0), (166, 0.0), (167, 0.0), (175, 0.0), (177, 0.0), (178, 0.0), (179, 0.0), (180, 0.0), (181, 0.0), (182, 0.0), (183, 0.0), (186, 0.0), (189, 0.0), (190, 0.0), (192, 0.0), (196, 0.0), (198, 0.0), (199, 0.0), (200, 0.0), (201, 0.0), (202, 0.0), (203, 0.0), (206, 0.0), (207, 0.0), (208, 0.0), (209, 0.0), (211, 0.0), (214, 0.0), (217, 0.0), (218, 0.0), (223, 0.0), (225, 0.0), (227, 0.0), (228, 0.0), (229, 0.0), (231, 0.0), (232, 0.0), (233, 0.0), (234, 0.0), (238, 0.0), (241, 0.0), (242, 0.0), (243, 0.0), (246, 0.0), (253, 0.0), (254, 0.0), (255, 0.0), (256, 0.0), (257, 0.0), (258, 0.0), (259, 0.0), (262, 0.0), (263, 0.0), (265, 0.0), (266, 0.0), (267, 0.0), (268, 0.0), (272, 0.0), (273, 0.0), (274, 0.0), (276, 0.0), (278, 0.0), (279, 0.0), (281, 0.0), (282, 0.0), (283, 0.0), (284, 0.0), (288, 0.0), (289, 0.0), (290, 0.0), (291, 0.0), (292, 0.0), (293, 0.0), (294, 0.0), (295, 0.0), (296, 0.0), (297, 0.0), (298, 0.0), (302, 0.0), (303, 0.0), (304, 0.0), (305, 0.0), (307, 0.0), (308, 0.0), (310, 0.0), (311, 0.0), (314, 0.0), (315, 0.0), (316, 0.0), (318, 0.0), (319, 0.0), (321, 0.0), (322, 0.0), (323, 0.0), (324, 0.0), (326, 0.0), (327, 0.0), (328, 0.0), (329, 0.0), (330, 0.0), (331, 0.0), (333, 0.0), (334, 0.0), (335, 0.0), (338, 0.0), (343, 0.0), (345, 0.0), (346, 0.0), (347, 0.0), (348, 0.0), (351, 0.0), (352, 0.0), (353, 0.0), (354, 0.0), (355, 0.0), (357, 0.0), (361, 0.0), (363, 0.0), (364, 0.0), (367, 0.0), (370, 0.0), (371, 0.0), (372, 0.0), (373, 0.0), (375, 0.0), (377, 0.0), (378, 0.0), (382, 0.0), (383, 0.0), (384, 0.0), (386, 0.0), (387, 0.0), (388, 0.0), (390, 0.0), (393, 0.0), (395, 0.0), (396, 0.0), (397, 0.0), (398, 0.0), (400, 0.0), (402, 0.0), (404, 0.0), (405, 0.0), (406, 0.0), (407, 0.0), (408, 0.0), (409, 0.0), (410, 0.0), (411, 0.0), (412, 0.0), (413, 0.0), (414, 0.0), (417, 0.0), (418, 0.0), (419, 0.0), (421, 0.0), (422, 0.0), (423, 0.0), (426, 0.0), (428, 0.0), (431, 0.0), (434, 0.0), (435, 0.0), (436, 0.0), (439, 0.0), (440, 0.0), (441, 0.0), (442, 0.0), (444, 0.0), (445, 0.0), (446, 0.0), (447, 0.0), (449, 0.0), (451, 0.0), (452, 0.0), (453, 0.0), (454, 0.0), (455, 0.0), (458, 0.0), (460, 0.0), (461, 0.0), (462, 0.0), (464, 0.0), (465, 0.0), (467, 0.0), (468, 0.0), (469, 0.0), (470, 0.0), (472, 0.0), (473, 0.0), (474, 0.0), (476, 0.0), (477, 0.0), (478, 0.0), (479, 0.0), (483, 0.0), (486, 0.0), (488, 0.0), (489, 0.0), (491, 0.0), (492, 0.0), (494, 0.0), (497, 0.0), (500, 0.0), (502, 0.0), (503, 0.0), (504, 0.0), (507, 0.0), (508, 0.0), (509, 0.0), (512, 0.0), (514, 0.0), (515, 0.0), (516, 0.0), (517, 0.0), (518, 0.0), (519, 0.0), (521, 0.0), (524, 0.0), (525, 0.0), (530, 0.0), (531, 0.0), (532, 0.0), (534, 0.0), (535, 0.0), (536, 0.0), (538, 0.0), (540, 0.0), (541, 0.0), (542, 0.0), (543, 0.0), (544, 0.0), (545, 0.0), (546, 0.0), (547, 0.0), (549, 0.0), (551, 0.0), (553, 0.0), (555, 0.0), (557, 0.0), (558, 0.0), (559, 0.0), (560, 0.0), (562, 0.0), (563, 0.0), (564, 0.0), (565, 0.0), (566, 0.0), (567, 0.0), (569, 0.0), (570, 0.0), (571, 0.0), (572, 0.0), (573, 0.0), (575, 0.0), (576, 0.0), (577, 0.0), (578, 0.0), (579, 0.0), (580, 0.0), (581, 0.0), (583, 0.0), (584, 0.0), (586, 0.0), (587, 0.0), (588, 0.0), (589, 0.0), (590, 0.0), (591, 0.0), (594, 0.0), (596, 0.0), (598, 0.0), (599, 0.0), (601, 0.0), (602, 0.0), (603, 0.0), (604, 0.0), (605, 0.0), (606, 0.0), (607, 0.0), (609, 0.0), (611, 0.0), (612, 0.0), (617, 0.0), (618, 0.0), (619, 0.0), (620, 0.0), (621, 0.0), (622, 0.0), (625, 0.0), (627, 0.0), (628, 0.0), (630, 0.0), (632, 0.0), (633, 0.0), (634, 0.0), (635, 0.0), (636, 0.0), (638, 0.0), (639, 0.0), (640, 0.0), (641, 0.0), (642, 0.0), (644, 0.0), (646, 0.0), (648, 0.0), (649, 0.0), (651, 0.0), (652, 0.0), (653, 0.0), (654, 0.0), (655, 0.0), (656, 0.0), (657, 0.0), (658, 0.0), (659, 0.0), (660, 0.0), (662, 0.0), (663, 0.0), (666, 0.0), (667, 0.0), (668, 0.0), (669, 0.0), (670, 0.0), (671, 0.0), (672, 0.0), (673, 0.0), (674, 0.0), (676, 0.0), (677, 0.0), (678, 0.0), (679, 0.0), (680, 0.0), (681, 0.0), (683, 0.0), (684, 0.0), (685, 0.0), (687, 0.0), (689, 0.0), (691, 0.0), (692, 0.0), (693, 0.0), (694, 0.0), (695, 0.0), (696, 0.0), (697, 0.0), (698, 0.0), (699, 0.0), (701, 0.0), (702, 0.0), (703, 0.0), (704, 0.0), (705, 0.0), (706, 0.0), (707, 0.0), (708, 0.0), (710, 0.0), (711, 0.0), (714, 0.0), (715, 0.0), (716, 0.0), (718, 0.0), (719, 0.0), (721, 0.0), (722, 0.0), (723, 0.0), (724, 0.0), (725, 0.0), (726, 0.0), (727, 0.0), (728, 0.0), (729, 0.0), (730, 0.0), (731, 0.0), (733, 0.0), (734, 0.0), (735, 0.0), (736, 0.0), (738, 0.0), (739, 0.0), (740, 0.0), (741, 0.0), (742, 0.0), (744, 0.0), (745, 0.0), (746, 0.0), (747, 0.0), (748, 0.0), (749, 0.0), (751, 0.0), (752, 0.0), (754, 0.0), (755, 0.0), (757, 0.0), (758, 0.0), (759, 0.0), (760, 0.0), (761, 0.0), (762, 0.0), (763, 0.0), (764, 0.0), (765, 0.0), (768, 0.0), (770, 0.0), (771, 0.0), (772, 0.0), (773, 0.0), (774, 0.0), (775, 0.0), (776, 0.0), (777, 0.0), (779, 0.0), (780, 0.0), (781, 0.0), (782, 0.0), (783, 0.0), (784, 0.0), (785, 0.0), (786, 0.0), (788, 0.0), (789, 0.0), (793, 0.0), (796, 0.0), (798, 0.0), (799, 0.0), (801, 0.0), (802, 0.0), (803, 0.0), (804, 0.0), (805, 0.0), (807, 0.0), (809, 0.0), (811, 0.0), (814, 0.0), (816, 0.0), (818, 0.0), (820, 0.0), (821, 0.0), (822, 0.0), (823, 0.0), (826, 0.0), (827, 0.0), (828, 0.0), (830, 0.0), (832, 0.0), (833, 0.0), (834, 0.0), (835, 0.0), (836, 0.0), (838, 0.0), (839, 0.0), (841, 0.0), (842, 0.0), (844, 0.0), (845, 0.0), (846, 0.0), (847, 0.0), (848, 0.0), (849, 0.0), (850, 0.0), (851, 0.0), (852, 0.0), (853, 0.0), (855, 0.0), (856, 0.0), (858, 0.0), (859, 0.0), (863, 0.0), (865, 0.0), (866, 0.0), (867, 0.0), (869, 0.0), (870, 0.0), (871, 0.0), (872, 0.0), (873, 0.0), (874, 0.0), (875, 0.0), (876, 0.0), (877, 0.0), (878, 0.0), (879, 0.0), (880, 0.0), (881, 0.0), (882, 0.0), (883, 0.0), (884, 0.0), (885, 0.0), (886, 0.0), (888, 0.0), (889, 0.0), (890, 0.0), (891, 0.0), (892, 0.0), (893, 0.0), (894, 0.0), (895, 0.0), (896, 0.0), (897, 0.0), (899, 0.0), (900, 0.0), (901, 0.0), (903, 0.0), (904, 0.0), (905, 0.0), (906, 0.0), (907, 0.0), (908, 0.0), (909, 0.0), (910, 0.0), (911, 0.0), (912, 0.0), (913, 0.0), (914, 0.0), (915, 0.0), (917, 0.0), (918, 0.0), (919, 0.0), (920, 0.0), (921, 0.0), (922, 0.0), (923, 0.0), (924, 0.0), (925, 0.0), (927, 0.0), (928, 0.0), (930, 0.0), (931, 0.0), (932, 0.0), (933, 0.0), (934, 0.0), (935, 0.0), (936, 0.0), (937, 0.0), (938, 0.0), (939, 0.0), (942, 0.0), (943, 0.0), (944, 0.0), (947, 0.0), (949, 0.0), (950, 0.0), (951, 0.0), (952, 0.0), (953, 0.0), (954, 0.0), (955, 0.0), (956, 0.0), (957, 0.0), (958, 0.0), (960, 0.0), (962, 0.0), (963, 0.0), (965, 0.0), (967, 0.0), (969, 0.0), (970, 0.0), (972, 0.0), (973, 0.0), (974, 0.0), (975, 0.0), (976, 0.0), (977, 0.0), (978, 0.0), (979, 0.0), (980, 0.0), (981, 0.0), (983, 0.0), (984, 0.0), (985, 0.0), (986, 0.0), (987, 0.0), (990, 0.0), (991, 0.0), (992, 0.0), (994, 0.0), (995, 0.0), (996, 0.0), (997, 0.0), (998, 0.0), (999, 0.0), (1000, 0.0), (1001, 0.0), (1003, 0.0), (1004, 0.0), (1005, 0.0), (1007, 0.0), (1009, 0.0), (1010, 0.0), (1011, 0.0), (1012, 0.0), (1013, 0.0), (1014, 0.0), (1016, 0.0), (1017, 0.0), (1018, 0.0), (1019, 0.0), (1020, 0.0), (1021, 0.0), (1022, 0.0), (1023, 0.0), (1024, 0.0), (1025, 0.0), (1026, 0.0), (1028, 0.0), (1029, 0.0), (1030, 0.0), (1031, 0.0), (1033, 0.0), (1034, 0.0), (1035, 0.0), (1037, 0.0), (1038, 0.0), (1040, 0.0), (1041, 0.0), (1042, 0.0), (1043, 0.0), (1044, 0.0), (1046, 0.0), (1047, 0.0), (1048, 0.0), (1051, 0.0), (1052, 0.0), (1053, 0.0), (1054, 0.0), (1055, 0.0), (1056, 0.0), (1057, 0.0), (1058, 0.0), (1059, 0.0), (1061, 0.0), (1062, 0.0), (1063, 0.0), (1064, 0.0), (1065, 0.0), (1066, 0.0), (1069, 0.0), (1071, 0.0), (1072, 0.0), (1073, 0.0), (1074, 0.0), (1075, 0.0), (1076, 0.0), (1078, 0.0), (1079, 0.0), (1080, 0.0), (1081, 0.0), (1082, 0.0), (1083, 0.0), (1084, 0.0), (1085, 0.0), (1086, 0.0), (1087, 0.0), (1088, 0.0), (1089, 0.0), (1090, 0.0), (1091, 0.0), (1093, 0.0), (1094, 0.0), (1095, 0.0), (1096, 0.0), (1097, 0.0), (1098, 0.0), (1099, 0.0), (1100, 0.0), (1101, 0.0), (1103, 0.0), (1104, 0.0), (1105, 0.0), (1107, 0.0), (1108, 0.0), (1109, 0.0), (1111, 0.0), (1115, 0.0), (1118, 0.0), (1120, 0.0), (1121, 0.0), (1122, 0.0), (1124, 0.0), (1125, 0.0), (1126, 0.0), (1128, 0.0), (1129, 0.0), (1130, 0.0), (1131, 0.0), (1132, 0.0), (1134, 0.0), (1136, 0.0), (1137, 0.0), (1139, 0.0), (1140, 0.0), (1142, 0.0), (1144, 0.0), (1146, 0.0), (1147, 0.0), (1148, 0.0), (1149, 0.0), (1150, 0.0), (1151, 0.0), (1153, 0.0), (1154, 0.0), (1155, 0.0), (1156, 0.0), (1157, 0.0), (1158, 0.0), (1159, 0.0), (1160, 0.0), (1161, 0.0), (1162, 0.0), (1163, 0.0), (1164, 0.0), (1165, 0.0), (1167, 0.0), (1168, 0.0), (1170, 0.0), (1172, 0.0), (1173, 0.0), (1175, 0.0), (1176, 0.0), (1177, 0.0), (1178, 0.0), (1180, 0.0), (1181, 0.0), (1182, 0.0), (1183, 0.0), (1184, 0.0), (1185, 0.0), (1186, 0.0), (1187, 0.0), (1188, 0.0), (1189, 0.0), (1192, 0.0), (1193, 0.0), (1194, 0.0), (1195, 0.0), (1196, 0.0), (1197, 0.0), (1198, 0.0), (1199, 0.0), (1200, 0.0), (1201, 0.0), (1202, 0.0), (1203, 0.0), (1204, 0.0), (1205, 0.0), (1206, 0.0), (1207, 0.0), (1208, 0.0), (1209, 0.0), (1210, 0.0), (1212, 0.0), (1213, 0.0), (1214, 0.0), (1217, 0.0), (1218, 0.0), (1219, 0.0), (1220, 0.0), (1222, 0.0), (1223, 0.0), (1224, 0.0), (1225, 0.0), (1226, 0.0), (1227, 0.0), (1229, 0.0), (1231, 0.0), (1232, 0.0), (1233, 0.0), (1234, 0.0), (1235, 0.0), (1239, 0.0), (1240, 0.0), (1242, 0.0), (1243, 0.0), (1244, 0.0), (1245, 0.0), (1246, 0.0), (1247, 0.0), (1248, 0.0), (1250, 0.0), (1251, 0.0), (1252, 0.0), (1253, 0.0), (1254, 0.0), (1255, 0.0), (1256, 0.0), (1257, 0.0), (1258, 0.0), (1259, 0.0), (1260, 0.0), (1261, 0.0), (1262, 0.0), (1263, 0.0), (1264, 0.0), (1265, 0.0), (1266, 0.0), (1267, 0.0), (1269, 0.0), (1270, 0.0), (1271, 0.0), (1273, 0.0), (1274, 0.0), (1276, 0.0), (1278, 0.0), (1279, 0.0), (1280, 0.0), (1281, 0.0), (1283, 0.0), (1285, 0.0), (1286, 0.0), (1287, 0.0), (1288, 0.0), (1289, 0.0), (1290, 0.0), (1291, 0.0), (1292, 0.0), (1293, 0.0), (1295, 0.0), (1296, 0.0), (1298, 0.0), (1299, 0.0), (1300, 0.0), (1301, 0.0), (1302, 0.0), (1303, 0.0), (1305, 0.0), (1306, 0.0), (1307, 0.0), (1309, 0.0), (1310, 0.0), (1311, 0.0), (1314, 0.0), (1315, 0.0), (1317, 0.0), (1319, 0.0), (1320, 0.0), (1321, 0.0), (1322, 0.0), (1323, 0.0), (1324, 0.0), (1325, 0.0), (1327, 0.0), (1328, 0.0), (1331, 0.0), (1332, 0.0), (1333, 0.0), (1335, 0.0), (1336, 0.0), (1337, 0.0), (1339, 0.0), (1340, 0.0), (1341, 0.0), (1344, 0.0), (1345, 0.0), (1346, 0.0), (1347, 0.0), (1348, 0.0), (1349, 0.0), (1350, 0.0), (1351, 0.0), (1352, 0.0), (1353, 0.0), (1354, 0.0), (1355, 0.0), (1356, 0.0), (1357, 0.0), (1358, 0.0), (1359, 0.0), (1360, 0.0), (1361, 0.0), (1364, 0.0), (1365, 0.0), (1366, 0.0), (1368, 0.0), (1369, 0.0), (1370, 0.0), (1371, 0.0), (1372, 0.0), (1373, 0.0), (1374, 0.0), (1375, 0.0), (1376, 0.0), (1377, 0.0), (1379, 0.0), (1380, 0.0), (1381, 0.0), (1383, 0.0), (1385, 0.0), (1386, 0.0), (1389, 0.0), (1390, 0.0), (1391, 0.0), (1392, 0.0), (1393, 0.0), (1394, 0.0), (1395, 0.0), (1396, 0.0), (1397, 0.0), (1400, 0.0), (1401, 0.0), (1402, 0.0), (1403, 0.0), (1404, 0.0), (1406, 0.0), (1407, 0.0), (1408, 0.0), (1409, 0.0), (1410, 0.0), (1411, 0.0), (1412, 0.0), (1413, 0.0), (1414, 0.0), (1415, 0.0), (1416, 0.0), (1417, 0.0), (1418, 0.0), (1419, 0.0), (1420, 0.0), (1421, 0.0), (1423, 0.0), (1425, 0.0), (1426, 0.0), (1427, 0.0), (1428, 0.0), (1429, 0.0), (1430, 0.0), (1431, 0.0), (1433, 0.0), (1434, 0.0), (1435, 0.0), (1436, 0.0), (1437, 0.0), (1438, 0.0), (1439, 0.0), (1440, 0.0), (1441, 0.0), (1442, 0.0), (1443, 0.0), (1444, 0.0), (1445, 0.0), (1446, 0.0), (1448, 0.0), (1449, 0.0), (1450, 0.0), (1451, 0.0), (1452, 0.0), (1453, 0.0), (1454, 0.0), (1456, 0.0), (1457, 0.0), (1458, 0.0), (1460, 0.0), (1461, 0.0), (1462, 0.0), (1463, 0.0), (1464, 0.0), (1465, 0.0), (1466, 0.0), (1468, 0.0), (1469, 0.0), (1470, 0.0), (1471, 0.0), (1472, 0.0), (1473, 0.0), (1474, 0.0), (1475, 0.0), (1476, 0.0), (1477, 0.0), (1478, 0.0), (1479, 0.0), (1480, 0.0), (1481, 0.0), (1483, 0.0), (1484, 0.0), (1485, 0.0), (1486, 0.0), (1487, 0.0), (1488, 0.0), (1489, 0.0), (1490, 0.0), (1491, 0.0), (1492, 0.0), (1493, 0.0), (1494, 0.0), (1496, 0.0), (1498, 0.0), (1499, 0.0), (1500, 0.0), (1501, 0.0), (1502, 0.0), (1503, 0.0), (1504, 0.0), (1505, 0.0), (1506, 0.0), (1507, 0.0), (1509, 0.0), (1510, 0.0), (1511, 0.0), (1512, 0.0), (1513, 0.0), (1514, 0.0), (1516, 0.0), (1517, 0.0), (1518, 0.0), (1519, 0.0), (1520, 0.0), (1521, 0.0), (1522, 0.0), (1523, 0.0), (1524, 0.0), (1525, 0.0), (1526, 0.0), (1527, 0.0), (1529, 0.0), (1531, 0.0), (1532, 0.0), (1533, 0.0), (1534, 0.0), (1535, 0.0), (1537, 0.0), (1538, 0.0), (1539, 0.0), (1542, 0.0), (1543, 0.0), (1544, 0.0), (1545, 0.0), (1546, 0.0), (1547, 0.0), (1548, 0.0), (1549, 0.0), (1550, 0.0), (1551, 0.0), (1552, 0.0), (1553, 0.0), (1554, 0.0), (1556, 0.0), (1557, 0.0), (1558, 0.0), (1559, 0.0), (1561, 0.0), (1562, 0.0), (1563, 0.0), (1565, 0.0), (1566, 0.0), (1568, 0.0), (1569, 0.0), (1571, 0.0), (1572, 0.0), (1573, 0.0), (1574, 0.0), (1575, 0.0), (1576, 0.0), (1578, 0.0), (1579, 0.0), (1581, 0.0), (1583, 0.0), (1584, 0.0), (1585, 0.0), (1586, 0.0), (1587, 0.0), (1588, 0.0), (1590, 0.0), (1591, 0.0), (1592, 0.0), (1594, 0.0), (1595, 0.0), (1596, 0.0), (1597, 0.0), (1598, 0.0), (1599, 0.0), (1600, 0.0), (1601, 0.0), (1602, 0.0), (1603, 0.0), (1604, 0.0), (1605, 0.0), (1606, 0.0), (1607, 0.0), (1608, 0.0), (1609, 0.0), (1610, 0.0), (1611, 0.0), (1612, 0.0), (1613, 0.0), (1614, 0.0), (1615, 0.0), (1616, 0.0), (1617, 0.0), (1618, 0.0), (1619, 0.0), (1620, 0.0), (1621, 0.0), (1622, 0.0), (1623, 0.0), (1624, 0.0), (1625, 0.0), (1628, 0.0), (1629, 0.0), (1630, 0.0), (1633, 0.0), (1635, 0.0), (1636, 0.0), (1637, 0.0), (1638, 0.0), (1639, 0.0), (1640, 0.0), (1641, 0.0), (1643, 0.0), (1644, 0.0), (1645, 0.0), (1648, 0.0), (1649, 0.0), (1650, 0.0), (1652, 0.0), (1653, 0.0), (1654, 0.0), (1655, 0.0), (1657, 0.0), (1658, 0.0), (1659, 0.0), (1661, 0.0), (1663, 0.0), (1664, 0.0), (1665, 0.0), (1668, 0.0), (1669, 0.0), (1670, 0.0), (1671, 0.0), (1672, 0.0), (1673, 0.0), (1674, 0.0), (1675, 0.0), (1676, 0.0), (1677, 0.0), (1678, 0.0), (1679, 0.0), (1680, 0.0), (1681, 0.0), (1682, 0.0), (1683, 0.0), (1684, 0.0), (1685, 0.0), (1687, 0.0), (1688, 0.0), (1689, 0.0), (1690, 0.0), (1691, 0.0), (1692, 0.0), (1694, 0.0), (1695, 0.0), (1696, 0.0), (1697, 0.0), (1698, 0.0), (1699, 0.0), (1703, 0.0), (1704, 0.0), (1705, 0.0), (1706, 0.0), (1707, 0.0), (1709, 0.0), (1710, 0.0), (1711, 0.0), (1712, 0.0), (1713, 0.0), (1714, 0.0), (1716, 0.0), (1717, 0.0), (1718, 0.0), (1719, 0.0), (1720, 0.0), (1721, 0.0), (1722, 0.0), (1724, 0.0), (1725, 0.0), (1726, 0.0), (1727, 0.0), (1728, 0.0), (1729, 0.0), (1730, 0.0), (1731, 0.0), (1732, 0.0), (1733, 0.0), (1734, 0.0), (1735, 0.0), (1736, 0.0), (1737, 0.0), (1738, 0.0), (1739, 0.0), (1740, 0.0), (1741, 0.0), (1742, 0.0), (1743, 0.0), (1744, 0.0), (1746, 0.0), (1748, 0.0), (1749, 0.0), (1750, 0.0), (1751, 0.0), (1752, 0.0), (1753, 0.0), (1754, 0.0), (1755, 0.0), (1756, 0.0), (1757, 0.0), (1758, 0.0), (1759, 0.0), (1760, 0.0), (1761, 0.0), (1762, 0.0), (1763, 0.0), (1764, 0.0), (1766, 0.0), (1767, 0.0), (1768, 0.0), (1769, 0.0), (1770, 0.0), (1771, 0.0), (1772, 0.0), (1773, 0.0), (1775, 0.0), (1776, 0.0), (1777, 0.0), (1778, 0.0), (1779, 0.0), (1780, 0.0), (1781, 0.0), (1782, 0.0), (1784, 0.0), (1785, 0.0), (1786, 0.0), (1787, 0.0), (1788, 0.0), (1789, 0.0), (1790, 0.0), (1791, 0.0), (1792, 0.0), (1793, 0.0), (1794, 0.0), (1796, 0.0), (1797, 0.0), (1798, 0.0), (1799, 0.0), (1800, 0.0), (1801, 0.0), (1802, 0.0), (1804, 0.0), (1805, 0.0), (1806, 0.0), (1807, 0.0), (1808, 0.0), (1809, 0.0), (1810, 0.0), (1811, 0.0), (1812, 0.0), (1813, 0.0), (1814, 0.0), (1815, 0.0), (1817, 0.0), (1818, 0.0), (1820, 0.0), (1821, 0.0), (1822, 0.0), (1823, 0.0), (1825, 0.0), (1826, 0.0), (1827, 0.0), (1828, 0.0), (1829, 0.0), (1830, 0.0), (1831, 0.0), (1832, 0.0), (1834, 0.0), (1835, 0.0), (1836, 0.0), (1837, 0.0), (1838, 0.0), (1839, 0.0), (1840, 0.0), (1841, 0.0), (1842, 0.0), (1843, 0.0), (1844, 0.0), (1845, 0.0), (1846, 0.0), (1848, 0.0), (1849, 0.0), (1851, 0.0), (1852, 0.0), (1854, 0.0), (1855, 0.0), (1856, 0.0), (1857, 0.0), (1859, 0.0), (1860, 0.0), (1861, 0.0), (1862, 0.0), (1863, 0.0), (1864, 0.0), (1865, 0.0), (1866, 0.0), (1867, 0.0), (1869, 0.0), (1870, 0.0), (1871, 0.0), (1872, 0.0), (1873, 0.0), (1874, 0.0), (1875, 0.0), (1876, 0.0), (1879, 0.0), (1880, 0.0), (1884, 0.0), (1885, 0.0), (1886, 0.0), (1887, 0.0), (1888, 0.0), (1889, 0.0), (1890, 0.0), (1891, 0.0), (1892, 0.0), (1893, 0.0), (1894, 0.0), (1895, 0.0), (1896, 0.0), (1897, 0.0), (1898, 0.0), (1899, 0.0), (1901, 0.0), (1902, 0.0), (1903, 0.0), (1905, 0.0), (1906, 0.0), (1908, 0.0), (1909, 0.0), (1910, 0.0), (1911, 0.0), (1912, 0.0), (1914, 0.0), (1915, 0.0), (1916, 0.0), (1917, 0.0), (1918, 0.0), (1919, 0.0), (1920, 0.0), (1921, 0.0), (1922, 0.0), (1923, 0.0), (1924, 0.0), (1925, 0.0), (1927, 0.0), (1929, 0.0), (1930, 0.0), (1931, 0.0), (1933, 0.0), (1934, 0.0), (1935, 0.0), (1936, 0.0), (1937, 0.0), (1938, 0.0), (1939, 0.0), (1940, 0.0), (1941, 0.0), (1942, 0.0), (1943, 0.0), (1944, 0.0), (1945, 0.0), (1946, 0.0), (1947, 0.0), (1948, 0.0), (1949, 0.0), (1950, 0.0), (1951, 0.0), (1952, 0.0), (1953, 0.0), (1954, 0.0), (1955, 0.0), (1956, 0.0), (1958, 0.0), (1960, 0.0), (1961, 0.0), (1962, 0.0), (1963, 0.0), (1964, 0.0), (1965, 0.0), (1966, 0.0), (1967, 0.0), (1968, 0.0), (1969, 0.0), (1970, 0.0), (1971, 0.0), (1973, 0.0), (1974, 0.0), (1975, 0.0), (1977, 0.0), (1978, 0.0), (1979, 0.0), (1980, 0.0), (1981, 0.0), (1982, 0.0), (1983, 0.0), (1984, 0.0), (1985, 0.0), (1986, 0.0), (1987, 0.0), (1988, 0.0), (1989, 0.0), (1990, 0.0), (1991, 0.0), (1992, 0.0), (1993, 0.0), (1995, 0.0), (1996, 0.0), (1997, 0.0), (1999, 0.0), (2000, 0.0), (2001, 0.0), (2002, 0.0), (2003, 0.0), (2004, 0.0), (2005, 0.0), (2006, 0.0), (2007, 0.0), (2008, 0.0), (2009, 0.0), (2010, 0.0), (2011, 0.0), (2013, 0.0), (2014, 0.0), (2015, 0.0), (2016, 0.0), (2017, 0.0), (2018, 0.0), (2019, 0.0), (2020, 0.0), (2021, 0.0), (2022, 0.0), (2024, 0.0), (2025, 0.0), (2026, 0.0), (2027, 0.0), (2028, 0.0), (2029, 0.0), (2030, 0.0), (2031, 0.0), (2032, 0.0), (2033, 0.0), (2034, 0.0), (2035, 0.0), (2038, 0.0), (2039, 0.0), (2040, 0.0), (2041, 0.0), (2042, 0.0), (2043, 0.0), (2045, 0.0), (2046, 0.0), (2047, 0.0), (2048, 0.0), (2050, 0.0), (2052, 0.0), (2053, 0.0), (2054, 0.0), (2055, 0.0), (2056, 0.0), (2057, 0.0), (2058, 0.0), (2059, 0.0), (2060, 0.0), (2061, 0.0), (2062, 0.0), (2063, 0.0), (2064, 0.0), (2065, 0.0), (2066, 0.0), (2067, 0.0), (2068, 0.0), (2069, 0.0), (2071, 0.0), (2072, 0.0), (2073, 0.0), (2074, 0.0), (2075, 0.0), (2076, 0.0), (2077, 0.0), (2078, 0.0), (2079, 0.0), (2080, 0.0), (2082, 0.0), (2083, 0.0), (2084, 0.0), (2085, 0.0), (2086, 0.0), (2087, 0.0), (2088, 0.0), (2089, 0.0), (2090, 0.0), (2092, 0.0), (2094, 0.0), (2095, 0.0), (2096, 0.0), (2097, 0.0), (2099, 0.0), (2100, 0.0), (2101, 0.0), (2102, 0.0), (2104, 0.0), (2106, 0.0), (2107, 0.0), (2108, 0.0), (2109, 0.0), (2110, 0.0), (2111, 0.0), (2112, 0.0), (2114, 0.0), (2115, 0.0), (2116, 0.0), (2117, 0.0), (2118, 0.0), (2119, 0.0), (2120, 0.0), (2121, 0.0), (2122, 0.0), (2123, 0.0), (2124, 0.0), (2125, 0.0), (2126, 0.0), (2127, 0.0), (2128, 0.0), (2129, 0.0), (2130, 0.0), (2131, 0.0), (2134, 0.0), (2136, 0.0), (2137, 0.0), (2138, 0.0), (2139, 0.0), (2140, 0.0), (2141, 0.0), (2142, 0.0), (2143, 0.0), (2145, 0.0), (2146, 0.0), (2147, 0.0), (2148, 0.0), (2149, 0.0), (2150, 0.0), (2151, 0.0), (2152, 0.0), (2153, 0.0), (2154, 0.0), (2155, 0.0), (2156, 0.0), (2157, 0.0), (2158, 0.0), (2159, 0.0), (2160, 0.0), (2161, 0.0), (2162, 0.0), (2163, 0.0), (2164, 0.0), (2165, 0.0), (2166, 0.0), (2167, 0.0), (2169, 0.0), (2170, 0.0), (2171, 0.0), (2172, 0.0), (2173, 0.0), (2174, 0.0), (2175, 0.0), (2176, 0.0), (2177, 0.0), (2178, 0.0), (2179, 0.0), (2180, 0.0), (2181, 0.0), (2182, 0.0), (2183, 0.0), (2184, 0.0), (2185, 0.0), (2186, 0.0), (2187, 0.0), (2188, 0.0), (2189, 0.0), (2190, 0.0), (2191, 0.0), (2192, 0.0), (2193, 0.0), (2194, 0.0), (2195, 0.0), (2196, 0.0), (2197, 0.0), (2199, 0.0), (2200, 0.0), (2201, 0.0), (2202, 0.0), (2203, 0.0), (2204, 0.0), (2205, 0.0), (2206, 0.0), (2207, 0.0), (2208, 0.0), (2209, 0.0), (2210, 0.0), (2211, 0.0), (2212, 0.0), (2214, 0.0), (2215, 0.0), (2216, 0.0), (2217, 0.0), (2218, 0.0), (2219, 0.0), (2220, 0.0), (2221, 0.0), (2222, 0.0), (2224, 0.0), (2225, 0.0), (2226, 0.0), (2227, 0.0), (2228, 0.0), (2229, 0.0), (2230, 0.0), (2231, 0.0), (2233, 0.0), (2235, 0.0), (2236, 0.0), (2237, 0.0), (2238, 0.0), (2239, 0.0), (2240, 0.0), (2242, 0.0), (2243, 0.0), (2244, 0.0), (2245, 0.0), (2246, 0.0), (2247, 0.0), (2248, 0.0), (2249, 0.0), (2250, 0.0), (2251, 0.0), (2252, 0.0), (2255, 0.0), (2256, 0.0), (2257, 0.0), (2258, 0.0), (2259, 0.0), (2260, 0.0), (2261, 0.0), (2263, 0.0), (2264, 0.0), (2265, 0.0), (2266, 0.0), (2267, 0.0), (2268, 0.0), (2269, 0.0), (2271, 0.0), (2273, 0.0), (2274, 0.0), (2275, 0.0), (2276, 0.0), (2277, 0.0), (2279, 0.0), (2281, 0.0), (2283, 0.0), (2284, 0.0), (2285, 0.0), (2286, 0.0), (2287, 0.0), (2288, 0.0), (2289, 0.0), (2290, 0.0), (2291, 0.0), (2292, 0.0), (2293, 0.0), (2294, 0.0), (2295, 0.0), (2297, 0.0), (2298, 0.0), (2299, 0.0), (2300, 0.0), (2301, 0.0), (2302, 0.0), (2303, 0.0), (2304, 0.0), (2305, 0.0), (2306, 0.0), (2307, 0.0), (2308, 0.0), (2309, 0.0), (2310, 0.0), (2311, 0.0), (2312, 0.0), (2313, 0.0), (2314, 0.0), (2315, 0.0), (2316, 0.0), (2317, 0.0), (2318, 0.0), (2319, 0.0), (2320, 0.0), (2321, 0.0), (2322, 0.0), (2323, 0.0), (2324, 0.0), (2325, 0.0), (2326, 0.0), (2327, 0.0), (2328, 0.0), (2329, 0.0), (2330, 0.0), (2331, 0.0), (2333, 0.0), (2335, 0.0), (2336, 0.0), (2338, 0.0), (2341, 0.0), (2342, 0.0), (2344, 0.0), (2345, 0.0), (2346, 0.0), (2347, 0.0), (2348, 0.0), (2349, 0.0), (2350, 0.0), (2351, 0.0), (2352, 0.0), (2353, 0.0), (2354, 0.0), (2355, 0.0), (2356, 0.0), (2357, 0.0), (2358, 0.0), (2359, 0.0), (2360, 0.0), (2361, 0.0), (2362, 0.0), (2363, 0.0), (2364, 0.0), (2365, 0.0), (2366, 0.0), (2367, 0.0), (2368, 0.0), (2369, 0.0), (2370, 0.0), (2371, 0.0), (2372, 0.0), (2373, 0.0), (2374, 0.0), (2376, 0.0), (2377, 0.0), (2378, 0.0), (2379, 0.0), (2380, 0.0), (2381, 0.0), (2383, 0.0), (2384, 0.0), (2385, 0.0), (2386, 0.0), (2387, 0.0), (2388, 0.0), (2389, 0.0), (2391, 0.0), (2392, 0.0), (2394, 0.0), (2395, 0.0), (2397, 0.0), (2398, 0.0), (2400, 0.0), (2401, 0.0), (2402, 0.0), (2404, 0.0), (2405, 0.0), (2406, 0.0), (2407, 0.0), (2408, 0.0), (2409, 0.0), (2410, 0.0), (2411, 0.0), (2412, 0.0), (2414, 0.0), (2415, 0.0), (2416, 0.0), (2417, 0.0), (2418, 0.0), (2419, 0.0), (2420, 0.0), (2421, 0.0), (2422, 0.0), (2423, 0.0), (2425, 0.0), (2426, 0.0), (2428, 0.0), (2429, 0.0), (2430, 0.0), (2431, 0.0), (2432, 0.0), (2433, 0.0), (2434, 0.0), (2435, 0.0), (2436, 0.0), (2437, 0.0), (2439, 0.0), (2440, 0.0), (2441, 0.0), (2442, 0.0), (2443, 0.0), (2444, 0.0), (2445, 0.0), (2446, 0.0), (2448, 0.0), (2449, 0.0), (2450, 0.0), (2451, 0.0), (2452, 0.0), (2453, 0.0), (2454, 0.0), (2455, 0.0), (2456, 0.0), (2457, 0.0), (2459, 0.0), (2460, 0.0), (2461, 0.0), (2462, 0.0), (2463, 0.0), (2464, 0.0), (2465, 0.0), (2466, 0.0), (2467, 0.0), (2469, 0.0), (2470, 0.0), (2471, 0.0), (2472, 0.0), (2474, 0.0), (2475, 0.0), (2476, 0.0), (2477, 0.0), (2478, 0.0), (2479, 0.0), (2480, 0.0), (2481, 0.0), (2482, 0.0), (2483, 0.0), (2484, 0.0), (2485, 0.0), (2487, 0.0), (2488, 0.0), (2489, 0.0), (2490, 0.0), (2491, 0.0), (2492, 0.0), (2496, 0.0), (2497, 0.0), (2498, 0.0), (2500, 0.0), (2502, 0.0), (2504, 0.0), (2505, 0.0), (2506, 0.0), (2507, 0.0), (2508, 0.0), (2510, 0.0), (2511, 0.0), (2513, 0.0), (2515, 0.0), (2516, 0.0), (2517, 0.0), (2519, 0.0), (2520, 0.0), (2521, 0.0), (2522, 0.0), (2523, 0.0), (2524, 0.0), (2525, 0.0), (2526, 0.0), (2527, 0.0), (2528, 0.0), (2529, 0.0), (2530, 0.0), (2531, 0.0), (2532, 0.0), (2533, 0.0), (2534, 0.0), (2535, 0.0), (2536, 0.0), (2537, 0.0), (2538, 0.0), (2539, 0.0), (2540, 0.0), (2541, 0.0), (2542, 0.0), (2543, 0.0), (2544, 0.0), (2545, 0.0), (2547, 0.0), (2548, 0.0), (2549, 0.0), (2550, 0.0), (2553, 0.0), (2554, 0.0), (2555, 0.0), (2556, 0.0), (2557, 0.0), (2558, 0.0), (2559, 0.0), (2560, 0.0), (2562, 0.0), (2563, 0.0), (2564, 0.0), (2566, 0.0), (2567, 0.0), (2569, 0.0), (2570, 0.0), (2571, 0.0), (2572, 0.0), (2573, 0.0), (2574, 0.0), (2575, 0.0), (2576, 0.0), (2577, 0.0), (2578, 0.0), (2580, 0.0), (2581, 0.0), (2582, 0.0), (2583, 0.0), (2584, 0.0), (2585, 0.0), (2586, 0.0), (2587, 0.0), (2588, 0.0), (2589, 0.0), (2590, 0.0), (2591, 0.0), (2592, 0.0), (2593, 0.0), (2594, 0.0), (2595, 0.0), (2596, 0.0), (2597, 0.0), (2598, 0.0), (2599, 0.0), (2600, 0.0), (2601, 0.0), (2602, 0.0), (2603, 0.0), (2604, 0.0), (2605, 0.0), (2607, 0.0), (2608, 0.0), (2609, 0.0), (2610, 0.0), (2611, 0.0), (2612, 0.0), (2613, 0.0), (2614, 0.0), (2615, 0.0), (2616, 0.0), (2617, 0.0), (2618, 0.0), (2619, 0.0), (2620, 0.0), (2621, 0.0), (2622, 0.0), (2623, 0.0), (2624, 0.0), (2625, 0.0), (2627, 0.0), (2628, 0.0), (2629, 0.0), (2630, 0.0), (2631, 0.0), (2632, 0.0), (2634, 0.0), (2635, 0.0), (2636, 0.0), (2637, 0.0), (2638, 0.0), (2639, 0.0), (2640, 0.0), (2641, 0.0), (2642, 0.0), (2643, 0.0), (2644, 0.0), (2645, 0.0), (2646, 0.0), (2647, 0.0), (2648, 0.0), (2649, 0.0), (2652, 0.0), (2653, 0.0), (2654, 0.0), (2655, 0.0), (2656, 0.0), (2657, 0.0), (2658, 0.0), (2659, 0.0), (2660, 0.0), (2661, 0.0), (2664, 0.0), (2665, 0.0), (2666, 0.0), (2667, 0.0), (2668, 0.0), (2669, 0.0), (2670, 0.0), (2671, 0.0), (2673, 0.0), (2674, 0.0), (2675, 0.0), (2676, 0.0), (2677, 0.0), (2679, 0.0), (2680, 0.0), (2681, 0.0), (2682, 0.0), (2684, 0.0), (2685, 0.0), (2686, 0.0), (2688, 0.0), (2689, 0.0), (2690, 0.0), (2691, 0.0), (2692, 0.0), (2693, 0.0), (2694, 0.0), (2695, 0.0), (2698, 0.0), (2699, 0.0), (2700, 0.0), (2701, 0.0), (2703, 0.0), (2704, 0.0), (2705, 0.0), (2706, 0.0), (2707, 0.0), (2708, 0.0), (2709, 0.0), (2710, 0.0), (2711, 0.0), (2712, 0.0), (2713, 0.0), (2714, 0.0), (2715, 0.0), (2716, 0.0), (2717, 0.0), (2718, 0.0), (2719, 0.0), (2720, 0.0), (2721, 0.0), (2723, 0.0), (2725, 0.0), (2726, 0.0), (2727, 0.0), (2728, 0.0), (2729, 0.0), (2730, 0.0), (2731, 0.0), (2732, 0.0), (2733, 0.0), (2734, 0.0), (2735, 0.0), (2736, 0.0), (2737, 0.0), (2738, 0.0), (2739, 0.0), (2740, 0.0), (2742, 0.0), (2743, 0.0), (2744, 0.0), (2745, 0.0), (2746, 0.0), (2749, 0.0), (2750, 0.0), (2752, 0.0), (2753, 0.0), (2754, 0.0), (2756, 0.0), (2757, 0.0), (2758, 0.0), (2759, 0.0), (2760, 0.0), (2761, 0.0), (2762, 0.0), (2763, 0.0), (2764, 0.0), (2765, 0.0), (2767, 0.0), (2768, 0.0), (2769, 0.0), (2770, 0.0), (2771, 0.0), (2773, 0.0), (2775, 0.0), (2776, 0.0), (2777, 0.0), (2778, 0.0), (2779, 0.0), (2780, 0.0), (2781, 0.0), (2782, 0.0), (2783, 0.0), (2784, 0.0), (2786, 0.0), (2787, 0.0), (2788, 0.0), (2789, 0.0), (2790, 0.0), (2792, 0.0), (2793, 0.0), (2794, 0.0), (2795, 0.0), (2796, 0.0), (2797, 0.0), (2798, 0.0), (2799, 0.0), (2800, 0.0), (2801, 0.0), (2802, 0.0), (2803, 0.0), (2804, 0.0), (2805, 0.0), (2806, 0.0), (2807, 0.0), (2808, 0.0), (2809, 0.0), (2811, 0.0), (2812, 0.0), (2813, 0.0), (2814, 0.0), (2815, 0.0), (2816, 0.0), (2817, 0.0), (2818, 0.0), (2819, 0.0), (2821, 0.0), (2822, 0.0), (2823, 0.0), (2824, 0.0), (2825, 0.0), (2826, 0.0), (2827, 0.0), (2828, 0.0), (2829, 0.0), (2830, 0.0), (2831, 0.0), (2832, 0.0), (2833, 0.0), (2834, 0.0), (2835, 0.0), (2836, 0.0), (2837, 0.0), (2838, 0.0), (2839, 0.0), (2840, 0.0), (2841, 0.0), (2842, 0.0), (2843, 0.0), (2844, 0.0), (2845, 0.0), (2846, 0.0), (2847, 0.0), (2848, 0.0), (2849, 0.0), (2850, 0.0), (2851, 0.0), (2852, 0.0), (2853, 0.0), (2854, 0.0), (2855, 0.0), (2857, 0.0), (2858, 0.0), (2859, 0.0), (2860, 0.0), (2861, 0.0), (2862, 0.0), (2863, 0.0), (2864, 0.0), (2865, 0.0), (2866, 0.0), (2867, 0.0), (2868, 0.0), (2869, 0.0), (2870, 0.0), (2871, 0.0), (2872, 0.0), (2873, 0.0), (2874, 0.0), (2875, 0.0), (2876, 0.0), (2877, 0.0), (2878, 0.0), (2879, 0.0), (2880, 0.0), (2881, 0.0), (2882, 0.0), (2883, 0.0), (2884, 0.0), (2885, 0.0), (2886, 0.0), (2887, 0.0), (2888, 0.0), (2889, 0.0), (2890, 0.0), (2891, 0.0), (2892, 0.0), (2894, 0.0), (2895, 0.0), (2896, 0.0), (2897, 0.0), (2898, 0.0), (2899, 0.0), (2900, 0.0), (2901, 0.0), (2902, 0.0), (2903, 0.0), (2904, 0.0), (2905, 0.0), (2906, 0.0), (2907, 0.0), (2908, 0.0), (2909, 0.0), (2911, 0.0), (2912, 0.0), (2913, 0.0), (2914, 0.0), (2915, 0.0), (2916, 0.0), (2917, 0.0), (2918, 0.0), (2919, 0.0), (2922, 0.0), (2924, 0.0), (2925, 0.0), (2926, 0.0), (2928, 0.0), (2929, 0.0), (2930, 0.0), (2931, 0.0), (2932, 0.0), (2933, 0.0), (2935, 0.0), (2936, 0.0), (2937, 0.0), (2938, 0.0), (2939, 0.0), (2940, 0.0), (2941, 0.0), (2942, 0.0), (2945, 0.0), (2946, 0.0), (2947, 0.0), (2948, 0.0), (2949, 0.0), (2950, 0.0), (2951, 0.0), (2953, 0.0), (2954, 0.0), (2955, 0.0), (2957, 0.0), (2958, 0.0), (2959, 0.0), (2961, 0.0), (2962, 0.0), (2963, 0.0), (2964, 0.0), (2965, 0.0), (2966, 0.0), (2967, 0.0), (2968, 0.0), (2969, 0.0), (2970, 0.0), (2971, 0.0), (2972, 0.0), (2975, 0.0), (2976, 0.0), (2977, 0.0), (2978, 0.0), (2979, 0.0), (2980, 0.0), (2981, 0.0), (2982, 0.0), (2983, 0.0), (2984, 0.0), (2985, 0.0), (2986, 0.0), (2987, 0.0), (2988, 0.0), (2989, 0.0), (2990, 0.0), (2991, 0.0), (2992, 0.0), (2993, 0.0), (2994, 0.0), (2995, 0.0), (2996, 0.0), (2997, 0.0), (2998, 0.0), (2999, 0.0), (3000, 0.0), (3001, 0.0), (3002, 0.0), (3003, 0.0), (3004, 0.0), (3005, 0.0), (3006, 0.0), (3007, 0.0), (3008, 0.0), (3009, 0.0), (3013, 0.0), (3014, 0.0), (3015, 0.0), (3016, 0.0), (3017, 0.0), (3018, 0.0), (3019, 0.0), (3020, 0.0), (3021, 0.0), (3022, 0.0), (3025, 0.0), (3026, 0.0), (3027, 0.0), (3028, 0.0), (3029, 0.0), (3030, 0.0), (3031, 0.0), (3033, 0.0), (3034, 0.0), (3035, 0.0), (3036, 0.0), (3037, 0.0), (3039, 0.0), (3040, 0.0), (3041, 0.0), (3042, 0.0), (3043, 0.0), (3044, 0.0), (3045, 0.0), (3046, 0.0), (3047, 0.0), (3048, 0.0), (3049, 0.0), (3051, 0.0), (3052, 0.0), (3053, 0.0), (3054, 0.0), (3055, 0.0), (3057, 0.0), (3058, 0.0), (3059, 0.0), (3060, 0.0), (3061, 0.0), (3062, 0.0), (3063, 0.0), (3064, 0.0), (3065, 0.0), (3066, 0.0), (3067, 0.0), (3068, 0.0), (3069, 0.0), (3070, 0.0), (3071, 0.0), (3072, 0.0), (3073, 0.0), (3074, 0.0), (3075, 0.0), (3076, 0.0), (3077, 0.0), (3078, 0.0), (3079, 0.0), (3080, 0.0), (3081, 0.0), (3082, 0.0), (3083, 0.0), (3084, 0.0), (3085, 0.0), (3086, 0.0), (3087, 0.0), (3088, 0.0), (3089, 0.0), (3090, 0.0), (3091, 0.0), (3092, 0.0), (3093, 0.0), (3094, 0.0), (3095, 0.0), (3096, 0.0), (3097, 0.0), (3098, 0.0), (3099, 0.0), (3100, 0.0), (3101, 0.0), (3102, 0.0), (3103, 0.0), (3104, 0.0), (3105, 0.0), (3107, 0.0), (3108, 0.0), (3109, 0.0), (3112, 0.0), (3113, 0.0), (3114, 0.0), (3115, 0.0), (3116, 0.0), (3117, 0.0), (3119, 0.0), (3120, 0.0), (3121, 0.0), (3122, 0.0), (3123, 0.0), (3124, 0.0), (3125, 0.0), (3126, 0.0), (3127, 0.0), (3128, 0.0), (3130, 0.0), (3131, 0.0), (3132, 0.0), (3133, 0.0), (3134, 0.0), (3135, 0.0), (3136, 0.0), (3137, 0.0), (3138, 0.0), (3139, 0.0), (3140, 0.0), (3141, 0.0), (3142, 0.0), (3144, 0.0), (3145, 0.0), (3146, 0.0), (3147, 0.0), (3148, 0.0), (3149, 0.0), (3150, 0.0), (3151, 0.0), (3152, 0.0), (3153, 0.0), (3154, 0.0), (3155, 0.0), (3156, 0.0), (3157, 0.0), (3158, 0.0), (3159, 0.0), (3160, 0.0), (3161, 0.0), (3162, 0.0), (3163, 0.0), (3164, 0.0), (3165, 0.0), (3166, 0.0), (3167, 0.0), (3168, 0.0), (3169, 0.0), (3170, 0.0), (3172, 0.0), (3173, 0.0), (3174, 0.0), (3175, 0.0), (3176, 0.0), (3178, 0.0), (3179, 0.0), (3180, 0.0), (3181, 0.0), (3182, 0.0), (3183, 0.0), (3184, 0.0), (3185, 0.0), (3186, 0.0), (3187, 0.0), (3188, 0.0), (3189, 0.0), (3190, 0.0), (3191, 0.0), (3192, 0.0), (3193, 0.0), (3194, 0.0), (3195, 0.0), (3196, 0.0), (3197, 0.0), (3198, 0.0), (3199, 0.0), (3200, 0.0), (3201, 0.0), (3202, 0.0), (3203, 0.0), (3204, 0.0), (3205, 0.0), (3206, 0.0), (3207, 0.0), (3209, 0.0), (3210, 0.0), (3211, 0.0), (3212, 0.0), (3213, 0.0), (3214, 0.0), (3215, 0.0), (3216, 0.0), (3217, 0.0), (3218, 0.0), (3219, 0.0), (3220, 0.0), (3221, 0.0), (3222, 0.0), (3223, 0.0), (3224, 0.0), (3225, 0.0), (3226, 0.0), (3227, 0.0), (3228, 0.0), (3229, 0.0), (3230, 0.0), (3231, 0.0), (3232, 0.0), (3233, 0.0), (3234, 0.0), (3235, 0.0), (3236, 0.0), (3237, 0.0), (3238, 0.0), (3239, 0.0), (3240, 0.0), (3241, 0.0), (3242, 0.0), (3243, 0.0), (3244, 0.0), (3246, 0.0), (3247, 0.0), (3248, 0.0), (3249, 0.0), (3250, 0.0), (3251, 0.0), (3252, 0.0), (3253, 0.0), (3254, 0.0), (3256, 0.0), (3257, 0.0), (3258, 0.0), (3259, 0.0), (3260, 0.0), (3261, 0.0), (3263, 0.0), (3264, 0.0), (3265, 0.0), (3266, 0.0), (3268, 0.0), (3270, 0.0), (3271, 0.0), (3272, 0.0), (3273, 0.0), (3274, 0.0), (3275, 0.0), (3276, 0.0), (3277, 0.0), (3278, 0.0), (3279, 0.0), (3280, 0.0), (3282, 0.0), (3283, 0.0), (3284, 0.0), (3286, 0.0), (3287, 0.0), (3288, 0.0), (3289, 0.0), (3290, 0.0), (3291, 0.0), (3292, 0.0), (3293, 0.0), (3294, 0.0), (3295, 0.0), (3296, 0.0), (3297, 0.0), (3298, 0.0), (3299, 0.0), (3300, 0.0), (3301, 0.0), (3302, 0.0), (3303, 0.0), (3305, 0.0), (3307, 0.0), (3308, 0.0), (3309, 0.0), (3310, 0.0), (3312, 0.0), (3313, 0.0), (3314, 0.0), (3315, 0.0), (3316, 0.0), (3317, 0.0), (3318, 0.0), (3319, 0.0), (3320, 0.0), (3321, 0.0), (3322, 0.0), (3323, 0.0), (3325, 0.0), (3326, 0.0), (3327, 0.0), (3328, 0.0), (3330, 0.0), (3332, 0.0), (3333, 0.0), (3334, 0.0), (3336, 0.0), (3337, 0.0), (3338, 0.0), (3339, 0.0), (3340, 0.0), (3341, 0.0), (3342, 0.0), (3343, 0.0), (3344, 0.0), (3345, 0.0), (3347, 0.0), (3348, 0.0), (3349, 0.0), (3350, 0.0), (3351, 0.0), (3352, 0.0), (3353, 0.0), (3354, 0.0), (3355, 0.0), (3356, 0.0), (3357, 0.0), (3358, 0.0), (3359, 0.0), (3361, 0.0), (3362, 0.0), (3363, 0.0), (3364, 0.0), (3365, 0.0), (3366, 0.0), (3367, 0.0), (3368, 0.0), (3369, 0.0), (3371, 0.0), (3373, 0.0), (3374, 0.0), (3376, 0.0), (3377, 0.0), (3378, 0.0), (3379, 0.0), (3380, 0.0), (3381, 0.0), (3382, 0.0), (3383, 0.0), (3384, 0.0), (3385, 0.0), (3386, 0.0), (3387, 0.0), (3388, 0.0), (3389, 0.0), (3390, 0.0), (3391, 0.0), (3392, 0.0), (3393, 0.0), (3394, 0.0), (3396, 0.0), (3398, 0.0), (3399, 0.0), (3400, 0.0), (3401, 0.0), (3402, 0.0), (3403, 0.0), (3404, 0.0), (3405, 0.0), (3406, 0.0), (3407, 0.0), (3408, 0.0), (3409, 0.0), (3410, 0.0), (3411, 0.0), (3412, 0.0), (3413, 0.0), (3414, 0.0), (3415, 0.0), (3416, 0.0), (3417, 0.0), (3418, 0.0), (3419, 0.0), (3420, 0.0), (3421, 0.0), (3422, 0.0), (3423, 0.0), (3424, 0.0), (3425, 0.0), (3426, 0.0), (3428, 0.0), (3429, 0.0), (3430, 0.0), (3431, 0.0), (3432, 0.0), (3433, 0.0), (3434, 0.0), (3435, 0.0), (3436, 0.0), (3437, 0.0), (3438, 0.0), (3439, 0.0), (3440, 0.0), (3441, 0.0), (3442, 0.0), (3443, 0.0), (3444, 0.0), (3445, 0.0), (3446, 0.0), (3447, 0.0), (3448, 0.0), (3449, 0.0), (3450, 0.0), (3451, 0.0), (3452, 0.0), (3453, 0.0), (3454, 0.0), (3455, 0.0), (3456, 0.0), (3458, 0.0), (3459, 0.0), (3460, 0.0), (3463, 0.0), (3464, 0.0), (3466, 0.0), (3467, 0.0), (3468, 0.0), (3469, 0.0), (3470, 0.0), (3471, 0.0), (3473, 0.0), (3474, 0.0), (3475, 0.0), (3476, 0.0), (3477, 0.0), (3478, 0.0), (3479, 0.0), (3480, 0.0), (3481, 0.0), (3484, 0.0), (3485, 0.0), (3486, 0.0), (3487, 0.0), (3488, 0.0), (3489, 0.0), (3491, 0.0), (3492, 0.0), (3494, 0.0), (3495, 0.0), (3497, 0.0), (3499, 0.0), (3501, 0.0), (3502, 0.0), (3503, 0.0), (3504, 0.0), (3505, 0.0), (3506, 0.0), (3507, 0.0), (3508, 0.0), (3509, 0.0), (3510, 0.0), (3511, 0.0), (3512, 0.0), (3513, 0.0), (3514, 0.0), (3515, 0.0), (3516, 0.0), (3517, 0.0), (3518, 0.0), (3519, 0.0), (3520, 0.0), (3521, 0.0), (3523, 0.0), (3524, 0.0), (3525, 0.0), (3526, 0.0), (3527, 0.0), (3528, 0.0), (3529, 0.0), (3530, 0.0), (3532, 0.0), (3533, 0.0), (3534, 0.0), (3535, 0.0), (3536, 0.0), (3538, 0.0), (3540, 0.0), (3542, 0.0), (3543, 0.0), (3544, 0.0), (3545, 0.0), (3546, 0.0), (3547, 0.0), (3548, 0.0), (3549, 0.0), (3550, 0.0), (3551, 0.0), (3552, 0.0), (3553, 0.0), (3554, 0.0), (3555, 0.0), (3556, 0.0), (3557, 0.0), (3558, 0.0), (3559, 0.0), (3560, 0.0), (3561, 0.0), (3562, 0.0), (3563, 0.0), (3564, 0.0), (3565, 0.0), (3566, 0.0), (3567, 0.0), (3568, 0.0), (3569, 0.0), (3570, 0.0), (3571, 0.0), (3572, 0.0), (3574, 0.0), (3575, 0.0), (3576, 0.0), (3577, 0.0), (3578, 0.0), (3579, 0.0), (3580, 0.0), (3581, 0.0), (3582, 0.0), (3583, 0.0), (3584, 0.0), (3586, 0.0), (3588, 0.0), (3589, 0.0), (3590, 0.0), (3591, 0.0), (3592, 0.0), (3593, 0.0), (3594, 0.0), (3595, 0.0), (3596, 0.0), (3597, 0.0), (3598, 0.0), (3599, 0.0), (3600, 0.0), (3601, 0.0), (3602, 0.0), (3603, 0.0), (3604, 0.0), (3606, 0.0), (3607, 0.0), (3608, 0.0), (3609, 0.0), (3610, 0.0), (3611, 0.0), (3612, 0.0), (3613, 0.0), (3614, 0.0), (3615, 0.0), (3616, 0.0), (3617, 0.0), (3618, 0.0), (3619, 0.0), (3620, 0.0), (3621, 0.0), (3623, 0.0), (3624, 0.0), (3625, 0.0), (3626, 0.0), (3627, 0.0), (3628, 0.0), (3629, 0.0), (3631, 0.0), (3632, 0.0), (3633, 0.0), (3635, 0.0), (3636, 0.0), (3637, 0.0), (3638, 0.0), (3639, 0.0), (3640, 0.0), (3641, 0.0), (3642, 0.0), (3643, 0.0), (3644, 0.0), (3645, 0.0), (3646, 0.0), (3647, 0.0), (3648, 0.0), (3649, 0.0), (3650, 0.0), (3651, 0.0), (3652, 0.0), (3653, 0.0), (3654, 0.0), (3655, 0.0), (3656, 0.0), (3657, 0.0), (3658, 0.0), (3659, 0.0), (3660, 0.0), (3661, 0.0), (3662, 0.0), (3663, 0.0), (3664, 0.0), (3665, 0.0), (3666, 0.0), (3667, 0.0), (3668, 0.0), (3669, 0.0), (3670, 0.0), (3671, 0.0), (3672, 0.0), (3673, 0.0), (3674, 0.0), (3675, 0.0), (3676, 0.0), (3677, 0.0), (3678, 0.0), (3679, 0.0), (3680, 0.0), (3682, 0.0), (3683, 0.0), (3684, 0.0), (3685, 0.0), (3686, 0.0), (3687, 0.0), (3688, 0.0), (3689, 0.0), (3690, 0.0), (3691, 0.0), (3692, 0.0), (3693, 0.0), (3695, 0.0), (3696, 0.0), (3697, 0.0), (3698, 0.0), (3699, 0.0), (3700, 0.0), (3701, 0.0), (3702, 0.0), (3704, 0.0), (3705, 0.0), (3706, 0.0), (3707, 0.0), (3708, 0.0), (3710, 0.0), (3712, 0.0), (3714, 0.0), (3715, 0.0), (3716, 0.0), (3717, 0.0), (3718, 0.0), (3719, 0.0), (3720, 0.0), (3721, 0.0), (3723, 0.0), (3724, 0.0), (3725, 0.0), (3726, 0.0), (3727, 0.0), (3728, 0.0), (3729, 0.0), (3730, 0.0), (3731, 0.0), (3732, 0.0), (3733, 0.0), (3734, 0.0), (3735, 0.0), (3736, 0.0), (3737, 0.0), (3738, 0.0), (3739, 0.0), (3740, 0.0), (3741, 0.0), (3742, 0.0), (3743, 0.0), (3744, 0.0), (3745, 0.0), (3746, 0.0), (3747, 0.0), (3748, 0.0), (3749, 0.0), (3750, 0.0), (3752, 0.0), (3753, 0.0), (3754, 0.0), (3755, 0.0), (3756, 0.0), (3758, 0.0), (3759, 0.0), (3760, 0.0), (3761, 0.0), (3762, 0.0), (3763, 0.0), (3764, 0.0), (3765, 0.0), (3766, 0.0), (3767, 0.0), (3768, 0.0), (3769, 0.0), (3770, 0.0), (3771, 0.0), (3772, 0.0), (3773, 0.0), (3774, 0.0), (3775, 0.0), (3776, 0.0), (3777, 0.0), (3778, 0.0), (3779, 0.0), (3780, 0.0), (3781, 0.0), (3782, 0.0), (3783, 0.0), (3784, 0.0), (3785, 0.0), (3786, 0.0), (3787, 0.0), (3788, 0.0), (3789, 0.0), (3790, 0.0), (3791, 0.0), (3792, 0.0), (3793, 0.0), (3794, 0.0), (3795, 0.0), (3796, 0.0), (3797, 0.0), (3798, 0.0), (3799, 0.0), (3800, 0.0), (3801, 0.0), (3802, 0.0), (3803, 0.0), (3804, 0.0), (3805, 0.0), (3806, 0.0), (3807, 0.0), (3808, 0.0), (3809, 0.0), (3810, 0.0), (3811, 0.0), (3812, 0.0), (3813, 0.0), (3814, 0.0), (3815, 0.0), (3816, 0.0), (3818, 0.0), (3819, 0.0), (3820, 0.0), (3821, 0.0), (3822, 0.0), (3823, 0.0), (3824, 0.0), (3825, 0.0), (3826, 0.0), (3827, 0.0), (3828, 0.0), (3829, 0.0), (3831, 0.0), (3832, 0.0), (3833, 0.0), (3834, 0.0), (3835, 0.0), (3836, 0.0), (3837, 0.0), (3838, 0.0), (3839, 0.0), (3840, 0.0), (3841, 0.0), (3842, 0.0), (3843, 0.0), (3844, 0.0), (3845, 0.0), (3846, 0.0), (3847, 0.0), (3848, 0.0), (3849, 0.0), (3850, 0.0), (3851, 0.0), (3852, 0.0), (3853, 0.0), (3854, 0.0), (3855, 0.0), (3856, 0.0), (3857, 0.0), (3858, 0.0), (3859, 0.0), (3860, 0.0), (3861, 0.0), (3862, 0.0), (3864, 0.0), (3865, 0.0), (3866, 0.0), (3867, 0.0), (3868, 0.0), (3869, 0.0), (3870, 0.0), (3871, 0.0), (3872, 0.0), (3873, 0.0), (3874, 0.0), (3875, 0.0), (3876, 0.0), (3877, 0.0), (3878, 0.0), (3879, 0.0), (3880, 0.0), (3881, 0.0), (3882, 0.0), (3883, 0.0), (3884, 0.0), (3885, 0.0), (3886, 0.0), (3887, 0.0), (3888, 0.0), (3889, 0.0), (3890, 0.0), (3892, 0.0), (3893, 0.0), (3894, 0.0), (3895, 0.0), (3896, 0.0), (3897, 0.0), (3898, 0.0), (3899, 0.0), (3900, 0.0), (3901, 0.0), (3902, 0.0), (3903, 0.0), (3905, 0.0), (3906, 0.0), (3907, 0.0), (3909, 0.0), (3910, 0.0), (3912, 0.0), (3913, 0.0), (3914, 0.0), (3915, 0.0), (3916, 0.0), (3917, 0.0), (3918, 0.0), (3919, 0.0), (3920, 0.0), (3921, 0.0), (3922, 0.0), (3923, 0.0), (3924, 0.0), (3925, 0.0), (3926, 0.0), (3927, 0.0), (3928, 0.0), (3929, 0.0), (3930, 0.0), (3931, 0.0), (3932, 0.0), (3933, 0.0), (3934, 0.0), (3935, 0.0), (3936, 0.0), (3937, 0.0), (3938, 0.0), (3939, 0.0), (3940, 0.0), (3941, 0.0), (3942, 0.0), (3943, 0.0), (3944, 0.0), (3945, 0.0), (3947, 0.0), (3948, 0.0), (3949, 0.0), (3950, 0.0), (3951, 0.0), (3952, 0.0), (3953, 0.0), (3956, 0.0), (3957, 0.0), (3958, 0.0), (3959, 0.0), (3960, 0.0), (3961, 0.0), (3962, 0.0), (3963, 0.0), (3964, 0.0), (3965, 0.0), (3966, 0.0), (3967, 0.0), (3969, 0.0), (3970, 0.0), (3971, 0.0), (3973, 0.0), (3974, 0.0), (3975, 0.0), (3976, 0.0), (3977, 0.0), (3978, 0.0), (3979, 0.0), (3980, 0.0), (3981, 0.0), (3982, 0.0), (3983, 0.0), (3984, 0.0), (3985, 0.0), (3986, 0.0), (3987, 0.0), (3988, 0.0), (3989, 0.0), (3992, 0.0), (3993, 0.0), (3994, 0.0), (3995, 0.0), (3996, 0.0), (3997, 0.0), (3998, 0.0), (3999, 0.0), (4000, 0.0), (4001, 0.0), (4002, 0.0), (4005, 0.0), (4006, 0.0), (4008, 0.0), (4009, 0.0), (4010, 0.0), (4011, 0.0), (4012, 0.0), (4013, 0.0), (4014, 0.0), (4015, 0.0), (4016, 0.0), (4017, 0.0), (4018, 0.0), (4020, 0.0), (4021, 0.0), (4022, 0.0), (4023, 0.0), (4024, 0.0), (4025, 0.0), (4026, 0.0), (4027, 0.0), (4028, 0.0), (4029, 0.0), (4030, 0.0), (4031, 0.0), (4032, 0.0), (4033, 0.0), (4034, 0.0), (4035, 0.0), (4036, 0.0), (4037, 0.0), (4038, 0.0), (4039, 0.0), (4040, 0.0), (4042, 0.0), (4043, 0.0), (4044, 0.0), (4045, 0.0), (4046, 0.0), (4048, 0.0), (4050, 0.0), (4051, 0.0), (4052, 0.0), (4053, 0.0), (4054, 0.0), (4055, 0.0), (4056, 0.0), (4057, 0.0), (4058, 0.0), (4059, 0.0), (4060, 0.0), (4061, 0.0), (4063, 0.0), (4065, 0.0), (4066, 0.0), (4067, 0.0), (4068, 0.0), (4069, 0.0), (4070, 0.0), (4071, 0.0), (4072, 0.0), (4073, 0.0), (4074, 0.0), (4075, 0.0), (4076, 0.0), (4077, 0.0), (4078, 0.0), (4079, 0.0), (4081, 0.0), (4082, 0.0), (4083, 0.0), (4085, 0.0), (4086, 0.0), (4087, 0.0), (4088, 0.0), (4089, 0.0), (4090, 0.0), (4091, 0.0), (4092, 0.0), (4094, 0.0), (4095, 0.0), (4096, 0.0), (4097, 0.0), (4098, 0.0), (4099, 0.0), (4100, 0.0), (4101, 0.0), (4102, 0.0), (4103, 0.0), (4104, 0.0), (4105, 0.0), (4106, 0.0), (4107, 0.0), (4108, 0.0), (4109, 0.0), (4110, 0.0), (4111, 0.0), (4112, 0.0), (4113, 0.0), (4114, 0.0), (4115, 0.0), (4116, 0.0), (4117, 0.0), (4118, 0.0), (4119, 0.0), (4120, 0.0), (4121, 0.0), (4122, 0.0), (4123, 0.0), (4124, 0.0), (4125, 0.0), (4126, 0.0), (4127, 0.0), (4128, 0.0), (4129, 0.0), (4130, 0.0), (4131, 0.0), (4132, 0.0), (4133, 0.0), (4134, 0.0), (4135, 0.0), (4136, 0.0), (4137, 0.0), (4138, 0.0), (4139, 0.0), (4140, 0.0), (4143, 0.0), (4144, 0.0), (4145, 0.0), (4146, 0.0), (4147, 0.0), (4148, 0.0), (4149, 0.0), (4150, 0.0), (4151, 0.0), (4152, 0.0), (4153, 0.0), (4154, 0.0), (4155, 0.0), (4156, 0.0), (4158, 0.0), (4159, 0.0), (4160, 0.0), (4161, 0.0), (4162, 0.0), (4163, 0.0), (4165, 0.0), (4166, 0.0), (4168, 0.0), (4169, 0.0), (4170, 0.0), (4171, 0.0), (4172, 0.0), (4173, 0.0), (4174, 0.0), (4175, 0.0), (4177, 0.0), (4178, 0.0), (4179, 0.0), (4180, 0.0), (4181, 0.0), (4182, 0.0), (4183, 0.0), (4184, 0.0), (4185, 0.0), (4186, 0.0), (4187, 0.0), (4188, 0.0), (4189, 0.0), (4190, 0.0), (4191, 0.0), (4192, 0.0), (4193, 0.0), (4194, 0.0), (4195, 0.0), (4196, 0.0), (4197, 0.0), (4198, 0.0), (4199, 0.0), (4200, 0.0), (4201, 0.0), (4202, 0.0), (4203, 0.0), (4204, 0.0), (4205, 0.0), (4206, 0.0), (4207, 0.0), (4208, 0.0), (4209, 0.0), (4210, 0.0), (4211, 0.0), (4212, 0.0), (4213, 0.0), (4214, 0.0), (4215, 0.0), (4216, 0.0), (4217, 0.0), (4218, 0.0), (4219, 0.0), (4220, 0.0), (4221, 0.0), (4222, 0.0), (4223, 0.0), (4226, 0.0), (4227, 0.0), (4228, 0.0), (4229, 0.0), (4230, 0.0), (4231, 0.0), (4232, 0.0), (4233, 0.0), (4234, 0.0), (4235, 0.0), (4236, 0.0), (4237, 0.0), (4238, 0.0), (4239, 0.0), (4240, 0.0), (4241, 0.0), (4242, 0.0), (4243, 0.0), (4244, 0.0), (4245, 0.0), (4246, 0.0), (4248, 0.0), (4249, 0.0), (4250, 0.0), (4251, 0.0), (4252, 0.0), (4253, 0.0), (4255, 0.0), (4256, 0.0), (4257, 0.0), (4258, 0.0), (4259, 0.0), (4260, 0.0), (4261, 0.0), (4262, 0.0), (4263, 0.0), (4264, 0.0), (4265, 0.0), (4266, 0.0), (4267, 0.0), (4268, 0.0), (4269, 0.0), (4270, 0.0), (4271, 0.0), (4272, 0.0), (4273, 0.0), (4274, 0.0), (4275, 0.0), (4276, 0.0), (4277, 0.0), (4278, 0.0), (4279, 0.0), (4280, 0.0), (4281, 0.0), (4282, 0.0), (4283, 0.0), (4284, 0.0), (4285, 0.0), (4286, 0.0), (4287, 0.0), (4288, 0.0), (4289, 0.0), (4290, 0.0), (4291, 0.0), (4292, 0.0), (4293, 0.0), (4294, 0.0), (4295, 0.0), (4296, 0.0), (4299, 0.0), (4300, 0.0), (4301, 0.0), (4302, 0.0), (4303, 0.0), (4304, 0.0), (4305, 0.0), (4306, 0.0), (4307, 0.0), (4308, 0.0), (4309, 0.0), (4310, 0.0), (4311, 0.0), (4312, 0.0), (4313, 0.0), (4314, 0.0), (4315, 0.0), (4316, 0.0), (4318, 0.0), (4319, 0.0), (4320, 0.0), (4321, 0.0), (4322, 0.0), (4323, 0.0), (4324, 0.0), (4325, 0.0), (4326, 0.0), (4327, 0.0), (4328, 0.0), (4330, 0.0), (4331, 0.0), (4332, 0.0), (4334, 0.0), (4335, 0.0), (4336, 0.0), (4337, 0.0), (4338, 0.0), (4340, 0.0), (4341, 0.0), (4342, 0.0), (4343, 0.0), (4344, 0.0), (4345, 0.0), (4346, 0.0), (4347, 0.0), (4348, 0.0), (4349, 0.0), (4351, 0.0), (4352, 0.0), (4353, 0.0), (4354, 0.0), (4355, 0.0), (4356, 0.0), (4358, 0.0), (4359, 0.0), (4360, 0.0), (4361, 0.0), (4362, 0.0), (4363, 0.0), (4364, 0.0), (4365, 0.0), (4366, 0.0), (4367, 0.0), (4368, 0.0), (4369, 0.0), (4370, 0.0), (4371, 0.0), (4372, 0.0), (4373, 0.0), (4374, 0.0), (4375, 0.0), (4376, 0.0), (4377, 0.0), (4378, 0.0), (4379, 0.0), (4380, 0.0), (4381, 0.0), (4382, 0.0), (4383, 0.0), (4384, 0.0), (4385, 0.0), (4386, 0.0), (4387, 0.0), (4388, 0.0), (4389, 0.0), (4390, 0.0), (4391, 0.0), (4392, 0.0), (4393, 0.0), (4394, 0.0), (4395, 0.0), (4396, 0.0), (4397, 0.0), (4398, 0.0), (4399, 0.0), (4400, 0.0), (4401, 0.0), (4402, 0.0), (4403, 0.0), (4404, 0.0), (4405, 0.0), (4406, 0.0), (4407, 0.0), (4408, 0.0), (4409, 0.0), (4410, 0.0), (4411, 0.0), (4412, 0.0), (4413, 0.0), (4415, 0.0), (4416, 0.0), (4417, 0.0), (4418, 0.0), (4419, 0.0), (4420, 0.0), (4421, 0.0), (4422, 0.0), (4423, 0.0), (4424, 0.0), (4425, 0.0), (4426, 0.0), (4427, 0.0), (4428, 0.0), (4429, 0.0), (4430, 0.0), (4431, 0.0), (4432, 0.0), (4433, 0.0), (4434, 0.0), (4435, 0.0), (4436, 0.0), (4438, 0.0), (4439, 0.0), (4441, 0.0), (4442, 0.0), (4443, 0.0), (4444, 0.0), (4445, 0.0), (4446, 0.0), (4447, 0.0), (4448, 0.0), (4450, 0.0), (4451, 0.0), (4452, 0.0), (4453, 0.0), (4454, 0.0), (4455, 0.0), (4456, 0.0), (4457, 0.0), (4458, 0.0), (4459, 0.0), (4460, 0.0), (4461, 0.0), (4462, 0.0), (4463, 0.0), (4464, 0.0), (4465, 0.0), (4466, 0.0), (4467, 0.0), (4468, 0.0), (4469, 0.0), (4470, 0.0), (4471, 0.0), (4472, 0.0), (4473, 0.0), (4474, 0.0), (4475, 0.0), (4476, 0.0), (4477, 0.0), (4478, 0.0), (4479, 0.0), (4480, 0.0), (4481, 0.0), (4482, 0.0), (4483, 0.0), (4484, 0.0), (4485, 0.0), (4486, 0.0), (4487, 0.0), (4488, 0.0), (4489, 0.0), (4490, 0.0), (4491, 0.0), (4492, 0.0), (4493, 0.0), (4494, 0.0), (4495, 0.0), (4496, 0.0), (4497, 0.0), (4498, 0.0), (4499, 0.0), (4500, 0.0), (4501, 0.0), (4502, 0.0), (4503, 0.0), (4504, 0.0), (4505, 0.0), (4506, 0.0), (4507, 0.0), (4509, 0.0), (4510, 0.0), (4511, 0.0), (4512, 0.0), (4513, 0.0), (4514, 0.0), (4515, 0.0), (4517, 0.0), (4518, 0.0), (4519, 0.0), (4520, 0.0), (4521, 0.0), (4522, 0.0), (4523, 0.0), (4524, 0.0), (4525, 0.0), (4526, 0.0), (4527, 0.0), (4528, 0.0), (4529, 0.0), (4530, 0.0), (4531, 0.0), (4532, 0.0), (4533, 0.0), (4534, 0.0), (4535, 0.0), (4536, 0.0), (4538, 0.0), (4539, 0.0), (4540, 0.0), (4541, 0.0), (4543, 0.0), (4544, 0.0), (4545, 0.0), (4546, 0.0), (4547, 0.0), (4548, 0.0), (4549, 0.0), (4550, 0.0), (4551, 0.0), (4552, 0.0), (4553, 0.0), (4554, 0.0), (4555, 0.0), (4556, 0.0), (4557, 0.0), (4558, 0.0), (4559, 0.0), (4560, 0.0), (4561, 0.0), (4562, 0.0), (4563, 0.0), (4564, 0.0), (4565, 0.0), (4566, 0.0), (4567, 0.0), (4570, 0.0), (4571, 0.0), (4572, 0.0), (4573, 0.0), (4574, 0.0), (4575, 0.0), (4576, 0.0), (4577, 0.0), (4578, 0.0), (4579, 0.0), (4580, 0.0), (4582, 0.0), (4583, 0.0), (4585, 0.0), (4586, 0.0), (4587, 0.0), (4588, 0.0), (4589, 0.0), (4590, 0.0), (4591, 0.0), (4592, 0.0), (4593, 0.0), (4594, 0.0), (4595, 0.0), (4596, 0.0), (4597, 0.0), (4598, 0.0), (4600, 0.0), (4601, 0.0), (4602, 0.0), (4603, 0.0), (4604, 0.0), (4606, 0.0), (4607, 0.0), (4608, 0.0), (4609, 0.0), (4610, 0.0), (4611, 0.0), (4612, 0.0), (4613, 0.0), (4614, 0.0), (4615, 0.0), (4616, 0.0), (4617, 0.0), (4618, 0.0), (4619, 0.0), (4620, 0.0), (4621, 0.0), (4622, 0.0), (4623, 0.0), (4624, 0.0), (4625, 0.0), (4626, 0.0), (4627, 0.0), (4628, 0.0), (4629, 0.0), (4630, 0.0), (4631, 0.0), (4632, 0.0), (4633, 0.0), (4634, 0.0), (4635, 0.0), (4636, 0.0), (4637, 0.0), (4638, 0.0), (4639, 0.0), (4640, 0.0), (4641, 0.0), (4642, 0.0), (4643, 0.0), (4644, 0.0), (4645, 0.0), (4647, 0.0), (4648, 0.0), (4649, 0.0), (4650, 0.0), (4651, 0.0), (4652, 0.0), (4653, 0.0), (4654, 0.0), (4656, 0.0), (4657, 0.0), (4658, 0.0), (4659, 0.0), (4660, 0.0), (4661, 0.0), (4662, 0.0), (4663, 0.0), (4664, 0.0), (4665, 0.0), (4666, 0.0), (4667, 0.0), (4668, 0.0), (4669, 0.0), (4670, 0.0), (4671, 0.0), (4673, 0.0), (4674, 0.0), (4675, 0.0), (4677, 0.0), (4678, 0.0), (4679, 0.0), (4680, 0.0), (4682, 0.0), (4683, 0.0), (4684, 0.0), (4685, 0.0), (4686, 0.0), (4687, 0.0), (4688, 0.0), (4689, 0.0), (4691, 0.0), (4692, 0.0), (4693, 0.0), (4695, 0.0), (4696, 0.0), (4697, 0.0), (4698, 0.0), (4699, 0.0), (4700, 0.0), (4701, 0.0), (4702, 0.0), (4703, 0.0), (4704, 0.0), (4705, 0.0), (4706, 0.0), (4707, 0.0), (4708, 0.0), (4709, 0.0), (4710, 0.0), (4711, 0.0), (4712, 0.0), (4713, 0.0), (4714, 0.0), (4715, 0.0), (4716, 0.0), (4717, 0.0), (4718, 0.0), (4719, 0.0), (4720, 0.0), (4721, 0.0), (4722, 0.0), (4723, 0.0), (4724, 0.0), (4725, 0.0), (4726, 0.0), (4727, 0.0), (4728, 0.0), (4729, 0.0), (4730, 0.0), (4731, 0.0), (4732, 0.0), (4733, 0.0), (4734, 0.0), (4735, 0.0), (4736, 0.0), (4737, 0.0), (4738, 0.0), (4739, 0.0), (4740, 0.0), (4741, 0.0), (4742, 0.0), (4743, 0.0), (4744, 0.0), (4745, 0.0), (4746, 0.0), (4748, 0.0), (4749, 0.0), (4750, 0.0), (4753, 0.0), (4754, 0.0), (4755, 0.0), (4756, 0.0), (4757, 0.0), (4758, 0.0), (4759, 0.0), (4761, 0.0), (4762, 0.0), (4763, 0.0), (4764, 0.0), (4765, 0.0), (4766, 0.0), (4767, 0.0), (4768, 0.0), (4769, 0.0), (4770, 0.0), (4771, 0.0), (4772, 0.0), (4773, 0.0), (4774, 0.0), (4775, 0.0), (4776, 0.0), (4777, 0.0), (4779, 0.0), (4780, 0.0), (4781, 0.0), (4782, 0.0), (4783, 0.0), (4784, 0.0), (4785, 0.0), (4786, 0.0), (4787, 0.0), (4788, 0.0), (4789, 0.0), (4790, 0.0), (4791, 0.0), (4792, 0.0), (4793, 0.0), (4794, 0.0), (4795, 0.0), (4796, 0.0), (4799, 0.0), (4800, 0.0), (4801, 0.0), (4802, 0.0), (4803, 0.0), (4804, 0.0), (4805, 0.0), (4806, 0.0), (4807, 0.0), (4808, 0.0), (4809, 0.0), (4810, 0.0), (4811, 0.0), (4812, 0.0), (4814, 0.0), (4815, 0.0), (4816, 0.0), (4818, 0.0), (4820, 0.0), (4821, 0.0), (4822, 0.0), (4823, 0.0), (4824, 0.0), (4825, 0.0), (4826, 0.0), (4827, 0.0), (4829, 0.0), (4830, 0.0), (4831, 0.0), (4832, 0.0), (4833, 0.0), (4834, 0.0), (4835, 0.0), (4836, 0.0), (4837, 0.0), (4839, 0.0), (4840, 0.0), (4841, 0.0), (4843, 0.0), (4844, 0.0), (4845, 0.0), (4846, 0.0), (4847, 0.0), (4848, 0.0), (4849, 0.0), (4850, 0.0), (4851, 0.0), (4852, 0.0), (4853, 0.0), (4855, 0.0), (4857, 0.0), (4858, 0.0), (4859, 0.0), (4860, 0.0), (4861, 0.0), (4863, 0.0), (4864, 0.0), (4865, 0.0), (4866, 0.0), (4867, 0.0), (4868, 0.0), (4869, 0.0), (4870, 0.0), (4871, 0.0), (4872, 0.0), (4873, 0.0), (4874, 0.0), (4875, 0.0), (4877, 0.0), (4878, 0.0), (4879, 0.0), (4881, 0.0), (4882, 0.0), (4883, 0.0), (4884, 0.0), (4885, 0.0), (4886, 0.0), (4887, 0.0), (4888, 0.0), (4890, 0.0), (4891, 0.0), (4892, 0.0), (4893, 0.0), (4896, 0.0), (4897, 0.0), (4898, 0.0), (4899, 0.0), (4900, 0.0), (4901, 0.0), (4902, 0.0), (4903, 0.0), (4904, 0.0), (4905, 0.0), (4906, 0.0), (4907, 0.0), (4908, 0.0), (4909, 0.0), (4910, 0.0), (4911, 0.0), (4912, 0.0), (4913, 0.0), (4915, 0.0), (4916, 0.0), (4917, 0.0), (4918, 0.0), (4919, 0.0), (4920, 0.0), (4921, 0.0), (4922, 0.0), (4923, 0.0), (4924, 0.0), (4925, 0.0), (4926, 0.0), (4927, 0.0), (4928, 0.0), (4929, 0.0), (4930, 0.0), (4931, 0.0), (4932, 0.0), (4933, 0.0), (4934, 0.0), (4935, 0.0), (4936, 0.0), (4937, 0.0), (4938, 0.0), (4939, 0.0), (4940, 0.0), (4941, 0.0), (4942, 0.0), (4943, 0.0), (4944, 0.0), (4945, 0.0), (4946, 0.0), (4947, 0.0), (4948, 0.0), (4949, 0.0), (4950, 0.0), (4951, 0.0), (4952, 0.0), (4953, 0.0), (4954, 0.0), (4955, 0.0), (4956, 0.0), (4957, 0.0), (4958, 0.0), (4959, 0.0), (4960, 0.0), (4961, 0.0), (4962, 0.0), (4963, 0.0), (4964, 0.0), (4965, 0.0), (4966, 0.0), (4967, 0.0), (4968, 0.0), (4969, 0.0), (4970, 0.0), (4971, 0.0), (4972, 0.0), (4973, 0.0), (4974, 0.0), (4975, 0.0), (4976, 0.0), (4977, 0.0), (4978, 0.0), (4979, 0.0), (4980, 0.0), (4981, 0.0), (4982, 0.0), (4983, 0.0), (4984, 0.0), (4985, 0.0), (4986, 0.0), (4987, 0.0), (4988, 0.0), (4989, 0.0), (4990, 0.0), (4991, 0.0), (4992, 0.0), (4993, 0.0), (4994, 0.0), (4995, 0.0), (4996, 0.0), (4997, 0.0), (4998, 0.0), (4999, 0.0), (5000, 0.0), (5001, 0.0), (5002, 0.0), (5003, 0.0), (5004, 0.0), (5005, 0.0), (5006, 0.0), (5007, 0.0), (5008, 0.0), (5009, 0.0), (5010, 0.0), (5011, 0.0), (5012, 0.0), (5013, 0.0), (5014, 0.0), (5015, 0.0), (5016, 0.0), (5017, 0.0), (5018, 0.0), (5019, 0.0), (5020, 0.0), (5021, 0.0), (5022, 0.0), (5023, 0.0), (5024, 0.0), (5025, 0.0), (5026, 0.0), (5027, 0.0), (5029, 0.0), (5030, 0.0), (5031, 0.0), (5032, 0.0), (5033, 0.0), (5034, 0.0), (5035, 0.0), (5036, 0.0), (5037, 0.0), (5038, 0.0), (5039, 0.0), (5040, 0.0), (5041, 0.0), (5042, 0.0)]\n"
          ]
        }
      ]
    },
    {
      "cell_type": "code",
      "source": [
        "i=1\n",
        "for movie in sorted_similar_index:\n",
        "  index=movie[0]\n",
        "  title_from_index=movies_data[movies_data.index==index][\"movie_title\"].values[0]\n",
        "  if(i<=30):\n",
        "    print(i,\"-\", title_from_index)\n",
        "    i=i+1"
      ],
      "metadata": {
        "colab": {
          "base_uri": "https://localhost:8080/"
        },
        "id": "Jtp9Yr2pKj05",
        "outputId": "516b07d4-e112-4242-b866-7734f61a2f8e"
      },
      "execution_count": 62,
      "outputs": [
        {
          "output_type": "stream",
          "name": "stdout",
          "text": [
            "1 - spider-man 2\n",
            "2 - spider-man\n",
            "3 - spider-man 3\n",
            "4 - spider-man 3\n",
            "5 - for love of the game\n",
            "6 - skyfall\n",
            "7 - skyfall\n",
            "8 - the amazing spider-man 2\n",
            "9 - spectre\n",
            "10 - army of darkness\n",
            "11 - the wild bunch\n",
            "12 - the family man\n",
            "13 - george of the jungle\n",
            "14 - evil dead ii\n",
            "15 - undivided\n",
            "16 - iron man\n",
            "17 - iron man 2\n",
            "18 - ant-man\n",
            "19 - iron man 3\n",
            "20 - the man from u.n.c.l.e.\n",
            "21 - the man with the golden gun\n",
            "22 - the amazing spider-man\n",
            "23 - american beauty\n",
            "24 - jarhead\n",
            "25 - pirates of the caribbean: dead man's chest\n",
            "26 - revolutionary road\n",
            "27 - the evil dead\n",
            "28 - i am sam\n",
            "29 - the out-of-towners\n",
            "30 - zathura: a space adventure\n"
          ]
        }
      ]
    },
    {
      "cell_type": "code",
      "source": [
        "movie_user=str(input(\"enter the movie:\"))\n",
        "all_movies_name=list(movies_data[\"movie_title\"])\n",
        "check_close_title=difflib.get_close_matches(movie_user,all_movies_name)\n",
        "closest_title_index=movies_data[movies_data.movie_title==check_close_title[0]][\"index\"].values[0]\n",
        "similarity_index=list(enumerate(similarty[closest_title_index]))\n",
        "sorted_similar_index=sorted(similarity_index,key=lambda x:x[1],reverse=True)\n",
        "i=1\n",
        "for movie in sorted_similar_index:\n",
        "  index=movie[0]\n",
        "  title_from_index=movies_data[movies_data.index==index][\"movie_title\"].values[0]\n",
        "  if(i<=30):\n",
        "    print(i,\"-\", title_from_index)\n",
        "    i=i+1"
      ],
      "metadata": {
        "colab": {
          "base_uri": "https://localhost:8080/"
        },
        "id": "S9ZDBw7GMsWM",
        "outputId": "76c7d770-966e-4f7b-cb1a-362f60063baf"
      },
      "execution_count": 63,
      "outputs": [
        {
          "output_type": "stream",
          "name": "stdout",
          "text": [
            "enter the movie:avenger\n",
            "1 - the avengers\n",
            "2 - the avengers\n",
            "3 - avengers: age of ultron\n",
            "4 - iron man 2\n",
            "5 - captain america: civil war\n",
            "6 - iron man\n",
            "7 - serenity\n",
            "8 - iron man 3\n",
            "9 - sherlock holmes\n",
            "10 - the iron giant\n",
            "11 - bowfinger\n",
            "12 - the judge\n",
            "13 - due date\n",
            "14 - a scanner darkly\n",
            "15 - sherlock holmes: a game of shadows\n",
            "16 - zodiac\n",
            "17 - the soloist\n",
            "18 - gothika\n",
            "19 - richard iii\n",
            "20 - tropic thunder\n",
            "21 - the shaggy dog\n",
            "22 - wonder boys\n",
            "23 - in dreams\n",
            "24 - charlie bartlett\n",
            "25 - lucky you\n",
            "26 - good night, and good luck.\n",
            "27 - home for the holidays\n",
            "28 - the lovers\n",
            "29 - the lovers\n",
            "30 - two girls and a guy\n"
          ]
        }
      ]
    }
  ]
}